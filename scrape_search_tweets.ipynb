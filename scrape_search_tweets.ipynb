{
 "cells": [
  {
   "cell_type": "markdown",
   "metadata": {},
   "source": [
    "# Get the Data"
   ]
  },
  {
   "cell_type": "code",
   "execution_count": 1,
   "metadata": {},
   "outputs": [],
   "source": [
    "#!pip install tweepy\n",
    "#!pip install tensorflow_hub\n",
    "#!pip install tensorflow_text"
   ]
  },
  {
   "cell_type": "code",
   "execution_count": 11,
   "metadata": {},
   "outputs": [],
   "source": [
    "import tweepy as tw\n",
    "from dotenv import load_dotenv\n",
    "import pandas as pd\n",
    "import random \n",
    "import os"
   ]
  },
  {
   "cell_type": "code",
   "execution_count": 3,
   "metadata": {},
   "outputs": [],
   "source": [
    "# For more information about Twitter API credentials please read README.md file\n",
    "# Get credentials from .env file\n",
    "\n",
    "load_dotenv()\n",
    "API_KEY = os.getenv('API_KEY')\n",
    "API_SECRET_KEY = os.getenv('API_SECRET_KEY')\n",
    "ACCESS_TOKEN = os.getenv('ACCESS_TOKEN')\n",
    "ACCESS_TOKEN_SECRET = os.getenv('ACCESS_TOKEN_SECRET')\n",
    "\n",
    "\n",
    "# authenticate\n",
    "auth = tw.OAuthHandler(API_KEY, API_SECRET_KEY)\n",
    "auth.set_access_token(ACCESS_TOKEN, ACCESS_TOKEN_SECRET)\n",
    "api = tw.API(auth, wait_on_rate_limit=True, wait_on_rate_limit_notify=True)\n"
   ]
  },
  {
   "cell_type": "code",
   "execution_count": 14,
   "metadata": {},
   "outputs": [
    {
     "output_type": "stream",
     "name": "stdout",
     "text": [
      "Total Tweets fetched: 100\n"
     ]
    }
   ],
   "source": [
    "#search_query = '#seattle -filter:retweets'\n",
    "test_query = '#seattle -filter:retweets'\n",
    "tweets = tw.Cursor(api.search, q=test_query, lan='en').items(100)\n",
    "tweets_list = []\n",
    "for tweet in tweets:\n",
    "    text = api.get_status(id=tweet.id, tweet_mode = 'extended').full_text\n",
    "\n",
    "    try:\n",
    "        data = [tweet.user.location, text, tweet.created_at]\n",
    "        data = tuple(data)\n",
    "        \n",
    "        tweets_list.append(data)\n",
    "\n",
    "    except tweepy.TweepError as e:\n",
    "        print(e.reason)\n",
    "        continue\n",
    "    except StopIteration:\n",
    "        break\n",
    "\n",
    "    \n",
    "print(\"Total Tweets fetched:\", len(tweets_list))"
   ]
  },
  {
   "cell_type": "code",
   "execution_count": 15,
   "metadata": {},
   "outputs": [
    {
     "output_type": "execute_result",
     "data": {
      "text/plain": [
       "               user_location  \\\n",
       "0                Seattle, WA   \n",
       "1   West Seattle, Washington   \n",
       "2                Seattle, WA   \n",
       "3                    Seattle   \n",
       "4                Seattle, WA   \n",
       "..                       ...   \n",
       "95               Seattle, WA   \n",
       "96               Seattle, WA   \n",
       "97               Seattle, WA   \n",
       "98              New York, NY   \n",
       "99               Seattle, WA   \n",
       "\n",
       "                                           tweet_text                date  \n",
       "0   46F in #Seattle w light rain &amp; 9.22mph win... 2021-03-19 01:00:36  \n",
       "1   These ✨NEW✨ crayons are great for kids and cat... 2021-03-19 01:00:04  \n",
       "2   “This is a big win for grocery store employees... 2021-03-19 00:56:17  \n",
       "3   Luxury penthouse is exceptionally designed and... 2021-03-19 00:53:15  \n",
       "4   6pm SEATTLE HERE &amp; NOW with John Yasutake\\... 2021-03-19 00:52:47  \n",
       "..                                                ...                 ...  \n",
       "95  SPD Asst Chief Steve Hirjak stops by Emerald C... 2021-03-18 22:00:51  \n",
       "96  50F in #Seattle w light rain &amp; 11.5mph win... 2021-03-18 22:00:36  \n",
       "97  Kilo is so KUTE! \\n\\n#gooddog #dogdaycare #dog... 2021-03-18 22:00:18  \n",
       "98  #Seattle #Father Ambushed and #Shot 9 Times 'K... 2021-03-18 21:59:51  \n",
       "99  WA males 13% more likely to be hospitalized/di... 2021-03-18 21:57:37  \n",
       "\n",
       "[100 rows x 3 columns]"
      ],
      "text/html": "<div>\n<style scoped>\n    .dataframe tbody tr th:only-of-type {\n        vertical-align: middle;\n    }\n\n    .dataframe tbody tr th {\n        vertical-align: top;\n    }\n\n    .dataframe thead th {\n        text-align: right;\n    }\n</style>\n<table border=\"1\" class=\"dataframe\">\n  <thead>\n    <tr style=\"text-align: right;\">\n      <th></th>\n      <th>user_location</th>\n      <th>tweet_text</th>\n      <th>date</th>\n    </tr>\n  </thead>\n  <tbody>\n    <tr>\n      <th>0</th>\n      <td>Seattle, WA</td>\n      <td>46F in #Seattle w light rain &amp;amp; 9.22mph win...</td>\n      <td>2021-03-19 01:00:36</td>\n    </tr>\n    <tr>\n      <th>1</th>\n      <td>West Seattle, Washington</td>\n      <td>These ✨NEW✨ crayons are great for kids and cat...</td>\n      <td>2021-03-19 01:00:04</td>\n    </tr>\n    <tr>\n      <th>2</th>\n      <td>Seattle, WA</td>\n      <td>“This is a big win for grocery store employees...</td>\n      <td>2021-03-19 00:56:17</td>\n    </tr>\n    <tr>\n      <th>3</th>\n      <td>Seattle</td>\n      <td>Luxury penthouse is exceptionally designed and...</td>\n      <td>2021-03-19 00:53:15</td>\n    </tr>\n    <tr>\n      <th>4</th>\n      <td>Seattle, WA</td>\n      <td>6pm SEATTLE HERE &amp;amp; NOW with John Yasutake\\...</td>\n      <td>2021-03-19 00:52:47</td>\n    </tr>\n    <tr>\n      <th>...</th>\n      <td>...</td>\n      <td>...</td>\n      <td>...</td>\n    </tr>\n    <tr>\n      <th>95</th>\n      <td>Seattle, WA</td>\n      <td>SPD Asst Chief Steve Hirjak stops by Emerald C...</td>\n      <td>2021-03-18 22:00:51</td>\n    </tr>\n    <tr>\n      <th>96</th>\n      <td>Seattle, WA</td>\n      <td>50F in #Seattle w light rain &amp;amp; 11.5mph win...</td>\n      <td>2021-03-18 22:00:36</td>\n    </tr>\n    <tr>\n      <th>97</th>\n      <td>Seattle, WA</td>\n      <td>Kilo is so KUTE! \\n\\n#gooddog #dogdaycare #dog...</td>\n      <td>2021-03-18 22:00:18</td>\n    </tr>\n    <tr>\n      <th>98</th>\n      <td>New York, NY</td>\n      <td>#Seattle #Father Ambushed and #Shot 9 Times 'K...</td>\n      <td>2021-03-18 21:59:51</td>\n    </tr>\n    <tr>\n      <th>99</th>\n      <td>Seattle, WA</td>\n      <td>WA males 13% more likely to be hospitalized/di...</td>\n      <td>2021-03-18 21:57:37</td>\n    </tr>\n  </tbody>\n</table>\n<p>100 rows × 3 columns</p>\n</div>"
     },
     "metadata": {},
     "execution_count": 15
    }
   ],
   "source": [
    "df = pd.DataFrame(tweets_list, columns = ['user_location','tweet_text', 'date'])\n",
    "df"
   ]
  },
  {
   "cell_type": "code",
   "execution_count": 16,
   "metadata": {},
   "outputs": [],
   "source": [
    "df.to_csv('tweets_df.csv')"
   ]
  },
  {
   "cell_type": "code",
   "execution_count": 17,
   "metadata": {},
   "outputs": [
    {
     "output_type": "execute_result",
     "data": {
      "text/plain": [
       "'“This is a big win for grocery store employees who have been critical and vulnerable frontline workers since the start of the pandemic,” #Seattle City Attorney Pete Holmes said. https://t.co/Ya3xMqIoB4'"
      ]
     },
     "metadata": {},
     "execution_count": 17
    }
   ],
   "source": [
    "df['tweet_text'][2]"
   ]
  },
  {
   "cell_type": "markdown",
   "metadata": {},
   "source": [
    "# Preprocess"
   ]
  },
  {
   "cell_type": "markdown",
   "metadata": {},
   "source": [
    "## Split train/test/validation data"
   ]
  },
  {
   "cell_type": "code",
   "execution_count": 18,
   "metadata": {},
   "outputs": [],
   "source": [
    "tweets_df = pd.read_csv('tweets_df.csv')"
   ]
  },
  {
   "cell_type": "code",
   "execution_count": 19,
   "metadata": {},
   "outputs": [
    {
     "output_type": "stream",
     "name": "stdout",
     "text": [
      "data_size: 100\ntrain_size: 60\ntest_size: 30\nvalidation_size: 10\n"
     ]
    }
   ],
   "source": [
    "data = tweets_df['tweet_text'].copy()\n",
    "data_size = len(tweets_df['tweet_text'])\n",
    "print('data_size:',data_size)\n",
    "\n",
    "train_size = int(round(data_size*0.6, 0))\n",
    "test_size = int(round(data_size*0.3, 0))\n",
    "validation_size = int(round(data_size*0.1, 0))\n",
    "\n",
    "print('train_size:', train_size)\n",
    "print('test_size:', test_size)\n",
    "print('validation_size:', validation_size)"
   ]
  },
  {
   "cell_type": "code",
   "execution_count": 20,
   "metadata": {},
   "outputs": [],
   "source": [
    "random.shuffle(data)\n",
    "\n",
    "train_data = list(data[:train_size])\n",
    "test_data = list(data[train_size:-validation_size])\n",
    "validation_data = list(data[-validation_size:])"
   ]
  },
  {
   "cell_type": "code",
   "execution_count": null,
   "metadata": {},
   "outputs": [],
   "source": []
  }
 ],
 "metadata": {
  "kernelspec": {
   "display_name": "Python 3",
   "language": "python",
   "name": "python3"
  },
  "language_info": {
   "codemirror_mode": {
    "name": "ipython",
    "version": 3
   },
   "file_extension": ".py",
   "mimetype": "text/x-python",
   "name": "python",
   "nbconvert_exporter": "python",
   "pygments_lexer": "ipython3",
   "version": "3.7.3-final"
  }
 },
 "nbformat": 4,
 "nbformat_minor": 4
}