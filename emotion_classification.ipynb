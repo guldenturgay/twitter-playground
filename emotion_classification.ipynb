{
 "metadata": {
  "language_info": {
   "codemirror_mode": {
    "name": "ipython",
    "version": 3
   },
   "file_extension": ".py",
   "mimetype": "text/x-python",
   "name": "python",
   "nbconvert_exporter": "python",
   "pygments_lexer": "ipython3",
   "version": "3.7.3"
  },
  "orig_nbformat": 2,
  "kernelspec": {
   "name": "python373jvsc74a57bd0f94c4a90f28a7fbd719ec002f9c893ca4c4858f29751705a64e5fc8dfb9b9070",
   "display_name": "Python 3.7.3 64-bit"
  },
  "metadata": {
   "interpreter": {
    "hash": "f94c4a90f28a7fbd719ec002f9c893ca4c4858f29751705a64e5fc8dfb9b9070"
   }
  }
 },
 "nbformat": 4,
 "nbformat_minor": 2,
 "cells": [
  {
   "cell_type": "code",
   "execution_count": 1,
   "metadata": {},
   "outputs": [],
   "source": [
    "# Import libraries and modules\n",
    "import pandas as pd\n",
    "import numpy as np\n",
    "import tensorflow as tf\n",
    "import tensorflow_hub as hub\n",
    "from sklearn.model_selection import train_test_split\n",
    "import keras\n",
    "import string\n",
    "import nltk\n",
    "from autocorrect import Speller\n",
    "import re\n",
    "import datetime, os\n"
   ]
  },
  {
   "cell_type": "code",
   "execution_count": 2,
   "metadata": {},
   "outputs": [
    {
     "output_type": "stream",
     "name": "stdout",
     "text": [
      "19107\n"
     ]
    },
    {
     "output_type": "execute_result",
     "data": {
      "text/plain": [
       "  emotion                                               text\n",
       "0   anger  he looks offended i tell perceived man man anger \n",
       "1   anger  we school room audiovisual classes we  watchin...\n",
       "2   anger          oh jim i told no pets it make mess house \n",
       "3   anger               getting terrible meals paying heaps \n",
       "4   anger  when drinking glass water i found cockroach wa..."
      ],
      "text/html": "<div>\n<style scoped>\n    .dataframe tbody tr th:only-of-type {\n        vertical-align: middle;\n    }\n\n    .dataframe tbody tr th {\n        vertical-align: top;\n    }\n\n    .dataframe thead th {\n        text-align: right;\n    }\n</style>\n<table border=\"1\" class=\"dataframe\">\n  <thead>\n    <tr style=\"text-align: right;\">\n      <th></th>\n      <th>emotion</th>\n      <th>text</th>\n    </tr>\n  </thead>\n  <tbody>\n    <tr>\n      <th>0</th>\n      <td>anger</td>\n      <td>he looks offended i tell perceived man man anger</td>\n    </tr>\n    <tr>\n      <th>1</th>\n      <td>anger</td>\n      <td>we school room audiovisual classes we  watchin...</td>\n    </tr>\n    <tr>\n      <th>2</th>\n      <td>anger</td>\n      <td>oh jim i told no pets it make mess house</td>\n    </tr>\n    <tr>\n      <th>3</th>\n      <td>anger</td>\n      <td>getting terrible meals paying heaps</td>\n    </tr>\n    <tr>\n      <th>4</th>\n      <td>anger</td>\n      <td>when drinking glass water i found cockroach wa...</td>\n    </tr>\n  </tbody>\n</table>\n</div>"
     },
     "metadata": {},
     "execution_count": 2
    }
   ],
   "source": [
    "data = pd.read_csv('datasets/dataset_complete_balanced.csv', encoding='utf8')\n",
    "print(len(data))\n",
    "data.head()"
   ]
  },
  {
   "cell_type": "code",
   "execution_count": 3,
   "metadata": {},
   "outputs": [
    {
     "output_type": "execute_result",
     "data": {
      "text/plain": [
       "                                                    text  emotion\n",
       "11632                                          you late         6\n",
       "9380                                           hey mary         4\n",
       "4518   the house fire i saved dog i afraid  fire verg...        2\n",
       "6388   making sexual pass cousin i close  personal re...        3\n",
       "1443   us banks also lost heavily furious bundesbank ...        0"
      ],
      "text/html": "<div>\n<style scoped>\n    .dataframe tbody tr th:only-of-type {\n        vertical-align: middle;\n    }\n\n    .dataframe tbody tr th {\n        vertical-align: top;\n    }\n\n    .dataframe thead th {\n        text-align: right;\n    }\n</style>\n<table border=\"1\" class=\"dataframe\">\n  <thead>\n    <tr style=\"text-align: right;\">\n      <th></th>\n      <th>text</th>\n      <th>emotion</th>\n    </tr>\n  </thead>\n  <tbody>\n    <tr>\n      <th>11632</th>\n      <td>you late</td>\n      <td>6</td>\n    </tr>\n    <tr>\n      <th>9380</th>\n      <td>hey mary</td>\n      <td>4</td>\n    </tr>\n    <tr>\n      <th>4518</th>\n      <td>the house fire i saved dog i afraid  fire verg...</td>\n      <td>2</td>\n    </tr>\n    <tr>\n      <th>6388</th>\n      <td>making sexual pass cousin i close  personal re...</td>\n      <td>3</td>\n    </tr>\n    <tr>\n      <th>1443</th>\n      <td>us banks also lost heavily furious bundesbank ...</td>\n      <td>0</td>\n    </tr>\n  </tbody>\n</table>\n</div>"
     },
     "metadata": {},
     "execution_count": 3
    }
   ],
   "source": [
    "from sklearn import preprocessing\n",
    "from sklearn.preprocessing import LabelEncoder\n",
    "\n",
    "data = data.sample(frac=1,random_state=42)\n",
    "data = data[['text','emotion']]\n",
    "data.emotion = LabelEncoder().fit_transform(data.emotion)\n",
    "data.head()"
   ]
  },
  {
   "cell_type": "code",
   "execution_count": 4,
   "metadata": {},
   "outputs": [
    {
     "output_type": "stream",
     "name": "stdout",
     "text": [
      "Using 11464 samples for training and 3822 for validation and 3821 for test\n"
     ]
    }
   ],
   "source": [
    "test_dataframe = data.sample(frac=0.2, random_state=1337)\n",
    "train_dataframe = data.drop(test_dataframe.index)\n",
    "\n",
    "val_dataframe = train_dataframe.sample(frac=0.25, random_state=1337)\n",
    "train_dataframe = train_dataframe.drop(val_dataframe.index)\n",
    "\n",
    "\n",
    "print(\"Using %d samples for training and %d for validation and %d for test\" % (len(train_dataframe), len(val_dataframe),len(test_dataframe)))"
   ]
  },
  {
   "cell_type": "code",
   "execution_count": 5,
   "metadata": {},
   "outputs": [],
   "source": [
    "def dataframe_to_dataset(dataframe):\n",
    "    data_copy = data.copy()\n",
    "    labels = data_copy.pop(\"emotion\")\n",
    "    ds = tf.data.Dataset.from_tensor_slices((dict(data_copy), labels))\n",
    "    ds = ds.shuffle(buffer_size=len(data_copy))\n",
    "    return ds\n",
    "\n",
    "\n",
    "train_ds = dataframe_to_dataset(train_dataframe)\n",
    "val_ds = dataframe_to_dataset(val_dataframe)\n",
    "test_ds = dataframe_to_dataset(test_dataframe)"
   ]
  },
  {
   "cell_type": "code",
   "execution_count": 6,
   "metadata": {},
   "outputs": [
    {
     "output_type": "stream",
     "name": "stdout",
     "text": [
      "Input: {'text': <tf.Tensor: shape=(), dtype=string, numpy=b'i felt joy i saw daughter separation twenty  days '>}\nTarget: tf.Tensor(5, shape=(), dtype=int32)\n"
     ]
    }
   ],
   "source": [
    "for x, y in train_ds.take(1):\n",
    "    print(\"Input:\", x)\n",
    "    print(\"Target:\", y)"
   ]
  },
  {
   "cell_type": "code",
   "execution_count": 7,
   "metadata": {},
   "outputs": [],
   "source": [
    "train_ds = train_ds.shuffle(10000).batch(1024)\n",
    "val_ds = val_ds.shuffle(10000).batch(1024)\n",
    "test_ds = test_ds.shuffle(10000).batch(1024)"
   ]
  },
  {
   "cell_type": "code",
   "execution_count": 8,
   "metadata": {},
   "outputs": [
    {
     "output_type": "stream",
     "name": "stdout",
     "text": [
      "Model: \"sequential\"\n_________________________________________________________________\nLayer (type)                 Output Shape              Param #   \n=================================================================\nkeras_layer (KerasLayer)     (None, 128)               124642688 \n_________________________________________________________________\ndense (Dense)                (None, 256)               33024     \n_________________________________________________________________\ndense_1 (Dense)              (None, 128)               32896     \n_________________________________________________________________\ndense_2 (Dense)              (None, 128)               16512     \n_________________________________________________________________\ndense_3 (Dense)              (None, 64)                8256      \n_________________________________________________________________\ndense_4 (Dense)              (None, 64)                4160      \n_________________________________________________________________\ndense_5 (Dense)              (None, 32)                2080      \n_________________________________________________________________\ndense_6 (Dense)              (None, 32)                1056      \n_________________________________________________________________\ndense_7 (Dense)              (None, 16)                528       \n_________________________________________________________________\ndense_8 (Dense)              (None, 10)                170       \n=================================================================\nTotal params: 124,741,370\nTrainable params: 98,682\nNon-trainable params: 124,642,688\n_________________________________________________________________\n"
     ]
    }
   ],
   "source": [
    "\n",
    "# Create embedding layer\n",
    "#hub_layer = hub.KerasLayer(embedding, input_shape=[], dtype=tf.string)\n",
    "model_new = keras.Sequential([\n",
    "    hub.KerasLayer(\"https://tfhub.dev/google/tf2-preview/nnlm-en-dim128-with-normalization/1\", dtype=tf.string, input_shape=[], output_shape=[128]),\n",
    "    keras.layers.Dense(256, activation='relu'),\n",
    "    keras.layers.Dense(128, activation='relu'),\n",
    "    keras.layers.Dense(128, activation='relu'),\n",
    "    keras.layers.Dense(64, activation='relu'),\n",
    "    keras.layers.Dense(64, activation='relu'),\n",
    "    keras.layers.Dense(32, activation='relu'),\n",
    "    keras.layers.Dense(32, activation='relu'),\n",
    "    keras.layers.Dense(16, activation='relu'),\n",
    "    keras.layers.Dense(10, activation='softmax')\n",
    "])\n",
    "\n",
    "model_new.summary()"
   ]
  },
  {
   "cell_type": "code",
   "execution_count": 9,
   "metadata": {},
   "outputs": [],
   "source": [
    "%load_ext tensorboard\n",
    "logdir = os.path.join(\"logs\", datetime.datetime.now().strftime(\"%Y%m%d-%H%M%S\"))\n",
    "\n",
    "tensorboard_cb = tf.keras.callbacks.TensorBoard(logdir, histogram_freq=1)\n"
   ]
  },
  {
   "cell_type": "code",
   "execution_count": 10,
   "metadata": {},
   "outputs": [],
   "source": [
    "from keras import callbacks\n",
    "\n",
    "\n",
    "# Exponantial Learning Rate Scheduler function\n",
    "def scheduler(epoch, lr):\n",
    "    if epoch < 5:\n",
    "        return lr\n",
    "    else:\n",
    "        return lr*tf.math.exp(-0.1)\n",
    "\n",
    "# Define early stopping to prevent overfit\n",
    "earlystopping = callbacks.EarlyStopping(monitor='val_accuracy',\n",
    "                                        mode='max',\n",
    "                                        patience=10,\n",
    "                                        restore_best_weights=True,\n",
    "                                        verbose=1)\n",
    "\n",
    "# Define lr scheduler to prevent overfit\n",
    "lr_scheduler = callbacks.LearningRateScheduler(scheduler, verbose=1)"
   ]
  },
  {
   "cell_type": "code",
   "execution_count": 11,
   "metadata": {},
   "outputs": [
    {
     "output_type": "stream",
     "name": "stdout",
     "text": [
      "Epoch 1/100\n",
      "19/19 [==============================] - 10s 405ms/step - loss: 2.2246 - accuracy: 0.1582 - val_loss: 1.9604 - val_accuracy: 0.2723\n",
      "Epoch 2/100\n",
      "19/19 [==============================] - 1s 68ms/step - loss: 1.9205 - accuracy: 0.2777 - val_loss: 1.7660 - val_accuracy: 0.3332\n",
      "Epoch 3/100\n",
      "19/19 [==============================] - 1s 50ms/step - loss: 1.7291 - accuracy: 0.3399 - val_loss: 1.6047 - val_accuracy: 0.3791\n",
      "Epoch 4/100\n",
      "19/19 [==============================] - 1s 48ms/step - loss: 1.6017 - accuracy: 0.3921 - val_loss: 1.5117 - val_accuracy: 0.4336\n",
      "Epoch 5/100\n",
      "19/19 [==============================] - 1s 76ms/step - loss: 1.5016 - accuracy: 0.4355 - val_loss: 1.4231 - val_accuracy: 0.4689\n",
      "Epoch 6/100\n",
      "19/19 [==============================] - 1s 38ms/step - loss: 1.4213 - accuracy: 0.4662 - val_loss: 1.3568 - val_accuracy: 0.4973\n",
      "Epoch 7/100\n",
      "19/19 [==============================] - 1s 37ms/step - loss: 1.3626 - accuracy: 0.5006 - val_loss: 1.3024 - val_accuracy: 0.5152\n",
      "Epoch 8/100\n",
      "19/19 [==============================] - 1s 55ms/step - loss: 1.3043 - accuracy: 0.5171 - val_loss: 1.2526 - val_accuracy: 0.5321\n",
      "Epoch 9/100\n",
      "19/19 [==============================] - 2s 82ms/step - loss: 1.2482 - accuracy: 0.5379 - val_loss: 1.1704 - val_accuracy: 0.5753\n",
      "Epoch 10/100\n",
      "19/19 [==============================] - 1s 37ms/step - loss: 1.1700 - accuracy: 0.5739 - val_loss: 1.1291 - val_accuracy: 0.5954\n",
      "Epoch 11/100\n",
      "19/19 [==============================] - 1s 59ms/step - loss: 1.1228 - accuracy: 0.5924 - val_loss: 1.0715 - val_accuracy: 0.6137\n",
      "Epoch 12/100\n",
      "19/19 [==============================] - 1s 34ms/step - loss: 1.0776 - accuracy: 0.6103 - val_loss: 1.0268 - val_accuracy: 0.6314\n",
      "Epoch 13/100\n",
      "19/19 [==============================] - 1s 51ms/step - loss: 1.0256 - accuracy: 0.6295 - val_loss: 0.9420 - val_accuracy: 0.6700\n",
      "Epoch 14/100\n",
      "19/19 [==============================] - 1s 74ms/step - loss: 0.9545 - accuracy: 0.6577 - val_loss: 1.0120 - val_accuracy: 0.6354\n",
      "Epoch 15/100\n",
      "19/19 [==============================] - 1s 34ms/step - loss: 0.9698 - accuracy: 0.6512 - val_loss: 0.9152 - val_accuracy: 0.6788\n",
      "Epoch 16/100\n",
      "19/19 [==============================] - 1s 59ms/step - loss: 0.8924 - accuracy: 0.6817 - val_loss: 0.8334 - val_accuracy: 0.7075\n",
      "Epoch 17/100\n",
      "19/19 [==============================] - 1s 52ms/step - loss: 0.8352 - accuracy: 0.7035 - val_loss: 0.8126 - val_accuracy: 0.7066\n",
      "Epoch 18/100\n",
      "19/19 [==============================] - 1s 32ms/step - loss: 0.7992 - accuracy: 0.7181 - val_loss: 0.7188 - val_accuracy: 0.7532\n",
      "Epoch 19/100\n",
      "19/19 [==============================] - 1s 54ms/step - loss: 0.7295 - accuracy: 0.7493 - val_loss: 0.6552 - val_accuracy: 0.7775\n",
      "Epoch 20/100\n",
      "19/19 [==============================] - 1s 36ms/step - loss: 0.6793 - accuracy: 0.7640 - val_loss: 0.6830 - val_accuracy: 0.7633\n",
      "Epoch 21/100\n",
      "19/19 [==============================] - 1s 38ms/step - loss: 0.6809 - accuracy: 0.7653 - val_loss: 0.6659 - val_accuracy: 0.7689\n",
      "Epoch 22/100\n",
      "19/19 [==============================] - 1s 49ms/step - loss: 0.6835 - accuracy: 0.7629 - val_loss: 0.6172 - val_accuracy: 0.7871\n",
      "Epoch 23/100\n",
      "19/19 [==============================] - 1s 43ms/step - loss: 0.6129 - accuracy: 0.7894 - val_loss: 0.5779 - val_accuracy: 0.7982\n",
      "Epoch 24/100\n",
      "19/19 [==============================] - 1s 42ms/step - loss: 0.6072 - accuracy: 0.7908 - val_loss: 0.5844 - val_accuracy: 0.8001\n",
      "Epoch 25/100\n",
      "19/19 [==============================] - 1s 58ms/step - loss: 0.5744 - accuracy: 0.8044 - val_loss: 0.5065 - val_accuracy: 0.8273\n",
      "Epoch 26/100\n",
      "19/19 [==============================] - 1s 45ms/step - loss: 0.5360 - accuracy: 0.8163 - val_loss: 0.4966 - val_accuracy: 0.8315\n",
      "Epoch 27/100\n",
      "19/19 [==============================] - 1s 53ms/step - loss: 0.5049 - accuracy: 0.8264 - val_loss: 0.4576 - val_accuracy: 0.8449\n",
      "Epoch 28/100\n",
      "19/19 [==============================] - 1s 40ms/step - loss: 0.4702 - accuracy: 0.8415 - val_loss: 0.4606 - val_accuracy: 0.8437\n",
      "Epoch 29/100\n",
      "19/19 [==============================] - 1s 35ms/step - loss: 0.4682 - accuracy: 0.8409 - val_loss: 0.4246 - val_accuracy: 0.8597\n",
      "Epoch 30/100\n",
      "19/19 [==============================] - 1s 35ms/step - loss: 0.4391 - accuracy: 0.8529 - val_loss: 0.3843 - val_accuracy: 0.8728\n",
      "Epoch 31/100\n",
      "19/19 [==============================] - 1s 34ms/step - loss: 0.4202 - accuracy: 0.8578 - val_loss: 0.3743 - val_accuracy: 0.8726\n",
      "Epoch 32/100\n",
      "19/19 [==============================] - 1s 42ms/step - loss: 0.4011 - accuracy: 0.8630 - val_loss: 0.3706 - val_accuracy: 0.8741\n",
      "Epoch 33/100\n",
      "19/19 [==============================] - 1s 62ms/step - loss: 0.4102 - accuracy: 0.8580 - val_loss: 0.3537 - val_accuracy: 0.8781\n",
      "Epoch 34/100\n",
      "19/19 [==============================] - 1s 48ms/step - loss: 0.3611 - accuracy: 0.8790 - val_loss: 0.3343 - val_accuracy: 0.8878\n",
      "Epoch 35/100\n",
      "19/19 [==============================] - 1s 45ms/step - loss: 0.3505 - accuracy: 0.8834 - val_loss: 0.3807 - val_accuracy: 0.8664\n",
      "Epoch 36/100\n",
      "19/19 [==============================] - 1s 36ms/step - loss: 0.3747 - accuracy: 0.8706 - val_loss: 0.3340 - val_accuracy: 0.8871\n",
      "Epoch 37/100\n",
      "19/19 [==============================] - 1s 34ms/step - loss: 0.3593 - accuracy: 0.8781 - val_loss: 0.3309 - val_accuracy: 0.8871\n",
      "Epoch 38/100\n",
      "19/19 [==============================] - 1s 38ms/step - loss: 0.3340 - accuracy: 0.8852 - val_loss: 0.2851 - val_accuracy: 0.9017\n",
      "Epoch 39/100\n",
      "19/19 [==============================] - 1s 45ms/step - loss: 0.3032 - accuracy: 0.8967 - val_loss: 0.2749 - val_accuracy: 0.9085\n",
      "Epoch 40/100\n",
      "19/19 [==============================] - 1s 53ms/step - loss: 0.2966 - accuracy: 0.8980 - val_loss: 0.2859 - val_accuracy: 0.9009\n",
      "Epoch 41/100\n",
      "19/19 [==============================] - 1s 39ms/step - loss: 0.2930 - accuracy: 0.8980 - val_loss: 0.3407 - val_accuracy: 0.8866\n",
      "Epoch 42/100\n",
      "19/19 [==============================] - 1s 37ms/step - loss: 0.3327 - accuracy: 0.8883 - val_loss: 0.3047 - val_accuracy: 0.8968\n",
      "Epoch 43/100\n",
      "19/19 [==============================] - 1s 39ms/step - loss: 0.3036 - accuracy: 0.8972 - val_loss: 0.2665 - val_accuracy: 0.9066\n",
      "Epoch 44/100\n",
      "19/19 [==============================] - 2s 86ms/step - loss: 0.2730 - accuracy: 0.9052 - val_loss: 0.2499 - val_accuracy: 0.9112\n",
      "Epoch 45/100\n",
      "19/19 [==============================] - 1s 43ms/step - loss: 0.2752 - accuracy: 0.9031 - val_loss: 0.2477 - val_accuracy: 0.9157\n",
      "Epoch 46/100\n",
      "19/19 [==============================] - 1s 57ms/step - loss: 0.2873 - accuracy: 0.9022 - val_loss: 0.2358 - val_accuracy: 0.9188\n",
      "Epoch 47/100\n",
      "19/19 [==============================] - 1s 38ms/step - loss: 0.2506 - accuracy: 0.9126 - val_loss: 0.2306 - val_accuracy: 0.9224\n",
      "Epoch 48/100\n",
      "19/19 [==============================] - 1s 35ms/step - loss: 0.2506 - accuracy: 0.9151 - val_loss: 0.2172 - val_accuracy: 0.9260\n",
      "Epoch 49/100\n",
      "19/19 [==============================] - 1s 36ms/step - loss: 0.2415 - accuracy: 0.9175 - val_loss: 0.2365 - val_accuracy: 0.9185\n",
      "Epoch 50/100\n",
      "19/19 [==============================] - 1s 44ms/step - loss: 0.2499 - accuracy: 0.9125 - val_loss: 0.2130 - val_accuracy: 0.9260\n",
      "Epoch 51/100\n",
      "19/19 [==============================] - 1s 52ms/step - loss: 0.2400 - accuracy: 0.9165 - val_loss: 0.2114 - val_accuracy: 0.9269\n",
      "Epoch 52/100\n",
      "19/19 [==============================] - 1s 40ms/step - loss: 0.2240 - accuracy: 0.9206 - val_loss: 0.2041 - val_accuracy: 0.9286\n",
      "Epoch 53/100\n",
      "19/19 [==============================] - 1s 47ms/step - loss: 0.2189 - accuracy: 0.9245 - val_loss: 0.2019 - val_accuracy: 0.9286\n",
      "Epoch 54/100\n",
      "19/19 [==============================] - 1s 45ms/step - loss: 0.2158 - accuracy: 0.9233 - val_loss: 0.2084 - val_accuracy: 0.9322\n",
      "Epoch 55/100\n",
      "19/19 [==============================] - 1s 42ms/step - loss: 0.2209 - accuracy: 0.9256 - val_loss: 0.2066 - val_accuracy: 0.9295\n",
      "Epoch 56/100\n",
      "19/19 [==============================] - 1s 35ms/step - loss: 0.2092 - accuracy: 0.9264 - val_loss: 0.1846 - val_accuracy: 0.9342\n",
      "Epoch 57/100\n",
      "19/19 [==============================] - 1s 32ms/step - loss: 0.1956 - accuracy: 0.9313 - val_loss: 0.1660 - val_accuracy: 0.9421\n",
      "Epoch 58/100\n",
      "19/19 [==============================] - 1s 34ms/step - loss: 0.1942 - accuracy: 0.9336 - val_loss: 0.2073 - val_accuracy: 0.9286\n",
      "Epoch 59/100\n",
      "19/19 [==============================] - 1s 48ms/step - loss: 0.2110 - accuracy: 0.9264 - val_loss: 0.1709 - val_accuracy: 0.9416\n",
      "Epoch 60/100\n",
      "19/19 [==============================] - 1s 34ms/step - loss: 0.1860 - accuracy: 0.9364 - val_loss: 0.1621 - val_accuracy: 0.9439\n",
      "Epoch 61/100\n",
      "19/19 [==============================] - 1s 49ms/step - loss: 0.1740 - accuracy: 0.9402 - val_loss: 0.1735 - val_accuracy: 0.9389\n",
      "Epoch 62/100\n",
      "19/19 [==============================] - 1s 61ms/step - loss: 0.1772 - accuracy: 0.9377 - val_loss: 0.1696 - val_accuracy: 0.9389\n",
      "Epoch 63/100\n",
      "19/19 [==============================] - 1s 42ms/step - loss: 0.1766 - accuracy: 0.9374 - val_loss: 0.1590 - val_accuracy: 0.9435\n",
      "Epoch 64/100\n",
      "19/19 [==============================] - 1s 51ms/step - loss: 0.1790 - accuracy: 0.9361 - val_loss: 0.1675 - val_accuracy: 0.9407\n",
      "Epoch 65/100\n",
      "19/19 [==============================] - 1s 39ms/step - loss: 0.1765 - accuracy: 0.9381 - val_loss: 0.1622 - val_accuracy: 0.9434\n",
      "Epoch 66/100\n",
      "19/19 [==============================] - 1s 36ms/step - loss: 0.1776 - accuracy: 0.9384 - val_loss: 0.1544 - val_accuracy: 0.9457\n",
      "Epoch 67/100\n",
      "19/19 [==============================] - 1s 41ms/step - loss: 0.1680 - accuracy: 0.9399 - val_loss: 0.1620 - val_accuracy: 0.9416\n",
      "Epoch 68/100\n",
      "19/19 [==============================] - 1s 40ms/step - loss: 0.1657 - accuracy: 0.9407 - val_loss: 0.1426 - val_accuracy: 0.9512\n",
      "Epoch 69/100\n",
      "19/19 [==============================] - 1s 56ms/step - loss: 0.1593 - accuracy: 0.9426 - val_loss: 0.1691 - val_accuracy: 0.9408\n",
      "Epoch 70/100\n",
      "19/19 [==============================] - 1s 65ms/step - loss: 0.1760 - accuracy: 0.9384 - val_loss: 0.1769 - val_accuracy: 0.9378\n",
      "Epoch 71/100\n",
      "19/19 [==============================] - 1s 44ms/step - loss: 0.1801 - accuracy: 0.9378 - val_loss: 0.1667 - val_accuracy: 0.9422\n",
      "Epoch 72/100\n",
      "19/19 [==============================] - 1s 43ms/step - loss: 0.1736 - accuracy: 0.9397 - val_loss: 0.1554 - val_accuracy: 0.9445\n",
      "Epoch 73/100\n",
      "19/19 [==============================] - 1s 41ms/step - loss: 0.1627 - accuracy: 0.9421 - val_loss: 0.1595 - val_accuracy: 0.9452\n",
      "Epoch 74/100\n",
      "19/19 [==============================] - 1s 45ms/step - loss: 0.1893 - accuracy: 0.9335 - val_loss: 0.1789 - val_accuracy: 0.9371\n",
      "Epoch 75/100\n",
      "19/19 [==============================] - 1s 36ms/step - loss: 0.1818 - accuracy: 0.9338 - val_loss: 0.1521 - val_accuracy: 0.9448\n",
      "Epoch 76/100\n",
      "19/19 [==============================] - 1s 42ms/step - loss: 0.1592 - accuracy: 0.9423 - val_loss: 0.1426 - val_accuracy: 0.9486\n",
      "Epoch 77/100\n",
      "19/19 [==============================] - 1s 40ms/step - loss: 0.1593 - accuracy: 0.9444 - val_loss: 0.1530 - val_accuracy: 0.9460\n",
      "Epoch 78/100\n",
      "19/19 [==============================] - 1s 49ms/step - loss: 0.1541 - accuracy: 0.9449 - val_loss: 0.1278 - val_accuracy: 0.9540\n",
      "Epoch 79/100\n",
      "19/19 [==============================] - 1s 59ms/step - loss: 0.1337 - accuracy: 0.9521 - val_loss: 0.1271 - val_accuracy: 0.9551\n",
      "Epoch 80/100\n",
      "19/19 [==============================] - 1s 49ms/step - loss: 0.1545 - accuracy: 0.9457 - val_loss: 0.1688 - val_accuracy: 0.9414\n",
      "Epoch 81/100\n",
      "19/19 [==============================] - 1s 39ms/step - loss: 0.1673 - accuracy: 0.9399 - val_loss: 0.1350 - val_accuracy: 0.9522\n",
      "Epoch 82/100\n",
      "19/19 [==============================] - 1s 34ms/step - loss: 0.1436 - accuracy: 0.9489 - val_loss: 0.1372 - val_accuracy: 0.9517\n",
      "Epoch 83/100\n",
      "19/19 [==============================] - 1s 61ms/step - loss: 0.1473 - accuracy: 0.9484 - val_loss: 0.1260 - val_accuracy: 0.9547\n",
      "Epoch 84/100\n",
      "19/19 [==============================] - 1s 40ms/step - loss: 0.1400 - accuracy: 0.9508 - val_loss: 0.1238 - val_accuracy: 0.9546\n",
      "Epoch 85/100\n",
      "19/19 [==============================] - 1s 46ms/step - loss: 0.1469 - accuracy: 0.9474 - val_loss: 0.1286 - val_accuracy: 0.9535\n",
      "Epoch 86/100\n",
      "19/19 [==============================] - 1s 45ms/step - loss: 0.1448 - accuracy: 0.9473 - val_loss: 0.1349 - val_accuracy: 0.9502\n",
      "Epoch 87/100\n",
      "19/19 [==============================] - 1s 60ms/step - loss: 0.1491 - accuracy: 0.9472 - val_loss: 0.1237 - val_accuracy: 0.9567\n",
      "Epoch 88/100\n",
      "19/19 [==============================] - 1s 46ms/step - loss: 0.1305 - accuracy: 0.9528 - val_loss: 0.1105 - val_accuracy: 0.9590\n",
      "Epoch 89/100\n",
      "19/19 [==============================] - 1s 63ms/step - loss: 0.1236 - accuracy: 0.9530 - val_loss: 0.1153 - val_accuracy: 0.9576\n",
      "Epoch 90/100\n",
      "19/19 [==============================] - 1s 59ms/step - loss: 0.1299 - accuracy: 0.9522 - val_loss: 0.1355 - val_accuracy: 0.9495\n",
      "Epoch 91/100\n",
      "19/19 [==============================] - 1s 46ms/step - loss: 0.1544 - accuracy: 0.9450 - val_loss: 0.1443 - val_accuracy: 0.9477\n",
      "Epoch 92/100\n",
      "19/19 [==============================] - 1s 33ms/step - loss: 0.1462 - accuracy: 0.9467 - val_loss: 0.1429 - val_accuracy: 0.9478\n",
      "Epoch 93/100\n",
      "19/19 [==============================] - 1s 34ms/step - loss: 0.1399 - accuracy: 0.9486 - val_loss: 0.1114 - val_accuracy: 0.9586\n",
      "Epoch 94/100\n",
      "19/19 [==============================] - 1s 39ms/step - loss: 0.1318 - accuracy: 0.9503 - val_loss: 0.1131 - val_accuracy: 0.9583\n",
      "Epoch 95/100\n",
      "19/19 [==============================] - 1s 46ms/step - loss: 0.1516 - accuracy: 0.9453 - val_loss: 0.1415 - val_accuracy: 0.9488\n",
      "Epoch 96/100\n",
      "19/19 [==============================] - 1s 59ms/step - loss: 0.1506 - accuracy: 0.9469 - val_loss: 0.1354 - val_accuracy: 0.9505\n",
      "Epoch 97/100\n",
      "19/19 [==============================] - 1s 42ms/step - loss: 0.1330 - accuracy: 0.9511 - val_loss: 0.1182 - val_accuracy: 0.9562\n",
      "Epoch 98/100\n",
      "19/19 [==============================] - 1s 47ms/step - loss: 0.1278 - accuracy: 0.9509 - val_loss: 0.1035 - val_accuracy: 0.9622\n",
      "Epoch 99/100\n",
      "19/19 [==============================] - 1s 47ms/step - loss: 0.1123 - accuracy: 0.9593 - val_loss: 0.0921 - val_accuracy: 0.9641\n",
      "Epoch 100/100\n",
      "19/19 [==============================] - 1s 47ms/step - loss: 0.1042 - accuracy: 0.9594 - val_loss: 0.0950 - val_accuracy: 0.9644\n"
     ]
    },
    {
     "output_type": "display_data",
     "data": {
      "text/plain": "Reusing TensorBoard on port 6006 (pid 17832), started 20:26:48 ago. (Use '!kill 17832' to kill it.)"
     },
     "metadata": {}
    }
   ],
   "source": [
    "model_new.compile(loss = 'sparse_categorical_crossentropy',\n",
    "              optimizer=tf.keras.optimizers.Adam(lr=0.006),\n",
    "              metrics=['accuracy'])\n",
    "\n",
    "history = model_new.fit(train_ds, epochs=100, validation_data=val_ds, callbacks = [tensorboard_cb])\n",
    "\n",
    "%tensorboard --logdir logs"
   ]
  },
  {
   "cell_type": "code",
   "execution_count": 14,
   "metadata": {},
   "outputs": [
    {
     "output_type": "stream",
     "name": "stdout",
     "text": [
      "INFO:tensorflow:Assets written to: emotion_analysis\\assets\n",
      "INFO:tensorflow:Assets written to: emotion_analysis\\assets\n"
     ]
    }
   ],
   "source": [
    "# Save the model\n",
    "model_new.save('emotion_analysis')"
   ]
  },
  {
   "cell_type": "code",
   "execution_count": 13,
   "metadata": {},
   "outputs": [
    {
     "output_type": "stream",
     "name": "stdout",
     "text": [
      "19/19 [==============================] - 0s 21ms/step - loss: 0.0950 - accuracy: 0.9644\n"
     ]
    }
   ],
   "source": [
    "results = model_new.evaluate(test_ds)\n"
   ]
  },
  {
   "cell_type": "code",
   "execution_count": null,
   "metadata": {},
   "outputs": [],
   "source": []
  }
 ]
}