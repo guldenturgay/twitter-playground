{
 "metadata": {
  "language_info": {
   "codemirror_mode": {
    "name": "ipython",
    "version": 3
   },
   "file_extension": ".py",
   "mimetype": "text/x-python",
   "name": "python",
   "nbconvert_exporter": "python",
   "pygments_lexer": "ipython3",
   "version": "3.7.3"
  },
  "orig_nbformat": 2,
  "kernelspec": {
   "name": "python373jvsc74a57bd0f94c4a90f28a7fbd719ec002f9c893ca4c4858f29751705a64e5fc8dfb9b9070",
   "display_name": "Python 3.7.3 64-bit"
  },
  "metadata": {
   "interpreter": {
    "hash": "f94c4a90f28a7fbd719ec002f9c893ca4c4858f29751705a64e5fc8dfb9b9070"
   }
  }
 },
 "nbformat": 4,
 "nbformat_minor": 2,
 "cells": [
  {
   "cell_type": "code",
   "execution_count": 1,
   "metadata": {},
   "outputs": [],
   "source": [
    "# Import libraries and modules\n",
    "import pandas as pd\n",
    "import numpy as np\n",
    "import tensorflow as tf\n",
    "import tensorflow_hub as hub\n",
    "from sklearn.model_selection import train_test_split\n",
    "import keras\n",
    "import string\n",
    "import nltk\n",
    "from autocorrect import Speller\n",
    "import re\n",
    "import datetime, os\n"
   ]
  },
  {
   "cell_type": "code",
   "execution_count": 2,
   "metadata": {},
   "outputs": [
    {
     "output_type": "stream",
     "name": "stdout",
     "text": [
      "19107\n"
     ]
    },
    {
     "output_type": "execute_result",
     "data": {
      "text/plain": [
       "  emotion                                               text\n",
       "0   anger  he looks offended i tell perceived man man anger \n",
       "1   anger  we school room audiovisual classes we  watchin...\n",
       "2   anger          oh jim i told no pets it make mess house \n",
       "3   anger               getting terrible meals paying heaps \n",
       "4   anger  when drinking glass water i found cockroach wa..."
      ],
      "text/html": "<div>\n<style scoped>\n    .dataframe tbody tr th:only-of-type {\n        vertical-align: middle;\n    }\n\n    .dataframe tbody tr th {\n        vertical-align: top;\n    }\n\n    .dataframe thead th {\n        text-align: right;\n    }\n</style>\n<table border=\"1\" class=\"dataframe\">\n  <thead>\n    <tr style=\"text-align: right;\">\n      <th></th>\n      <th>emotion</th>\n      <th>text</th>\n    </tr>\n  </thead>\n  <tbody>\n    <tr>\n      <th>0</th>\n      <td>anger</td>\n      <td>he looks offended i tell perceived man man anger</td>\n    </tr>\n    <tr>\n      <th>1</th>\n      <td>anger</td>\n      <td>we school room audiovisual classes we  watchin...</td>\n    </tr>\n    <tr>\n      <th>2</th>\n      <td>anger</td>\n      <td>oh jim i told no pets it make mess house</td>\n    </tr>\n    <tr>\n      <th>3</th>\n      <td>anger</td>\n      <td>getting terrible meals paying heaps</td>\n    </tr>\n    <tr>\n      <th>4</th>\n      <td>anger</td>\n      <td>when drinking glass water i found cockroach wa...</td>\n    </tr>\n  </tbody>\n</table>\n</div>"
     },
     "metadata": {},
     "execution_count": 2
    }
   ],
   "source": [
    "data = pd.read_csv('datasets/dataset_complete_balanced.csv', encoding='utf8')\n",
    "print(len(data))\n",
    "data.head()"
   ]
  },
  {
   "cell_type": "code",
   "execution_count": 3,
   "metadata": {},
   "outputs": [
    {
     "output_type": "execute_result",
     "data": {
      "text/plain": [
       "                                                    text  emotion\n",
       "11632                                          you late         6\n",
       "9380                                           hey mary         4\n",
       "4518   the house fire i saved dog i afraid  fire verg...        2\n",
       "6388   making sexual pass cousin i close  personal re...        3\n",
       "1443   us banks also lost heavily furious bundesbank ...        0"
      ],
      "text/html": "<div>\n<style scoped>\n    .dataframe tbody tr th:only-of-type {\n        vertical-align: middle;\n    }\n\n    .dataframe tbody tr th {\n        vertical-align: top;\n    }\n\n    .dataframe thead th {\n        text-align: right;\n    }\n</style>\n<table border=\"1\" class=\"dataframe\">\n  <thead>\n    <tr style=\"text-align: right;\">\n      <th></th>\n      <th>text</th>\n      <th>emotion</th>\n    </tr>\n  </thead>\n  <tbody>\n    <tr>\n      <th>11632</th>\n      <td>you late</td>\n      <td>6</td>\n    </tr>\n    <tr>\n      <th>9380</th>\n      <td>hey mary</td>\n      <td>4</td>\n    </tr>\n    <tr>\n      <th>4518</th>\n      <td>the house fire i saved dog i afraid  fire verg...</td>\n      <td>2</td>\n    </tr>\n    <tr>\n      <th>6388</th>\n      <td>making sexual pass cousin i close  personal re...</td>\n      <td>3</td>\n    </tr>\n    <tr>\n      <th>1443</th>\n      <td>us banks also lost heavily furious bundesbank ...</td>\n      <td>0</td>\n    </tr>\n  </tbody>\n</table>\n</div>"
     },
     "metadata": {},
     "execution_count": 3
    }
   ],
   "source": [
    "from sklearn import preprocessing\n",
    "from sklearn.preprocessing import LabelEncoder\n",
    "\n",
    "data = data.sample(frac=1,random_state=42)\n",
    "data = data[['text','emotion']]\n",
    "data.emotion = LabelEncoder().fit_transform(data.emotion)\n",
    "data.head()"
   ]
  },
  {
   "cell_type": "code",
   "execution_count": 4,
   "metadata": {},
   "outputs": [
    {
     "output_type": "stream",
     "name": "stdout",
     "text": [
      "Using 11464 samples for training and 3822 for validation and 3821 for test\n"
     ]
    }
   ],
   "source": [
    "test_dataframe = data.sample(frac=0.2, random_state=1337)\n",
    "train_dataframe = data.drop(test_dataframe.index)\n",
    "\n",
    "val_dataframe = train_dataframe.sample(frac=0.25, random_state=1337)\n",
    "train_dataframe = train_dataframe.drop(val_dataframe.index)\n",
    "\n",
    "\n",
    "print(\"Using %d samples for training and %d for validation and %d for test\" % (len(train_dataframe), len(val_dataframe),len(test_dataframe)))"
   ]
  },
  {
   "cell_type": "code",
   "execution_count": 5,
   "metadata": {},
   "outputs": [],
   "source": [
    "def dataframe_to_dataset(dataframe):\n",
    "    data_copy = data.copy()\n",
    "    labels = data_copy.pop(\"emotion\")\n",
    "    ds = tf.data.Dataset.from_tensor_slices((dict(data_copy), labels))\n",
    "    ds = ds.shuffle(buffer_size=len(data_copy))\n",
    "    return ds\n",
    "\n",
    "\n",
    "train_ds = dataframe_to_dataset(train_dataframe)\n",
    "val_ds = dataframe_to_dataset(val_dataframe)\n",
    "test_ds = dataframe_to_dataset(test_dataframe)"
   ]
  },
  {
   "cell_type": "code",
   "execution_count": 6,
   "metadata": {},
   "outputs": [
    {
     "output_type": "stream",
     "name": "stdout",
     "text": [
      "Input: {'text': <tf.Tensor: shape=(), dtype=string, numpy=b' i go could make '>}\nTarget: tf.Tensor(9, shape=(), dtype=int32)\n"
     ]
    }
   ],
   "source": [
    "for x, y in train_ds.take(1):\n",
    "    print(\"Input:\", x)\n",
    "    print(\"Target:\", y)"
   ]
  },
  {
   "cell_type": "code",
   "execution_count": 7,
   "metadata": {},
   "outputs": [],
   "source": [
    "train_ds = train_ds.shuffle(10000).batch(1024)\n",
    "val_ds = val_ds.shuffle(10000).batch(1024)\n",
    "test_ds = test_ds.shuffle(10000).batch(1024)"
   ]
  },
  {
   "cell_type": "code",
   "execution_count": 8,
   "metadata": {},
   "outputs": [
    {
     "output_type": "stream",
     "name": "stdout",
     "text": [
      "Model: \"sequential\"\n_________________________________________________________________\nLayer (type)                 Output Shape              Param #   \n=================================================================\nkeras_layer (KerasLayer)     (None, 128)               124642688 \n_________________________________________________________________\ndense (Dense)                (None, 256)               33024     \n_________________________________________________________________\ndense_1 (Dense)              (None, 128)               32896     \n_________________________________________________________________\ndense_2 (Dense)              (None, 64)                8256      \n_________________________________________________________________\ndense_3 (Dense)              (None, 64)                4160      \n_________________________________________________________________\ndense_4 (Dense)              (None, 32)                2080      \n_________________________________________________________________\ndense_5 (Dense)              (None, 32)                1056      \n_________________________________________________________________\ndense_6 (Dense)              (None, 16)                528       \n_________________________________________________________________\ndense_7 (Dense)              (None, 10)                170       \n=================================================================\nTotal params: 124,724,858\nTrainable params: 82,170\nNon-trainable params: 124,642,688\n_________________________________________________________________\n"
     ]
    }
   ],
   "source": [
    "\n",
    "# Create embedding layer\n",
    "#hub_layer = hub.KerasLayer(embedding, input_shape=[], dtype=tf.string)\n",
    "model_new = keras.Sequential([\n",
    "    hub.KerasLayer(\"https://tfhub.dev/google/tf2-preview/nnlm-en-dim128-with-normalization/1\", dtype=tf.string, input_shape=[], output_shape=[128]),\n",
    "    keras.layers.Dense(256, activation='relu'),\n",
    "    keras.layers.Dense(128, activation='relu'),\n",
    "    keras.layers.Dense(64, activation='relu'),\n",
    "    keras.layers.Dense(64, activation='relu'),\n",
    "    keras.layers.Dense(32, activation='relu'),\n",
    "    keras.layers.Dense(32, activation='relu'),\n",
    "    keras.layers.Dense(16, activation='relu'),\n",
    "    keras.layers.Dense(10, activation='softmax')\n",
    "])\n",
    "\n",
    "model_new.summary()"
   ]
  },
  {
   "cell_type": "code",
   "execution_count": 9,
   "metadata": {},
   "outputs": [],
   "source": [
    "%load_ext tensorboard\n",
    "logdir = os.path.join(\"logs\", datetime.datetime.now().strftime(\"%Y%m%d-%H%M%S\"))\n",
    "\n",
    "tensorboard_cb = tf.keras.callbacks.TensorBoard(logdir, histogram_freq=1)\n"
   ]
  },
  {
   "cell_type": "code",
   "execution_count": 10,
   "metadata": {},
   "outputs": [],
   "source": [
    "from keras import callbacks\n",
    "\n",
    "\n",
    "# Exponantial Learning Rate Scheduler function\n",
    "def scheduler(epoch, lr):\n",
    "    if epoch < 5:\n",
    "        return lr\n",
    "    else:\n",
    "        return lr*tf.math.exp(-0.1)\n",
    "\n",
    "# Define early stopping to prevent overfit\n",
    "earlystopping = callbacks.EarlyStopping(monitor='val_accuracy',\n",
    "                                        mode='max',\n",
    "                                        patience=10,\n",
    "                                        restore_best_weights=True,\n",
    "                                        verbose=1)\n",
    "\n",
    "# Define lr scheduler to prevent overfit\n",
    "lr_scheduler = callbacks.LearningRateScheduler(scheduler, verbose=1)"
   ]
  },
  {
   "cell_type": "code",
   "execution_count": 11,
   "metadata": {},
   "outputs": [
    {
     "output_type": "stream",
     "name": "stdout",
     "text": [
      "Epoch 1/100\n",
      "19/19 [==============================] - 3s 84ms/step - loss: 2.1875 - accuracy: 0.1723 - val_loss: 1.9894 - val_accuracy: 0.2380\n",
      "Epoch 2/100\n",
      "19/19 [==============================] - 1s 30ms/step - loss: 1.9430 - accuracy: 0.2610 - val_loss: 1.7955 - val_accuracy: 0.3030\n",
      "Epoch 3/100\n",
      "19/19 [==============================] - 1s 42ms/step - loss: 1.7624 - accuracy: 0.3160 - val_loss: 1.6618 - val_accuracy: 0.3657\n",
      "Epoch 4/100\n",
      "19/19 [==============================] - 1s 36ms/step - loss: 1.6241 - accuracy: 0.3868 - val_loss: 1.5376 - val_accuracy: 0.4237\n",
      "Epoch 5/100\n",
      "19/19 [==============================] - 1s 48ms/step - loss: 1.5155 - accuracy: 0.4310 - val_loss: 1.4312 - val_accuracy: 0.4687\n",
      "Epoch 6/100\n",
      "19/19 [==============================] - 1s 44ms/step - loss: 1.4255 - accuracy: 0.4669 - val_loss: 1.3584 - val_accuracy: 0.5036\n",
      "Epoch 7/100\n",
      "19/19 [==============================] - 1s 55ms/step - loss: 1.3535 - accuracy: 0.5036 - val_loss: 1.2781 - val_accuracy: 0.5324\n",
      "Epoch 8/100\n",
      "19/19 [==============================] - 1s 49ms/step - loss: 1.2743 - accuracy: 0.5322 - val_loss: 1.2296 - val_accuracy: 0.5518\n",
      "Epoch 9/100\n",
      "19/19 [==============================] - 1s 50ms/step - loss: 1.2329 - accuracy: 0.5537 - val_loss: 1.1717 - val_accuracy: 0.5743\n",
      "Epoch 10/100\n",
      "19/19 [==============================] - 1s 48ms/step - loss: 1.1713 - accuracy: 0.5703 - val_loss: 1.1581 - val_accuracy: 0.5790\n",
      "Epoch 11/100\n",
      "19/19 [==============================] - 1s 39ms/step - loss: 1.1299 - accuracy: 0.5972 - val_loss: 1.0572 - val_accuracy: 0.6186\n",
      "Epoch 12/100\n",
      "19/19 [==============================] - 1s 31ms/step - loss: 1.0524 - accuracy: 0.6215 - val_loss: 1.0039 - val_accuracy: 0.6447\n",
      "Epoch 13/100\n",
      "19/19 [==============================] - 1s 34ms/step - loss: 0.9995 - accuracy: 0.6403 - val_loss: 0.9292 - val_accuracy: 0.6772\n",
      "Epoch 14/100\n",
      "19/19 [==============================] - 1s 62ms/step - loss: 0.9550 - accuracy: 0.6629 - val_loss: 0.8752 - val_accuracy: 0.6913\n",
      "Epoch 15/100\n",
      "19/19 [==============================] - 1s 57ms/step - loss: 0.8952 - accuracy: 0.6807 - val_loss: 0.8097 - val_accuracy: 0.7200\n",
      "Epoch 16/100\n",
      "19/19 [==============================] - 1s 37ms/step - loss: 0.8215 - accuracy: 0.7124 - val_loss: 0.7665 - val_accuracy: 0.7339\n",
      "Epoch 17/100\n",
      "19/19 [==============================] - 1s 26ms/step - loss: 0.7916 - accuracy: 0.7248 - val_loss: 0.7316 - val_accuracy: 0.7483\n",
      "Epoch 18/100\n",
      "19/19 [==============================] - 1s 35ms/step - loss: 0.7615 - accuracy: 0.7342 - val_loss: 0.6850 - val_accuracy: 0.7692\n",
      "Epoch 19/100\n",
      "19/19 [==============================] - 1s 37ms/step - loss: 0.7017 - accuracy: 0.7576 - val_loss: 0.6394 - val_accuracy: 0.7832\n",
      "Epoch 20/100\n",
      "19/19 [==============================] - 1s 38ms/step - loss: 0.6629 - accuracy: 0.7677 - val_loss: 0.6037 - val_accuracy: 0.7934\n",
      "Epoch 21/100\n",
      "19/19 [==============================] - 1s 41ms/step - loss: 0.6501 - accuracy: 0.7738 - val_loss: 0.6024 - val_accuracy: 0.7902\n",
      "Epoch 22/100\n",
      "19/19 [==============================] - 1s 48ms/step - loss: 0.6101 - accuracy: 0.7907 - val_loss: 0.5722 - val_accuracy: 0.8044\n",
      "Epoch 23/100\n",
      "19/19 [==============================] - 1s 47ms/step - loss: 0.5950 - accuracy: 0.7948 - val_loss: 0.5268 - val_accuracy: 0.8232\n",
      "Epoch 24/100\n",
      "19/19 [==============================] - 1s 28ms/step - loss: 0.5529 - accuracy: 0.8082 - val_loss: 0.4672 - val_accuracy: 0.8419\n",
      "Epoch 25/100\n",
      "19/19 [==============================] - 1s 42ms/step - loss: 0.4811 - accuracy: 0.8341 - val_loss: 0.4289 - val_accuracy: 0.8560\n",
      "Epoch 26/100\n",
      "19/19 [==============================] - 1s 32ms/step - loss: 0.4506 - accuracy: 0.8465 - val_loss: 0.4116 - val_accuracy: 0.8609\n",
      "Epoch 27/100\n",
      "19/19 [==============================] - 1s 36ms/step - loss: 0.4388 - accuracy: 0.8495 - val_loss: 0.4190 - val_accuracy: 0.8560\n",
      "Epoch 28/100\n",
      "19/19 [==============================] - 1s 45ms/step - loss: 0.4416 - accuracy: 0.8464 - val_loss: 0.3651 - val_accuracy: 0.8798\n",
      "Epoch 29/100\n",
      "19/19 [==============================] - 1s 36ms/step - loss: 0.3926 - accuracy: 0.8698 - val_loss: 0.3456 - val_accuracy: 0.8845\n",
      "Epoch 30/100\n",
      "19/19 [==============================] - 1s 42ms/step - loss: 0.3522 - accuracy: 0.8806 - val_loss: 0.3301 - val_accuracy: 0.8885\n",
      "Epoch 31/100\n",
      "19/19 [==============================] - 1s 46ms/step - loss: 0.3405 - accuracy: 0.8849 - val_loss: 0.3078 - val_accuracy: 0.8974\n",
      "Epoch 32/100\n",
      "19/19 [==============================] - 1s 49ms/step - loss: 0.3410 - accuracy: 0.8849 - val_loss: 0.3228 - val_accuracy: 0.8906\n",
      "Epoch 33/100\n",
      "19/19 [==============================] - 1s 37ms/step - loss: 0.3440 - accuracy: 0.8811 - val_loss: 0.2975 - val_accuracy: 0.9006\n",
      "Epoch 34/100\n",
      "19/19 [==============================] - 1s 35ms/step - loss: 0.3233 - accuracy: 0.8917 - val_loss: 0.2694 - val_accuracy: 0.9107\n",
      "Epoch 35/100\n",
      "19/19 [==============================] - 1s 31ms/step - loss: 0.2957 - accuracy: 0.8981 - val_loss: 0.2717 - val_accuracy: 0.9078\n",
      "Epoch 36/100\n",
      "19/19 [==============================] - 1s 27ms/step - loss: 0.2954 - accuracy: 0.8993 - val_loss: 0.2602 - val_accuracy: 0.9131\n",
      "Epoch 37/100\n",
      "19/19 [==============================] - 1s 31ms/step - loss: 0.2936 - accuracy: 0.9002 - val_loss: 0.2707 - val_accuracy: 0.9071\n",
      "Epoch 38/100\n",
      "19/19 [==============================] - 1s 27ms/step - loss: 0.2768 - accuracy: 0.9076 - val_loss: 0.2450 - val_accuracy: 0.9178\n",
      "Epoch 39/100\n",
      "19/19 [==============================] - 0s 25ms/step - loss: 0.2649 - accuracy: 0.9126 - val_loss: 0.2500 - val_accuracy: 0.9148\n",
      "Epoch 40/100\n",
      "19/19 [==============================] - 1s 32ms/step - loss: 0.2506 - accuracy: 0.9137 - val_loss: 0.1958 - val_accuracy: 0.9348\n",
      "Epoch 41/100\n",
      "19/19 [==============================] - 0s 25ms/step - loss: 0.2307 - accuracy: 0.9213 - val_loss: 0.1941 - val_accuracy: 0.9351\n",
      "Epoch 42/100\n",
      "19/19 [==============================] - 1s 35ms/step - loss: 0.2129 - accuracy: 0.9263 - val_loss: 0.1926 - val_accuracy: 0.9354\n",
      "Epoch 43/100\n",
      "19/19 [==============================] - 1s 36ms/step - loss: 0.2255 - accuracy: 0.9231 - val_loss: 0.1937 - val_accuracy: 0.9356\n",
      "Epoch 44/100\n",
      "19/19 [==============================] - 1s 40ms/step - loss: 0.2225 - accuracy: 0.9258 - val_loss: 0.1937 - val_accuracy: 0.9340\n",
      "Epoch 45/100\n",
      "19/19 [==============================] - 1s 28ms/step - loss: 0.2231 - accuracy: 0.9233 - val_loss: 0.2151 - val_accuracy: 0.9257\n",
      "Epoch 46/100\n",
      "19/19 [==============================] - 1s 30ms/step - loss: 0.2319 - accuracy: 0.9190 - val_loss: 0.2123 - val_accuracy: 0.9265\n",
      "Epoch 47/100\n",
      "19/19 [==============================] - 1s 27ms/step - loss: 0.2176 - accuracy: 0.9231 - val_loss: 0.1711 - val_accuracy: 0.9407\n",
      "Epoch 48/100\n",
      "19/19 [==============================] - 1s 42ms/step - loss: 0.1991 - accuracy: 0.9305 - val_loss: 0.1707 - val_accuracy: 0.9421\n",
      "Epoch 49/100\n",
      "19/19 [==============================] - 1s 41ms/step - loss: 0.1913 - accuracy: 0.9359 - val_loss: 0.1604 - val_accuracy: 0.9462\n",
      "Epoch 50/100\n",
      "19/19 [==============================] - 1s 29ms/step - loss: 0.1905 - accuracy: 0.9335 - val_loss: 0.2032 - val_accuracy: 0.9293\n",
      "Epoch 51/100\n",
      "19/19 [==============================] - 1s 44ms/step - loss: 0.2099 - accuracy: 0.9282 - val_loss: 0.1616 - val_accuracy: 0.9453\n",
      "Epoch 52/100\n",
      "19/19 [==============================] - 1s 51ms/step - loss: 0.1887 - accuracy: 0.9345 - val_loss: 0.1694 - val_accuracy: 0.9410\n",
      "Epoch 53/100\n",
      "19/19 [==============================] - 1s 41ms/step - loss: 0.1802 - accuracy: 0.9359 - val_loss: 0.1573 - val_accuracy: 0.9458\n",
      "Epoch 54/100\n",
      "19/19 [==============================] - 1s 26ms/step - loss: 0.1684 - accuracy: 0.9415 - val_loss: 0.1490 - val_accuracy: 0.9487\n",
      "Epoch 55/100\n",
      "19/19 [==============================] - 0s 26ms/step - loss: 0.1652 - accuracy: 0.9412 - val_loss: 0.1405 - val_accuracy: 0.9506\n",
      "Epoch 56/100\n",
      "19/19 [==============================] - 1s 30ms/step - loss: 0.1648 - accuracy: 0.9421 - val_loss: 0.1581 - val_accuracy: 0.9451\n",
      "Epoch 57/100\n",
      "19/19 [==============================] - 1s 27ms/step - loss: 0.1787 - accuracy: 0.9369 - val_loss: 0.1647 - val_accuracy: 0.9427\n",
      "Epoch 58/100\n",
      "19/19 [==============================] - 1s 32ms/step - loss: 0.1621 - accuracy: 0.9438 - val_loss: 0.1496 - val_accuracy: 0.9469\n",
      "Epoch 59/100\n",
      "19/19 [==============================] - 1s 28ms/step - loss: 0.1511 - accuracy: 0.9471 - val_loss: 0.1472 - val_accuracy: 0.9483\n",
      "Epoch 60/100\n",
      "19/19 [==============================] - 1s 38ms/step - loss: 0.1608 - accuracy: 0.9410 - val_loss: 0.1393 - val_accuracy: 0.9500\n",
      "Epoch 61/100\n",
      "19/19 [==============================] - 1s 27ms/step - loss: 0.1539 - accuracy: 0.9472 - val_loss: 0.1387 - val_accuracy: 0.9506\n",
      "Epoch 62/100\n",
      "19/19 [==============================] - 1s 31ms/step - loss: 0.1476 - accuracy: 0.9472 - val_loss: 0.1458 - val_accuracy: 0.9468\n",
      "Epoch 63/100\n",
      "19/19 [==============================] - 1s 32ms/step - loss: 0.1511 - accuracy: 0.9465 - val_loss: 0.1245 - val_accuracy: 0.9550\n",
      "Epoch 64/100\n",
      "19/19 [==============================] - 1s 33ms/step - loss: 0.1363 - accuracy: 0.9519 - val_loss: 0.1323 - val_accuracy: 0.9524\n",
      "Epoch 65/100\n",
      "19/19 [==============================] - 1s 29ms/step - loss: 0.1449 - accuracy: 0.9487 - val_loss: 0.1274 - val_accuracy: 0.9549\n",
      "Epoch 66/100\n",
      "19/19 [==============================] - 1s 38ms/step - loss: 0.1503 - accuracy: 0.9468 - val_loss: 0.1289 - val_accuracy: 0.9535\n",
      "Epoch 67/100\n",
      "19/19 [==============================] - 1s 29ms/step - loss: 0.1651 - accuracy: 0.9401 - val_loss: 0.1612 - val_accuracy: 0.9437\n",
      "Epoch 68/100\n",
      "19/19 [==============================] - 1s 39ms/step - loss: 0.1881 - accuracy: 0.9330 - val_loss: 0.1646 - val_accuracy: 0.9414\n",
      "Epoch 69/100\n",
      "19/19 [==============================] - 1s 38ms/step - loss: 0.1854 - accuracy: 0.9331 - val_loss: 0.1360 - val_accuracy: 0.9501\n",
      "Epoch 70/100\n",
      "19/19 [==============================] - 1s 26ms/step - loss: 0.1599 - accuracy: 0.9437 - val_loss: 0.1416 - val_accuracy: 0.9501\n",
      "Epoch 71/100\n",
      "19/19 [==============================] - 1s 28ms/step - loss: 0.1424 - accuracy: 0.9495 - val_loss: 0.1234 - val_accuracy: 0.9555\n",
      "Epoch 72/100\n",
      "19/19 [==============================] - 1s 37ms/step - loss: 0.1485 - accuracy: 0.9462 - val_loss: 0.1317 - val_accuracy: 0.9524\n",
      "Epoch 73/100\n",
      "19/19 [==============================] - 1s 39ms/step - loss: 0.1379 - accuracy: 0.9490 - val_loss: 0.1302 - val_accuracy: 0.9532\n",
      "Epoch 74/100\n",
      "19/19 [==============================] - 1s 39ms/step - loss: 0.1355 - accuracy: 0.9497 - val_loss: 0.1126 - val_accuracy: 0.9579\n",
      "Epoch 75/100\n",
      "19/19 [==============================] - 1s 41ms/step - loss: 0.1241 - accuracy: 0.9551 - val_loss: 0.1169 - val_accuracy: 0.9576\n",
      "Epoch 76/100\n",
      "19/19 [==============================] - 1s 35ms/step - loss: 0.1201 - accuracy: 0.9573 - val_loss: 0.1089 - val_accuracy: 0.9598\n",
      "Epoch 77/100\n",
      "19/19 [==============================] - 1s 26ms/step - loss: 0.1254 - accuracy: 0.9536 - val_loss: 0.1125 - val_accuracy: 0.9580\n",
      "Epoch 78/100\n",
      "19/19 [==============================] - 1s 36ms/step - loss: 0.1279 - accuracy: 0.9545 - val_loss: 0.1127 - val_accuracy: 0.9583\n",
      "Epoch 79/100\n",
      "19/19 [==============================] - 1s 27ms/step - loss: 0.1276 - accuracy: 0.9524 - val_loss: 0.1074 - val_accuracy: 0.9606\n",
      "Epoch 80/100\n",
      "19/19 [==============================] - 1s 26ms/step - loss: 0.1147 - accuracy: 0.9567 - val_loss: 0.1083 - val_accuracy: 0.9595\n",
      "Epoch 81/100\n",
      "19/19 [==============================] - 1s 30ms/step - loss: 0.1151 - accuracy: 0.9573 - val_loss: 0.0985 - val_accuracy: 0.9619\n",
      "Epoch 82/100\n",
      "19/19 [==============================] - 1s 34ms/step - loss: 0.1103 - accuracy: 0.9590 - val_loss: 0.1067 - val_accuracy: 0.9595\n",
      "Epoch 83/100\n",
      "19/19 [==============================] - 1s 27ms/step - loss: 0.1200 - accuracy: 0.9538 - val_loss: 0.1052 - val_accuracy: 0.9598\n",
      "Epoch 84/100\n",
      "19/19 [==============================] - 1s 42ms/step - loss: 0.1240 - accuracy: 0.9554 - val_loss: 0.1247 - val_accuracy: 0.9549\n",
      "Epoch 85/100\n",
      "19/19 [==============================] - 1s 41ms/step - loss: 0.1494 - accuracy: 0.9481 - val_loss: 0.1540 - val_accuracy: 0.9439\n",
      "Epoch 86/100\n",
      "19/19 [==============================] - 1s 30ms/step - loss: 0.1488 - accuracy: 0.9474 - val_loss: 0.1172 - val_accuracy: 0.9566\n",
      "Epoch 87/100\n",
      "19/19 [==============================] - 1s 32ms/step - loss: 0.1394 - accuracy: 0.9472 - val_loss: 0.1303 - val_accuracy: 0.9521\n",
      "Epoch 88/100\n",
      "19/19 [==============================] - 1s 28ms/step - loss: 0.1465 - accuracy: 0.9447 - val_loss: 0.1229 - val_accuracy: 0.9550\n",
      "Epoch 89/100\n",
      "19/19 [==============================] - 1s 31ms/step - loss: 0.1342 - accuracy: 0.9494 - val_loss: 0.1231 - val_accuracy: 0.9550\n",
      "Epoch 90/100\n",
      "19/19 [==============================] - 1s 39ms/step - loss: 0.1372 - accuracy: 0.9487 - val_loss: 0.1149 - val_accuracy: 0.9567\n",
      "Epoch 91/100\n",
      "19/19 [==============================] - 1s 53ms/step - loss: 0.1278 - accuracy: 0.9522 - val_loss: 0.1175 - val_accuracy: 0.9553\n",
      "Epoch 92/100\n",
      "19/19 [==============================] - 1s 42ms/step - loss: 0.1242 - accuracy: 0.9544 - val_loss: 0.1005 - val_accuracy: 0.9616\n",
      "Epoch 93/100\n",
      "19/19 [==============================] - 1s 38ms/step - loss: 0.1121 - accuracy: 0.9571 - val_loss: 0.1105 - val_accuracy: 0.9581\n",
      "Epoch 94/100\n",
      "19/19 [==============================] - 1s 54ms/step - loss: 0.1151 - accuracy: 0.9568 - val_loss: 0.1012 - val_accuracy: 0.9617\n",
      "Epoch 95/100\n",
      "19/19 [==============================] - 1s 34ms/step - loss: 0.1108 - accuracy: 0.9585 - val_loss: 0.1139 - val_accuracy: 0.9570\n",
      "Epoch 96/100\n",
      "19/19 [==============================] - 1s 28ms/step - loss: 0.1165 - accuracy: 0.9567 - val_loss: 0.1049 - val_accuracy: 0.9599\n",
      "Epoch 97/100\n",
      "19/19 [==============================] - 1s 34ms/step - loss: 0.1228 - accuracy: 0.9537 - val_loss: 0.1183 - val_accuracy: 0.9559\n",
      "Epoch 98/100\n",
      "19/19 [==============================] - 1s 53ms/step - loss: 0.1274 - accuracy: 0.9554 - val_loss: 0.1198 - val_accuracy: 0.9542\n",
      "Epoch 99/100\n",
      "19/19 [==============================] - 1s 36ms/step - loss: 0.1279 - accuracy: 0.9520 - val_loss: 0.1104 - val_accuracy: 0.9588\n",
      "Epoch 100/100\n",
      "19/19 [==============================] - 1s 41ms/step - loss: 0.1385 - accuracy: 0.9489 - val_loss: 0.1076 - val_accuracy: 0.9602\n"
     ]
    },
    {
     "output_type": "display_data",
     "data": {
      "text/plain": "Reusing TensorBoard on port 6006 (pid 17832), started 19:00:56 ago. (Use '!kill 17832' to kill it.)"
     },
     "metadata": {}
    }
   ],
   "source": [
    "model_new.compile(loss = 'sparse_categorical_crossentropy',\n",
    "              optimizer=tf.keras.optimizers.Adam(lr=0.006),\n",
    "              metrics=['accuracy'])\n",
    "\n",
    "history = model_new.fit(train_ds, epochs=100, validation_data=val_ds, callbacks = [tensorboard_cb])\n",
    "\n",
    "%tensorboard --logdir logs"
   ]
  },
  {
   "cell_type": "code",
   "execution_count": 15,
   "metadata": {},
   "outputs": [
    {
     "output_type": "stream",
     "name": "stdout",
     "text": [
      "INFO:tensorflow:Assets written to: emotion_analysis\\assets\n",
      "INFO:tensorflow:Assets written to: emotion_analysis\\assets\n"
     ]
    }
   ],
   "source": [
    "# Save the model\n",
    "model_new.save('emotion_analysis')"
   ]
  },
  {
   "cell_type": "code",
   "execution_count": 14,
   "metadata": {},
   "outputs": [
    {
     "output_type": "stream",
     "name": "stdout",
     "text": [
      "WARNING:tensorflow:Model was constructed with shape (None,) for input KerasTensor(type_spec=TensorSpec(shape=(None,), dtype=tf.string, name='keras_layer_input'), name='keras_layer_input', description=\"created by layer 'keras_layer_input'\"), but it was called on an input with incompatible shape (None, None).\n",
      "WARNING:tensorflow:Model was constructed with shape (None,) for input KerasTensor(type_spec=TensorSpec(shape=(None,), dtype=tf.string, name='keras_layer_input'), name='keras_layer_input', description=\"created by layer 'keras_layer_input'\"), but it was called on an input with incompatible shape (None, None).\n"
     ]
    },
    {
     "output_type": "error",
     "ename": "ValueError",
     "evalue": "in user code:\n\n    C:\\Users\\Gulden\\AppData\\Local\\Programs\\Python\\Python37\\lib\\site-packages\\tensorflow\\python\\keras\\engine\\training.py:1233 test_function  *\n        return step_function(self, iterator)\n    C:\\Users\\Gulden\\AppData\\Local\\Programs\\Python\\Python37\\lib\\site-packages\\tensorflow_hub\\keras_layer.py:229 call  *\n        result = f()\n    C:\\Users\\Gulden\\AppData\\Local\\Programs\\Python\\Python37\\lib\\site-packages\\tensorflow\\python\\saved_model\\load.py:668 _call_attribute  **\n        return instance.__call__(*args, **kwargs)\n    C:\\Users\\Gulden\\AppData\\Local\\Programs\\Python\\Python37\\lib\\site-packages\\tensorflow\\python\\eager\\def_function.py:828 __call__\n        result = self._call(*args, **kwds)\n    C:\\Users\\Gulden\\AppData\\Local\\Programs\\Python\\Python37\\lib\\site-packages\\tensorflow\\python\\eager\\def_function.py:862 _call\n        results = self._stateful_fn(*args, **kwds)\n    C:\\Users\\Gulden\\AppData\\Local\\Programs\\Python\\Python37\\lib\\site-packages\\tensorflow\\python\\eager\\function.py:2941 __call__\n        filtered_flat_args) = self._maybe_define_function(args, kwargs)\n    C:\\Users\\Gulden\\AppData\\Local\\Programs\\Python\\Python37\\lib\\site-packages\\tensorflow\\python\\eager\\function.py:3314 _maybe_define_function\n        self._function_spec.canonicalize_function_inputs(*args, **kwargs)\n    C:\\Users\\Gulden\\AppData\\Local\\Programs\\Python\\Python37\\lib\\site-packages\\tensorflow\\python\\eager\\function.py:2704 canonicalize_function_inputs\n        inputs, self._input_signature, self._flat_input_signature)\n    C:\\Users\\Gulden\\AppData\\Local\\Programs\\Python\\Python37\\lib\\site-packages\\tensorflow\\python\\eager\\function.py:2806 _convert_inputs_to_signature\n        format_error_message(inputs, input_signature))\n\n    ValueError: Python inputs incompatible with input_signature:\n      inputs: (\n        Tensor(\"IteratorGetNext:0\", shape=(None, None), dtype=string))\n      input_signature: (\n        TensorSpec(shape=(None,), dtype=tf.string, name=None))\n",
     "traceback": [
      "\u001b[1;31m---------------------------------------------------------------------------\u001b[0m",
      "\u001b[1;31mValueError\u001b[0m                                Traceback (most recent call last)",
      "\u001b[1;32m<ipython-input-14-3441649eefc1>\u001b[0m in \u001b[0;36m<module>\u001b[1;34m\u001b[0m\n\u001b[1;32m----> 1\u001b[1;33m \u001b[0mresults\u001b[0m \u001b[1;33m=\u001b[0m \u001b[0mmodel_new\u001b[0m\u001b[1;33m.\u001b[0m\u001b[0mevaluate\u001b[0m\u001b[1;33m(\u001b[0m\u001b[0mtest_ds\u001b[0m\u001b[1;33m.\u001b[0m\u001b[0mbatch\u001b[0m\u001b[1;33m(\u001b[0m\u001b[1;36m1024\u001b[0m\u001b[1;33m)\u001b[0m\u001b[1;33m)\u001b[0m\u001b[1;33m\u001b[0m\u001b[1;33m\u001b[0m\u001b[0m\n\u001b[0m",
      "\u001b[1;32m~\\AppData\\Local\\Programs\\Python\\Python37\\lib\\site-packages\\tensorflow\\python\\keras\\engine\\training.py\u001b[0m in \u001b[0;36mevaluate\u001b[1;34m(self, x, y, batch_size, verbose, sample_weight, steps, callbacks, max_queue_size, workers, use_multiprocessing, return_dict)\u001b[0m\n\u001b[0;32m   1387\u001b[0m             \u001b[1;32mwith\u001b[0m \u001b[0mtrace\u001b[0m\u001b[1;33m.\u001b[0m\u001b[0mTrace\u001b[0m\u001b[1;33m(\u001b[0m\u001b[1;34m'test'\u001b[0m\u001b[1;33m,\u001b[0m \u001b[0mstep_num\u001b[0m\u001b[1;33m=\u001b[0m\u001b[0mstep\u001b[0m\u001b[1;33m,\u001b[0m \u001b[0m_r\u001b[0m\u001b[1;33m=\u001b[0m\u001b[1;36m1\u001b[0m\u001b[1;33m)\u001b[0m\u001b[1;33m:\u001b[0m\u001b[1;33m\u001b[0m\u001b[1;33m\u001b[0m\u001b[0m\n\u001b[0;32m   1388\u001b[0m               \u001b[0mcallbacks\u001b[0m\u001b[1;33m.\u001b[0m\u001b[0mon_test_batch_begin\u001b[0m\u001b[1;33m(\u001b[0m\u001b[0mstep\u001b[0m\u001b[1;33m)\u001b[0m\u001b[1;33m\u001b[0m\u001b[1;33m\u001b[0m\u001b[0m\n\u001b[1;32m-> 1389\u001b[1;33m               \u001b[0mtmp_logs\u001b[0m \u001b[1;33m=\u001b[0m \u001b[0mself\u001b[0m\u001b[1;33m.\u001b[0m\u001b[0mtest_function\u001b[0m\u001b[1;33m(\u001b[0m\u001b[0miterator\u001b[0m\u001b[1;33m)\u001b[0m\u001b[1;33m\u001b[0m\u001b[1;33m\u001b[0m\u001b[0m\n\u001b[0m\u001b[0;32m   1390\u001b[0m               \u001b[1;32mif\u001b[0m \u001b[0mdata_handler\u001b[0m\u001b[1;33m.\u001b[0m\u001b[0mshould_sync\u001b[0m\u001b[1;33m:\u001b[0m\u001b[1;33m\u001b[0m\u001b[1;33m\u001b[0m\u001b[0m\n\u001b[0;32m   1391\u001b[0m                 \u001b[0mcontext\u001b[0m\u001b[1;33m.\u001b[0m\u001b[0masync_wait\u001b[0m\u001b[1;33m(\u001b[0m\u001b[1;33m)\u001b[0m\u001b[1;33m\u001b[0m\u001b[1;33m\u001b[0m\u001b[0m\n",
      "\u001b[1;32m~\\AppData\\Local\\Programs\\Python\\Python37\\lib\\site-packages\\tensorflow\\python\\eager\\def_function.py\u001b[0m in \u001b[0;36m__call__\u001b[1;34m(self, *args, **kwds)\u001b[0m\n\u001b[0;32m    826\u001b[0m     \u001b[0mtracing_count\u001b[0m \u001b[1;33m=\u001b[0m \u001b[0mself\u001b[0m\u001b[1;33m.\u001b[0m\u001b[0mexperimental_get_tracing_count\u001b[0m\u001b[1;33m(\u001b[0m\u001b[1;33m)\u001b[0m\u001b[1;33m\u001b[0m\u001b[1;33m\u001b[0m\u001b[0m\n\u001b[0;32m    827\u001b[0m     \u001b[1;32mwith\u001b[0m \u001b[0mtrace\u001b[0m\u001b[1;33m.\u001b[0m\u001b[0mTrace\u001b[0m\u001b[1;33m(\u001b[0m\u001b[0mself\u001b[0m\u001b[1;33m.\u001b[0m\u001b[0m_name\u001b[0m\u001b[1;33m)\u001b[0m \u001b[1;32mas\u001b[0m \u001b[0mtm\u001b[0m\u001b[1;33m:\u001b[0m\u001b[1;33m\u001b[0m\u001b[1;33m\u001b[0m\u001b[0m\n\u001b[1;32m--> 828\u001b[1;33m       \u001b[0mresult\u001b[0m \u001b[1;33m=\u001b[0m \u001b[0mself\u001b[0m\u001b[1;33m.\u001b[0m\u001b[0m_call\u001b[0m\u001b[1;33m(\u001b[0m\u001b[1;33m*\u001b[0m\u001b[0margs\u001b[0m\u001b[1;33m,\u001b[0m \u001b[1;33m**\u001b[0m\u001b[0mkwds\u001b[0m\u001b[1;33m)\u001b[0m\u001b[1;33m\u001b[0m\u001b[1;33m\u001b[0m\u001b[0m\n\u001b[0m\u001b[0;32m    829\u001b[0m       \u001b[0mcompiler\u001b[0m \u001b[1;33m=\u001b[0m \u001b[1;34m\"xla\"\u001b[0m \u001b[1;32mif\u001b[0m \u001b[0mself\u001b[0m\u001b[1;33m.\u001b[0m\u001b[0m_experimental_compile\u001b[0m \u001b[1;32melse\u001b[0m \u001b[1;34m\"nonXla\"\u001b[0m\u001b[1;33m\u001b[0m\u001b[1;33m\u001b[0m\u001b[0m\n\u001b[0;32m    830\u001b[0m       \u001b[0mnew_tracing_count\u001b[0m \u001b[1;33m=\u001b[0m \u001b[0mself\u001b[0m\u001b[1;33m.\u001b[0m\u001b[0mexperimental_get_tracing_count\u001b[0m\u001b[1;33m(\u001b[0m\u001b[1;33m)\u001b[0m\u001b[1;33m\u001b[0m\u001b[1;33m\u001b[0m\u001b[0m\n",
      "\u001b[1;32m~\\AppData\\Local\\Programs\\Python\\Python37\\lib\\site-packages\\tensorflow\\python\\eager\\def_function.py\u001b[0m in \u001b[0;36m_call\u001b[1;34m(self, *args, **kwds)\u001b[0m\n\u001b[0;32m    860\u001b[0m       \u001b[1;31m# In this case we have not created variables on the first call. So we can\u001b[0m\u001b[1;33m\u001b[0m\u001b[1;33m\u001b[0m\u001b[1;33m\u001b[0m\u001b[0m\n\u001b[0;32m    861\u001b[0m       \u001b[1;31m# run the first trace but we should fail if variables are created.\u001b[0m\u001b[1;33m\u001b[0m\u001b[1;33m\u001b[0m\u001b[1;33m\u001b[0m\u001b[0m\n\u001b[1;32m--> 862\u001b[1;33m       \u001b[0mresults\u001b[0m \u001b[1;33m=\u001b[0m \u001b[0mself\u001b[0m\u001b[1;33m.\u001b[0m\u001b[0m_stateful_fn\u001b[0m\u001b[1;33m(\u001b[0m\u001b[1;33m*\u001b[0m\u001b[0margs\u001b[0m\u001b[1;33m,\u001b[0m \u001b[1;33m**\u001b[0m\u001b[0mkwds\u001b[0m\u001b[1;33m)\u001b[0m\u001b[1;33m\u001b[0m\u001b[1;33m\u001b[0m\u001b[0m\n\u001b[0m\u001b[0;32m    863\u001b[0m       \u001b[1;32mif\u001b[0m \u001b[0mself\u001b[0m\u001b[1;33m.\u001b[0m\u001b[0m_created_variables\u001b[0m\u001b[1;33m:\u001b[0m\u001b[1;33m\u001b[0m\u001b[1;33m\u001b[0m\u001b[0m\n\u001b[0;32m    864\u001b[0m         raise ValueError(\"Creating variables on a non-first call to a function\"\n",
      "\u001b[1;32m~\\AppData\\Local\\Programs\\Python\\Python37\\lib\\site-packages\\tensorflow\\python\\eager\\function.py\u001b[0m in \u001b[0;36m__call__\u001b[1;34m(self, *args, **kwargs)\u001b[0m\n\u001b[0;32m   2939\u001b[0m     \u001b[1;32mwith\u001b[0m \u001b[0mself\u001b[0m\u001b[1;33m.\u001b[0m\u001b[0m_lock\u001b[0m\u001b[1;33m:\u001b[0m\u001b[1;33m\u001b[0m\u001b[1;33m\u001b[0m\u001b[0m\n\u001b[0;32m   2940\u001b[0m       (graph_function,\n\u001b[1;32m-> 2941\u001b[1;33m        filtered_flat_args) = self._maybe_define_function(args, kwargs)\n\u001b[0m\u001b[0;32m   2942\u001b[0m     return graph_function._call_flat(\n\u001b[0;32m   2943\u001b[0m         filtered_flat_args, captured_inputs=graph_function.captured_inputs)  # pylint: disable=protected-access\n",
      "\u001b[1;32m~\\AppData\\Local\\Programs\\Python\\Python37\\lib\\site-packages\\tensorflow\\python\\eager\\function.py\u001b[0m in \u001b[0;36m_maybe_define_function\u001b[1;34m(self, args, kwargs)\u001b[0m\n\u001b[0;32m   3356\u001b[0m               call_context_key in self._function_cache.missed):\n\u001b[0;32m   3357\u001b[0m             return self._define_function_with_shape_relaxation(\n\u001b[1;32m-> 3358\u001b[1;33m                 args, kwargs, flat_args, filtered_flat_args, cache_key_context)\n\u001b[0m\u001b[0;32m   3359\u001b[0m \u001b[1;33m\u001b[0m\u001b[0m\n\u001b[0;32m   3360\u001b[0m           \u001b[0mself\u001b[0m\u001b[1;33m.\u001b[0m\u001b[0m_function_cache\u001b[0m\u001b[1;33m.\u001b[0m\u001b[0mmissed\u001b[0m\u001b[1;33m.\u001b[0m\u001b[0madd\u001b[0m\u001b[1;33m(\u001b[0m\u001b[0mcall_context_key\u001b[0m\u001b[1;33m)\u001b[0m\u001b[1;33m\u001b[0m\u001b[1;33m\u001b[0m\u001b[0m\n",
      "\u001b[1;32m~\\AppData\\Local\\Programs\\Python\\Python37\\lib\\site-packages\\tensorflow\\python\\eager\\function.py\u001b[0m in \u001b[0;36m_define_function_with_shape_relaxation\u001b[1;34m(self, args, kwargs, flat_args, filtered_flat_args, cache_key_context)\u001b[0m\n\u001b[0;32m   3278\u001b[0m \u001b[1;33m\u001b[0m\u001b[0m\n\u001b[0;32m   3279\u001b[0m     graph_function = self._create_graph_function(\n\u001b[1;32m-> 3280\u001b[1;33m         args, kwargs, override_flat_arg_shapes=relaxed_arg_shapes)\n\u001b[0m\u001b[0;32m   3281\u001b[0m     \u001b[0mself\u001b[0m\u001b[1;33m.\u001b[0m\u001b[0m_function_cache\u001b[0m\u001b[1;33m.\u001b[0m\u001b[0marg_relaxed\u001b[0m\u001b[1;33m[\u001b[0m\u001b[0mrank_only_cache_key\u001b[0m\u001b[1;33m]\u001b[0m \u001b[1;33m=\u001b[0m \u001b[0mgraph_function\u001b[0m\u001b[1;33m\u001b[0m\u001b[1;33m\u001b[0m\u001b[0m\n\u001b[0;32m   3282\u001b[0m \u001b[1;33m\u001b[0m\u001b[0m\n",
      "\u001b[1;32m~\\AppData\\Local\\Programs\\Python\\Python37\\lib\\site-packages\\tensorflow\\python\\eager\\function.py\u001b[0m in \u001b[0;36m_create_graph_function\u001b[1;34m(self, args, kwargs, override_flat_arg_shapes)\u001b[0m\n\u001b[0;32m   3204\u001b[0m             \u001b[0marg_names\u001b[0m\u001b[1;33m=\u001b[0m\u001b[0marg_names\u001b[0m\u001b[1;33m,\u001b[0m\u001b[1;33m\u001b[0m\u001b[1;33m\u001b[0m\u001b[0m\n\u001b[0;32m   3205\u001b[0m             \u001b[0moverride_flat_arg_shapes\u001b[0m\u001b[1;33m=\u001b[0m\u001b[0moverride_flat_arg_shapes\u001b[0m\u001b[1;33m,\u001b[0m\u001b[1;33m\u001b[0m\u001b[1;33m\u001b[0m\u001b[0m\n\u001b[1;32m-> 3206\u001b[1;33m             capture_by_value=self._capture_by_value),\n\u001b[0m\u001b[0;32m   3207\u001b[0m         \u001b[0mself\u001b[0m\u001b[1;33m.\u001b[0m\u001b[0m_function_attributes\u001b[0m\u001b[1;33m,\u001b[0m\u001b[1;33m\u001b[0m\u001b[1;33m\u001b[0m\u001b[0m\n\u001b[0;32m   3208\u001b[0m         \u001b[0mfunction_spec\u001b[0m\u001b[1;33m=\u001b[0m\u001b[0mself\u001b[0m\u001b[1;33m.\u001b[0m\u001b[0mfunction_spec\u001b[0m\u001b[1;33m,\u001b[0m\u001b[1;33m\u001b[0m\u001b[1;33m\u001b[0m\u001b[0m\n",
      "\u001b[1;32m~\\AppData\\Local\\Programs\\Python\\Python37\\lib\\site-packages\\tensorflow\\python\\framework\\func_graph.py\u001b[0m in \u001b[0;36mfunc_graph_from_py_func\u001b[1;34m(name, python_func, args, kwargs, signature, func_graph, autograph, autograph_options, add_control_dependencies, arg_names, op_return_value, collections, capture_by_value, override_flat_arg_shapes)\u001b[0m\n\u001b[0;32m    988\u001b[0m         \u001b[0m_\u001b[0m\u001b[1;33m,\u001b[0m \u001b[0moriginal_func\u001b[0m \u001b[1;33m=\u001b[0m \u001b[0mtf_decorator\u001b[0m\u001b[1;33m.\u001b[0m\u001b[0munwrap\u001b[0m\u001b[1;33m(\u001b[0m\u001b[0mpython_func\u001b[0m\u001b[1;33m)\u001b[0m\u001b[1;33m\u001b[0m\u001b[1;33m\u001b[0m\u001b[0m\n\u001b[0;32m    989\u001b[0m \u001b[1;33m\u001b[0m\u001b[0m\n\u001b[1;32m--> 990\u001b[1;33m       \u001b[0mfunc_outputs\u001b[0m \u001b[1;33m=\u001b[0m \u001b[0mpython_func\u001b[0m\u001b[1;33m(\u001b[0m\u001b[1;33m*\u001b[0m\u001b[0mfunc_args\u001b[0m\u001b[1;33m,\u001b[0m \u001b[1;33m**\u001b[0m\u001b[0mfunc_kwargs\u001b[0m\u001b[1;33m)\u001b[0m\u001b[1;33m\u001b[0m\u001b[1;33m\u001b[0m\u001b[0m\n\u001b[0m\u001b[0;32m    991\u001b[0m \u001b[1;33m\u001b[0m\u001b[0m\n\u001b[0;32m    992\u001b[0m       \u001b[1;31m# invariant: `func_outputs` contains only Tensors, CompositeTensors,\u001b[0m\u001b[1;33m\u001b[0m\u001b[1;33m\u001b[0m\u001b[1;33m\u001b[0m\u001b[0m\n",
      "\u001b[1;32m~\\AppData\\Local\\Programs\\Python\\Python37\\lib\\site-packages\\tensorflow\\python\\eager\\def_function.py\u001b[0m in \u001b[0;36mwrapped_fn\u001b[1;34m(*args, **kwds)\u001b[0m\n\u001b[0;32m    632\u001b[0m             \u001b[0mxla_context\u001b[0m\u001b[1;33m.\u001b[0m\u001b[0mExit\u001b[0m\u001b[1;33m(\u001b[0m\u001b[1;33m)\u001b[0m\u001b[1;33m\u001b[0m\u001b[1;33m\u001b[0m\u001b[0m\n\u001b[0;32m    633\u001b[0m         \u001b[1;32melse\u001b[0m\u001b[1;33m:\u001b[0m\u001b[1;33m\u001b[0m\u001b[1;33m\u001b[0m\u001b[0m\n\u001b[1;32m--> 634\u001b[1;33m           \u001b[0mout\u001b[0m \u001b[1;33m=\u001b[0m \u001b[0mweak_wrapped_fn\u001b[0m\u001b[1;33m(\u001b[0m\u001b[1;33m)\u001b[0m\u001b[1;33m.\u001b[0m\u001b[0m__wrapped__\u001b[0m\u001b[1;33m(\u001b[0m\u001b[1;33m*\u001b[0m\u001b[0margs\u001b[0m\u001b[1;33m,\u001b[0m \u001b[1;33m**\u001b[0m\u001b[0mkwds\u001b[0m\u001b[1;33m)\u001b[0m\u001b[1;33m\u001b[0m\u001b[1;33m\u001b[0m\u001b[0m\n\u001b[0m\u001b[0;32m    635\u001b[0m         \u001b[1;32mreturn\u001b[0m \u001b[0mout\u001b[0m\u001b[1;33m\u001b[0m\u001b[1;33m\u001b[0m\u001b[0m\n\u001b[0;32m    636\u001b[0m \u001b[1;33m\u001b[0m\u001b[0m\n",
      "\u001b[1;32m~\\AppData\\Local\\Programs\\Python\\Python37\\lib\\site-packages\\tensorflow\\python\\framework\\func_graph.py\u001b[0m in \u001b[0;36mwrapper\u001b[1;34m(*args, **kwargs)\u001b[0m\n\u001b[0;32m    975\u001b[0m           \u001b[1;32mexcept\u001b[0m \u001b[0mException\u001b[0m \u001b[1;32mas\u001b[0m \u001b[0me\u001b[0m\u001b[1;33m:\u001b[0m  \u001b[1;31m# pylint:disable=broad-except\u001b[0m\u001b[1;33m\u001b[0m\u001b[1;33m\u001b[0m\u001b[0m\n\u001b[0;32m    976\u001b[0m             \u001b[1;32mif\u001b[0m \u001b[0mhasattr\u001b[0m\u001b[1;33m(\u001b[0m\u001b[0me\u001b[0m\u001b[1;33m,\u001b[0m \u001b[1;34m\"ag_error_metadata\"\u001b[0m\u001b[1;33m)\u001b[0m\u001b[1;33m:\u001b[0m\u001b[1;33m\u001b[0m\u001b[1;33m\u001b[0m\u001b[0m\n\u001b[1;32m--> 977\u001b[1;33m               \u001b[1;32mraise\u001b[0m \u001b[0me\u001b[0m\u001b[1;33m.\u001b[0m\u001b[0mag_error_metadata\u001b[0m\u001b[1;33m.\u001b[0m\u001b[0mto_exception\u001b[0m\u001b[1;33m(\u001b[0m\u001b[0me\u001b[0m\u001b[1;33m)\u001b[0m\u001b[1;33m\u001b[0m\u001b[1;33m\u001b[0m\u001b[0m\n\u001b[0m\u001b[0;32m    978\u001b[0m             \u001b[1;32melse\u001b[0m\u001b[1;33m:\u001b[0m\u001b[1;33m\u001b[0m\u001b[1;33m\u001b[0m\u001b[0m\n\u001b[0;32m    979\u001b[0m               \u001b[1;32mraise\u001b[0m\u001b[1;33m\u001b[0m\u001b[1;33m\u001b[0m\u001b[0m\n",
      "\u001b[1;31mValueError\u001b[0m: in user code:\n\n    C:\\Users\\Gulden\\AppData\\Local\\Programs\\Python\\Python37\\lib\\site-packages\\tensorflow\\python\\keras\\engine\\training.py:1233 test_function  *\n        return step_function(self, iterator)\n    C:\\Users\\Gulden\\AppData\\Local\\Programs\\Python\\Python37\\lib\\site-packages\\tensorflow_hub\\keras_layer.py:229 call  *\n        result = f()\n    C:\\Users\\Gulden\\AppData\\Local\\Programs\\Python\\Python37\\lib\\site-packages\\tensorflow\\python\\saved_model\\load.py:668 _call_attribute  **\n        return instance.__call__(*args, **kwargs)\n    C:\\Users\\Gulden\\AppData\\Local\\Programs\\Python\\Python37\\lib\\site-packages\\tensorflow\\python\\eager\\def_function.py:828 __call__\n        result = self._call(*args, **kwds)\n    C:\\Users\\Gulden\\AppData\\Local\\Programs\\Python\\Python37\\lib\\site-packages\\tensorflow\\python\\eager\\def_function.py:862 _call\n        results = self._stateful_fn(*args, **kwds)\n    C:\\Users\\Gulden\\AppData\\Local\\Programs\\Python\\Python37\\lib\\site-packages\\tensorflow\\python\\eager\\function.py:2941 __call__\n        filtered_flat_args) = self._maybe_define_function(args, kwargs)\n    C:\\Users\\Gulden\\AppData\\Local\\Programs\\Python\\Python37\\lib\\site-packages\\tensorflow\\python\\eager\\function.py:3314 _maybe_define_function\n        self._function_spec.canonicalize_function_inputs(*args, **kwargs)\n    C:\\Users\\Gulden\\AppData\\Local\\Programs\\Python\\Python37\\lib\\site-packages\\tensorflow\\python\\eager\\function.py:2704 canonicalize_function_inputs\n        inputs, self._input_signature, self._flat_input_signature)\n    C:\\Users\\Gulden\\AppData\\Local\\Programs\\Python\\Python37\\lib\\site-packages\\tensorflow\\python\\eager\\function.py:2806 _convert_inputs_to_signature\n        format_error_message(inputs, input_signature))\n\n    ValueError: Python inputs incompatible with input_signature:\n      inputs: (\n        Tensor(\"IteratorGetNext:0\", shape=(None, None), dtype=string))\n      input_signature: (\n        TensorSpec(shape=(None,), dtype=tf.string, name=None))\n"
     ]
    }
   ],
   "source": [
    "results = model_new.evaluate(test_ds.batch(1024))\n"
   ]
  },
  {
   "cell_type": "code",
   "execution_count": null,
   "metadata": {},
   "outputs": [],
   "source": []
  }
 ]
}