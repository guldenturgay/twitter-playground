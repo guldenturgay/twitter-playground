{
 "metadata": {
  "language_info": {
   "codemirror_mode": {
    "name": "ipython",
    "version": 3
   },
   "file_extension": ".py",
   "mimetype": "text/x-python",
   "name": "python",
   "nbconvert_exporter": "python",
   "pygments_lexer": "ipython3",
   "version": "3.7.3"
  },
  "orig_nbformat": 2,
  "kernelspec": {
   "name": "python373jvsc74a57bd0f94c4a90f28a7fbd719ec002f9c893ca4c4858f29751705a64e5fc8dfb9b9070",
   "display_name": "Python 3.7.3 64-bit"
  },
  "metadata": {
   "interpreter": {
    "hash": "f94c4a90f28a7fbd719ec002f9c893ca4c4858f29751705a64e5fc8dfb9b9070"
   }
  }
 },
 "nbformat": 4,
 "nbformat_minor": 2,
 "cells": [
  {
   "cell_type": "code",
   "execution_count": 1,
   "metadata": {},
   "outputs": [],
   "source": [
    "# Import libraries and modules\n",
    "import pandas as pd\n",
    "import numpy as np\n",
    "import tensorflow as tf\n",
    "import tensorflow_hub as hub\n",
    "from sklearn.model_selection import train_test_split\n",
    "import keras\n",
    "import string\n",
    "import nltk\n",
    "from autocorrect import Speller\n",
    "import re\n",
    "import datetime, os\n"
   ]
  },
  {
   "cell_type": "code",
   "execution_count": 2,
   "metadata": {},
   "outputs": [
    {
     "output_type": "stream",
     "name": "stdout",
     "text": [
      "19107\n"
     ]
    },
    {
     "output_type": "execute_result",
     "data": {
      "text/plain": [
       "  emotion                                               text\n",
       "0   anger  he looks offended i tell perceived man man anger \n",
       "1   anger  we school room audiovisual classes we  watchin...\n",
       "2   anger          oh jim i told no pets it make mess house \n",
       "3   anger               getting terrible meals paying heaps \n",
       "4   anger  when drinking glass water i found cockroach wa..."
      ],
      "text/html": "<div>\n<style scoped>\n    .dataframe tbody tr th:only-of-type {\n        vertical-align: middle;\n    }\n\n    .dataframe tbody tr th {\n        vertical-align: top;\n    }\n\n    .dataframe thead th {\n        text-align: right;\n    }\n</style>\n<table border=\"1\" class=\"dataframe\">\n  <thead>\n    <tr style=\"text-align: right;\">\n      <th></th>\n      <th>emotion</th>\n      <th>text</th>\n    </tr>\n  </thead>\n  <tbody>\n    <tr>\n      <th>0</th>\n      <td>anger</td>\n      <td>he looks offended i tell perceived man man anger</td>\n    </tr>\n    <tr>\n      <th>1</th>\n      <td>anger</td>\n      <td>we school room audiovisual classes we  watchin...</td>\n    </tr>\n    <tr>\n      <th>2</th>\n      <td>anger</td>\n      <td>oh jim i told no pets it make mess house</td>\n    </tr>\n    <tr>\n      <th>3</th>\n      <td>anger</td>\n      <td>getting terrible meals paying heaps</td>\n    </tr>\n    <tr>\n      <th>4</th>\n      <td>anger</td>\n      <td>when drinking glass water i found cockroach wa...</td>\n    </tr>\n  </tbody>\n</table>\n</div>"
     },
     "metadata": {},
     "execution_count": 2
    }
   ],
   "source": [
    "data = pd.read_csv('datasets/dataset_complete_balanced.csv', encoding='utf8')\n",
    "print(len(data))\n",
    "data.head()"
   ]
  },
  {
   "cell_type": "code",
   "execution_count": 3,
   "metadata": {},
   "outputs": [
    {
     "output_type": "execute_result",
     "data": {
      "text/plain": [
       "                                                    text  emotion\n",
       "11632                                          you late         6\n",
       "9380                                           hey mary         4\n",
       "4518   the house fire i saved dog i afraid  fire verg...        2\n",
       "6388   making sexual pass cousin i close  personal re...        3\n",
       "1443   us banks also lost heavily furious bundesbank ...        0"
      ],
      "text/html": "<div>\n<style scoped>\n    .dataframe tbody tr th:only-of-type {\n        vertical-align: middle;\n    }\n\n    .dataframe tbody tr th {\n        vertical-align: top;\n    }\n\n    .dataframe thead th {\n        text-align: right;\n    }\n</style>\n<table border=\"1\" class=\"dataframe\">\n  <thead>\n    <tr style=\"text-align: right;\">\n      <th></th>\n      <th>text</th>\n      <th>emotion</th>\n    </tr>\n  </thead>\n  <tbody>\n    <tr>\n      <th>11632</th>\n      <td>you late</td>\n      <td>6</td>\n    </tr>\n    <tr>\n      <th>9380</th>\n      <td>hey mary</td>\n      <td>4</td>\n    </tr>\n    <tr>\n      <th>4518</th>\n      <td>the house fire i saved dog i afraid  fire verg...</td>\n      <td>2</td>\n    </tr>\n    <tr>\n      <th>6388</th>\n      <td>making sexual pass cousin i close  personal re...</td>\n      <td>3</td>\n    </tr>\n    <tr>\n      <th>1443</th>\n      <td>us banks also lost heavily furious bundesbank ...</td>\n      <td>0</td>\n    </tr>\n  </tbody>\n</table>\n</div>"
     },
     "metadata": {},
     "execution_count": 3
    }
   ],
   "source": [
    "from sklearn import preprocessing\n",
    "from sklearn.preprocessing import LabelEncoder\n",
    "\n",
    "data = data.sample(frac=1,random_state=42)\n",
    "data = data[['text','emotion']]\n",
    "data.emotion = LabelEncoder().fit_transform(data.emotion)\n",
    "data.head()"
   ]
  },
  {
   "cell_type": "code",
   "execution_count": 4,
   "metadata": {},
   "outputs": [
    {
     "output_type": "stream",
     "name": "stdout",
     "text": [
      "Using 11464 samples for training and 3822 for validation and 3821 for test\n"
     ]
    }
   ],
   "source": [
    "test_dataframe = data.sample(frac=0.2, random_state=1337)\n",
    "train_dataframe = data.drop(test_dataframe.index)\n",
    "\n",
    "val_dataframe = train_dataframe.sample(frac=0.25, random_state=1337)\n",
    "train_dataframe = train_dataframe.drop(val_dataframe.index)\n",
    "\n",
    "\n",
    "print(\"Using %d samples for training and %d for validation and %d for test\" % (len(train_dataframe), len(val_dataframe),len(test_dataframe)))"
   ]
  },
  {
   "cell_type": "code",
   "execution_count": 5,
   "metadata": {},
   "outputs": [],
   "source": [
    "def dataframe_to_dataset(dataframe):\n",
    "    data_copy = data.copy()\n",
    "    labels = data_copy.pop(\"emotion\")\n",
    "    ds = tf.data.Dataset.from_tensor_slices((dict(data_copy), labels))\n",
    "    ds = ds.shuffle(buffer_size=len(data_copy))\n",
    "    return ds\n",
    "\n",
    "\n",
    "train_ds = dataframe_to_dataset(train_dataframe)\n",
    "val_ds = dataframe_to_dataset(val_dataframe)\n",
    "test_ds = dataframe_to_dataset(test_dataframe)"
   ]
  },
  {
   "cell_type": "code",
   "execution_count": 6,
   "metadata": {},
   "outputs": [
    {
     "output_type": "stream",
     "name": "stdout",
     "text": [
      "Input: {'text': <tf.Tensor: shape=(), dtype=string, numpy=b'at funeral uncle i one bearers i  familiar etiquette acted tactlessly  ignorance '>}\nTarget: tf.Tensor(8, shape=(), dtype=int32)\n"
     ]
    }
   ],
   "source": [
    "for x, y in train_ds.take(1):\n",
    "    print(\"Input:\", x)\n",
    "    print(\"Target:\", y)"
   ]
  },
  {
   "cell_type": "code",
   "execution_count": 7,
   "metadata": {},
   "outputs": [],
   "source": [
    "train_ds = train_ds.shuffle(10000).batch(1024)\n",
    "val_ds = val_ds.shuffle(10000).batch(1024)\n",
    "test_ds = test_ds.shuffle(10000).batch(1024)"
   ]
  },
  {
   "cell_type": "code",
   "execution_count": 8,
   "metadata": {},
   "outputs": [
    {
     "output_type": "stream",
     "name": "stdout",
     "text": [
      "Model: \"sequential\"\n_________________________________________________________________\nLayer (type)                 Output Shape              Param #   \n=================================================================\nkeras_layer (KerasLayer)     (None, 128)               124642688 \n_________________________________________________________________\ndense (Dense)                (None, 256)               33024     \n_________________________________________________________________\ndense_1 (Dense)              (None, 128)               32896     \n_________________________________________________________________\ndense_2 (Dense)              (None, 64)                8256      \n_________________________________________________________________\ndense_3 (Dense)              (None, 32)                2080      \n_________________________________________________________________\ndense_4 (Dense)              (None, 32)                1056      \n_________________________________________________________________\ndense_5 (Dense)              (None, 16)                528       \n_________________________________________________________________\ndense_6 (Dense)              (None, 10)                170       \n=================================================================\nTotal params: 124,720,698\nTrainable params: 78,010\nNon-trainable params: 124,642,688\n_________________________________________________________________\n"
     ]
    }
   ],
   "source": [
    "\n",
    "# Create embedding layer\n",
    "#hub_layer = hub.KerasLayer(embedding, input_shape=[], dtype=tf.string)\n",
    "model_new = keras.Sequential([\n",
    "    hub.KerasLayer(\"https://tfhub.dev/google/tf2-preview/nnlm-en-dim128-with-normalization/1\", dtype=tf.string, input_shape=[], output_shape=[128]),\n",
    "    keras.layers.Dense(256, activation='relu'),\n",
    "    keras.layers.Dense(128, activation='relu'),\n",
    "    keras.layers.Dense(64, activation='relu'),\n",
    "    keras.layers.Dense(32, activation='relu'),\n",
    "    keras.layers.Dense(32, activation='relu'),\n",
    "    keras.layers.Dense(16, activation='relu'),\n",
    "    keras.layers.Dense(10, activation='softmax')\n",
    "])\n",
    "\n",
    "model_new.summary()"
   ]
  },
  {
   "cell_type": "code",
   "execution_count": 9,
   "metadata": {},
   "outputs": [],
   "source": [
    "%load_ext tensorboard\n",
    "logdir = os.path.join(\"logs\", datetime.datetime.now().strftime(\"%Y%m%d-%H%M%S\"))\n",
    "\n",
    "tensorboard_cb = tf.keras.callbacks.TensorBoard(logdir, histogram_freq=1)\n"
   ]
  },
  {
   "cell_type": "code",
   "execution_count": 10,
   "metadata": {},
   "outputs": [],
   "source": [
    "from keras import callbacks\n",
    "\n",
    "\n",
    "# Exponantial Learning Rate Scheduler function\n",
    "def scheduler(epoch, lr):\n",
    "    if epoch < 5:\n",
    "        return lr\n",
    "    else:\n",
    "        return lr*tf.math.exp(-0.1)\n",
    "\n",
    "# Define early stopping to prevent overfit\n",
    "earlystopping = callbacks.EarlyStopping(monitor='val_accuracy',\n",
    "                                        mode='max',\n",
    "                                        patience=10,\n",
    "                                        restore_best_weights=True,\n",
    "                                        verbose=1)\n",
    "\n",
    "# Define lr scheduler to prevent overfit\n",
    "lr_scheduler = callbacks.LearningRateScheduler(scheduler, verbose=1)"
   ]
  },
  {
   "cell_type": "code",
   "execution_count": 11,
   "metadata": {},
   "outputs": [
    {
     "output_type": "stream",
     "name": "stdout",
     "text": [
      "Epoch 1/100\n",
      "19/19 [==============================] - 3s 112ms/step - loss: 2.1714 - accuracy: 0.1755 - val_loss: 1.9018 - val_accuracy: 0.2724\n",
      "Epoch 2/100\n",
      "19/19 [==============================] - 1s 31ms/step - loss: 1.8547 - accuracy: 0.2869 - val_loss: 1.7130 - val_accuracy: 0.3531\n",
      "Epoch 3/100\n",
      "19/19 [==============================] - 1s 30ms/step - loss: 1.6764 - accuracy: 0.3695 - val_loss: 1.5556 - val_accuracy: 0.4240\n",
      "Epoch 4/100\n",
      "19/19 [==============================] - 1s 31ms/step - loss: 1.5431 - accuracy: 0.4238 - val_loss: 1.4625 - val_accuracy: 0.4691\n",
      "Epoch 5/100\n",
      "19/19 [==============================] - 1s 28ms/step - loss: 1.4446 - accuracy: 0.4704 - val_loss: 1.3635 - val_accuracy: 0.5024\n",
      "Epoch 6/100\n",
      "19/19 [==============================] - 1s 27ms/step - loss: 1.3742 - accuracy: 0.4969 - val_loss: 1.3089 - val_accuracy: 0.5263\n",
      "Epoch 7/100\n",
      "19/19 [==============================] - 1s 33ms/step - loss: 1.3114 - accuracy: 0.5198 - val_loss: 1.2349 - val_accuracy: 0.5496\n",
      "Epoch 8/100\n",
      "19/19 [==============================] - 1s 47ms/step - loss: 1.2543 - accuracy: 0.5409 - val_loss: 1.1725 - val_accuracy: 0.5747\n",
      "Epoch 9/100\n",
      "19/19 [==============================] - 1s 37ms/step - loss: 1.1816 - accuracy: 0.5680 - val_loss: 1.1707 - val_accuracy: 0.5754\n",
      "Epoch 10/100\n",
      "19/19 [==============================] - 1s 41ms/step - loss: 1.1497 - accuracy: 0.5820 - val_loss: 1.0539 - val_accuracy: 0.6211\n",
      "Epoch 11/100\n",
      "19/19 [==============================] - 1s 32ms/step - loss: 1.0712 - accuracy: 0.6163 - val_loss: 1.0210 - val_accuracy: 0.6324\n",
      "Epoch 12/100\n",
      "19/19 [==============================] - 1s 29ms/step - loss: 1.0070 - accuracy: 0.6374 - val_loss: 0.9512 - val_accuracy: 0.6610\n",
      "Epoch 13/100\n",
      "19/19 [==============================] - 1s 29ms/step - loss: 0.9571 - accuracy: 0.6595 - val_loss: 0.9163 - val_accuracy: 0.6685\n",
      "Epoch 14/100\n",
      "19/19 [==============================] - 1s 33ms/step - loss: 0.9076 - accuracy: 0.6722 - val_loss: 0.8196 - val_accuracy: 0.7162\n",
      "Epoch 15/100\n",
      "19/19 [==============================] - 1s 40ms/step - loss: 0.8256 - accuracy: 0.7076 - val_loss: 0.7582 - val_accuracy: 0.7374\n",
      "Epoch 16/100\n",
      "19/19 [==============================] - 1s 37ms/step - loss: 0.7873 - accuracy: 0.7211 - val_loss: 0.7093 - val_accuracy: 0.7578\n",
      "Epoch 17/100\n",
      "19/19 [==============================] - 1s 38ms/step - loss: 0.7180 - accuracy: 0.7513 - val_loss: 0.7217 - val_accuracy: 0.7471\n",
      "Epoch 18/100\n",
      "19/19 [==============================] - 1s 30ms/step - loss: 0.7201 - accuracy: 0.7465 - val_loss: 0.6566 - val_accuracy: 0.7690\n",
      "Epoch 19/100\n",
      "19/19 [==============================] - 1s 32ms/step - loss: 0.6536 - accuracy: 0.7710 - val_loss: 0.6083 - val_accuracy: 0.7844\n",
      "Epoch 20/100\n",
      "19/19 [==============================] - 1s 28ms/step - loss: 0.6017 - accuracy: 0.7918 - val_loss: 0.5373 - val_accuracy: 0.8194\n",
      "Epoch 21/100\n",
      "19/19 [==============================] - 1s 27ms/step - loss: 0.5338 - accuracy: 0.8164 - val_loss: 0.5030 - val_accuracy: 0.8320\n",
      "Epoch 22/100\n",
      "19/19 [==============================] - 1s 26ms/step - loss: 0.5288 - accuracy: 0.8208 - val_loss: 0.5235 - val_accuracy: 0.8184\n",
      "Epoch 23/100\n",
      "19/19 [==============================] - 1s 30ms/step - loss: 0.5239 - accuracy: 0.8107 - val_loss: 0.4388 - val_accuracy: 0.8544\n",
      "Epoch 24/100\n",
      "19/19 [==============================] - 1s 28ms/step - loss: 0.4663 - accuracy: 0.8412 - val_loss: 0.3969 - val_accuracy: 0.8692\n",
      "Epoch 25/100\n",
      "19/19 [==============================] - 1s 36ms/step - loss: 0.4140 - accuracy: 0.8578 - val_loss: 0.3835 - val_accuracy: 0.8681\n",
      "Epoch 26/100\n",
      "19/19 [==============================] - 1s 37ms/step - loss: 0.3849 - accuracy: 0.8694 - val_loss: 0.3617 - val_accuracy: 0.8743\n",
      "Epoch 27/100\n",
      "19/19 [==============================] - 1s 42ms/step - loss: 0.3944 - accuracy: 0.8629 - val_loss: 0.3417 - val_accuracy: 0.8867\n",
      "Epoch 28/100\n",
      "19/19 [==============================] - 1s 30ms/step - loss: 0.3631 - accuracy: 0.8764 - val_loss: 0.3310 - val_accuracy: 0.8885\n",
      "Epoch 29/100\n",
      "19/19 [==============================] - 1s 26ms/step - loss: 0.3683 - accuracy: 0.8761 - val_loss: 0.3375 - val_accuracy: 0.8818\n",
      "Epoch 30/100\n",
      "19/19 [==============================] - 1s 29ms/step - loss: 0.3519 - accuracy: 0.8803 - val_loss: 0.2976 - val_accuracy: 0.8999\n",
      "Epoch 31/100\n",
      "19/19 [==============================] - 1s 42ms/step - loss: 0.3144 - accuracy: 0.8938 - val_loss: 0.2721 - val_accuracy: 0.9103\n",
      "Epoch 32/100\n",
      "19/19 [==============================] - 0s 25ms/step - loss: 0.2800 - accuracy: 0.9060 - val_loss: 0.2601 - val_accuracy: 0.9123\n",
      "Epoch 33/100\n",
      "19/19 [==============================] - 1s 30ms/step - loss: 0.2652 - accuracy: 0.9107 - val_loss: 0.2329 - val_accuracy: 0.9214\n",
      "Epoch 34/100\n",
      "19/19 [==============================] - 0s 25ms/step - loss: 0.2757 - accuracy: 0.9062 - val_loss: 0.2526 - val_accuracy: 0.9147\n",
      "Epoch 35/100\n",
      "19/19 [==============================] - 1s 31ms/step - loss: 0.2745 - accuracy: 0.9052 - val_loss: 0.2238 - val_accuracy: 0.9278\n",
      "Epoch 36/100\n",
      "19/19 [==============================] - 1s 33ms/step - loss: 0.2461 - accuracy: 0.9156 - val_loss: 0.2324 - val_accuracy: 0.9196\n",
      "Epoch 37/100\n",
      "19/19 [==============================] - 1s 40ms/step - loss: 0.2371 - accuracy: 0.9210 - val_loss: 0.2171 - val_accuracy: 0.9263\n",
      "Epoch 38/100\n",
      "19/19 [==============================] - 1s 35ms/step - loss: 0.2287 - accuracy: 0.9232 - val_loss: 0.2134 - val_accuracy: 0.9251\n",
      "Epoch 39/100\n",
      "19/19 [==============================] - 1s 30ms/step - loss: 0.2185 - accuracy: 0.9244 - val_loss: 0.2074 - val_accuracy: 0.9290\n",
      "Epoch 40/100\n",
      "19/19 [==============================] - 1s 27ms/step - loss: 0.2356 - accuracy: 0.9194 - val_loss: 0.2184 - val_accuracy: 0.9248\n",
      "Epoch 41/100\n",
      "19/19 [==============================] - 0s 26ms/step - loss: 0.2224 - accuracy: 0.9224 - val_loss: 0.2113 - val_accuracy: 0.9264\n",
      "Epoch 42/100\n",
      "19/19 [==============================] - 1s 29ms/step - loss: 0.2159 - accuracy: 0.9247 - val_loss: 0.1915 - val_accuracy: 0.9354\n",
      "Epoch 43/100\n",
      "19/19 [==============================] - 1s 34ms/step - loss: 0.2221 - accuracy: 0.9233 - val_loss: 0.1774 - val_accuracy: 0.9388\n",
      "Epoch 44/100\n",
      "19/19 [==============================] - 1s 43ms/step - loss: 0.1856 - accuracy: 0.9345 - val_loss: 0.1730 - val_accuracy: 0.9421\n",
      "Epoch 45/100\n",
      "19/19 [==============================] - 1s 26ms/step - loss: 0.1796 - accuracy: 0.9396 - val_loss: 0.1443 - val_accuracy: 0.9498\n",
      "Epoch 46/100\n",
      "19/19 [==============================] - 0s 25ms/step - loss: 0.1732 - accuracy: 0.9408 - val_loss: 0.1607 - val_accuracy: 0.9455\n",
      "Epoch 47/100\n",
      "19/19 [==============================] - 0s 25ms/step - loss: 0.1710 - accuracy: 0.9417 - val_loss: 0.1523 - val_accuracy: 0.9481\n",
      "Epoch 48/100\n",
      "19/19 [==============================] - 1s 37ms/step - loss: 0.1723 - accuracy: 0.9390 - val_loss: 0.1508 - val_accuracy: 0.9472\n",
      "Epoch 49/100\n",
      "19/19 [==============================] - 1s 41ms/step - loss: 0.1797 - accuracy: 0.9379 - val_loss: 0.1806 - val_accuracy: 0.9372\n",
      "Epoch 50/100\n",
      "19/19 [==============================] - 1s 41ms/step - loss: 0.1922 - accuracy: 0.9298 - val_loss: 0.1599 - val_accuracy: 0.9444\n",
      "Epoch 51/100\n",
      "19/19 [==============================] - 1s 48ms/step - loss: 0.1798 - accuracy: 0.9374 - val_loss: 0.1662 - val_accuracy: 0.9421\n",
      "Epoch 52/100\n",
      "19/19 [==============================] - 1s 34ms/step - loss: 0.1715 - accuracy: 0.9405 - val_loss: 0.1543 - val_accuracy: 0.9457\n",
      "Epoch 53/100\n",
      "19/19 [==============================] - 1s 28ms/step - loss: 0.1783 - accuracy: 0.9368 - val_loss: 0.1604 - val_accuracy: 0.9452\n",
      "Epoch 54/100\n",
      "19/19 [==============================] - 0s 25ms/step - loss: 0.1846 - accuracy: 0.9355 - val_loss: 0.1553 - val_accuracy: 0.9468\n",
      "Epoch 55/100\n",
      "19/19 [==============================] - 0s 26ms/step - loss: 0.1607 - accuracy: 0.9434 - val_loss: 0.1389 - val_accuracy: 0.9503\n",
      "Epoch 56/100\n",
      "19/19 [==============================] - 1s 29ms/step - loss: 0.1533 - accuracy: 0.9477 - val_loss: 0.1212 - val_accuracy: 0.9598\n",
      "Epoch 57/100\n",
      "19/19 [==============================] - 1s 37ms/step - loss: 0.1417 - accuracy: 0.9519 - val_loss: 0.1357 - val_accuracy: 0.9532\n",
      "Epoch 58/100\n",
      "19/19 [==============================] - 1s 65ms/step - loss: 0.1401 - accuracy: 0.9504 - val_loss: 0.1255 - val_accuracy: 0.9554\n",
      "Epoch 59/100\n",
      "19/19 [==============================] - 1s 38ms/step - loss: 0.1390 - accuracy: 0.9513 - val_loss: 0.1299 - val_accuracy: 0.9546\n",
      "Epoch 60/100\n",
      "19/19 [==============================] - 1s 41ms/step - loss: 0.1377 - accuracy: 0.9508 - val_loss: 0.1304 - val_accuracy: 0.9536\n",
      "Epoch 61/100\n",
      "19/19 [==============================] - 1s 56ms/step - loss: 0.1315 - accuracy: 0.9518 - val_loss: 0.1089 - val_accuracy: 0.9617\n",
      "Epoch 62/100\n",
      "19/19 [==============================] - 1s 32ms/step - loss: 0.1228 - accuracy: 0.9576 - val_loss: 0.1043 - val_accuracy: 0.9624\n",
      "Epoch 63/100\n",
      "19/19 [==============================] - 1s 34ms/step - loss: 0.1306 - accuracy: 0.9527 - val_loss: 0.0998 - val_accuracy: 0.9644\n",
      "Epoch 64/100\n",
      "19/19 [==============================] - 1s 32ms/step - loss: 0.1310 - accuracy: 0.9532 - val_loss: 0.1289 - val_accuracy: 0.9518\n",
      "Epoch 65/100\n",
      "19/19 [==============================] - 1s 30ms/step - loss: 0.1319 - accuracy: 0.9547 - val_loss: 0.1065 - val_accuracy: 0.9599\n",
      "Epoch 66/100\n",
      "19/19 [==============================] - 1s 35ms/step - loss: 0.1290 - accuracy: 0.9527 - val_loss: 0.1221 - val_accuracy: 0.9559\n",
      "Epoch 67/100\n",
      "19/19 [==============================] - 1s 30ms/step - loss: 0.1331 - accuracy: 0.9530 - val_loss: 0.1259 - val_accuracy: 0.9558\n",
      "Epoch 68/100\n",
      "19/19 [==============================] - 1s 36ms/step - loss: 0.1565 - accuracy: 0.9430 - val_loss: 0.1427 - val_accuracy: 0.9491\n",
      "Epoch 69/100\n",
      "19/19 [==============================] - 1s 43ms/step - loss: 0.1544 - accuracy: 0.9431 - val_loss: 0.1479 - val_accuracy: 0.9457\n",
      "Epoch 70/100\n",
      "19/19 [==============================] - 1s 35ms/step - loss: 0.1727 - accuracy: 0.9354 - val_loss: 0.1411 - val_accuracy: 0.9499\n",
      "Epoch 71/100\n",
      "19/19 [==============================] - 1s 31ms/step - loss: 0.1602 - accuracy: 0.9431 - val_loss: 0.1333 - val_accuracy: 0.9531\n",
      "Epoch 72/100\n",
      "19/19 [==============================] - 1s 35ms/step - loss: 0.1549 - accuracy: 0.9465 - val_loss: 0.1153 - val_accuracy: 0.9583\n",
      "Epoch 73/100\n",
      "19/19 [==============================] - 1s 31ms/step - loss: 0.1253 - accuracy: 0.9530 - val_loss: 0.1006 - val_accuracy: 0.9622\n",
      "Epoch 74/100\n",
      "19/19 [==============================] - 1s 30ms/step - loss: 0.1116 - accuracy: 0.9586 - val_loss: 0.0931 - val_accuracy: 0.9653\n",
      "Epoch 75/100\n",
      "19/19 [==============================] - 1s 45ms/step - loss: 0.1059 - accuracy: 0.9608 - val_loss: 0.0966 - val_accuracy: 0.9647\n",
      "Epoch 76/100\n",
      "19/19 [==============================] - 1s 45ms/step - loss: 0.1019 - accuracy: 0.9625 - val_loss: 0.0923 - val_accuracy: 0.9651\n",
      "Epoch 77/100\n",
      "19/19 [==============================] - 1s 42ms/step - loss: 0.1003 - accuracy: 0.9642 - val_loss: 0.0870 - val_accuracy: 0.9661\n",
      "Epoch 78/100\n",
      "19/19 [==============================] - 1s 33ms/step - loss: 0.0992 - accuracy: 0.9633 - val_loss: 0.0890 - val_accuracy: 0.9667\n",
      "Epoch 79/100\n",
      "19/19 [==============================] - 1s 30ms/step - loss: 0.0996 - accuracy: 0.9624 - val_loss: 0.0937 - val_accuracy: 0.9651\n",
      "Epoch 80/100\n",
      "19/19 [==============================] - 1s 28ms/step - loss: 0.1082 - accuracy: 0.9594 - val_loss: 0.0904 - val_accuracy: 0.9662\n",
      "Epoch 81/100\n",
      "19/19 [==============================] - 1s 29ms/step - loss: 0.1005 - accuracy: 0.9622 - val_loss: 0.0912 - val_accuracy: 0.9646\n",
      "Epoch 82/100\n",
      "19/19 [==============================] - 1s 36ms/step - loss: 0.1060 - accuracy: 0.9587 - val_loss: 0.1004 - val_accuracy: 0.9621\n",
      "Epoch 83/100\n",
      "19/19 [==============================] - 1s 35ms/step - loss: 0.1018 - accuracy: 0.9617 - val_loss: 0.0867 - val_accuracy: 0.9676\n",
      "Epoch 84/100\n",
      "19/19 [==============================] - 1s 44ms/step - loss: 0.0966 - accuracy: 0.9640 - val_loss: 0.0901 - val_accuracy: 0.9655\n",
      "Epoch 85/100\n",
      "19/19 [==============================] - 1s 48ms/step - loss: 0.1140 - accuracy: 0.9581 - val_loss: 0.1185 - val_accuracy: 0.9566\n",
      "Epoch 86/100\n",
      "19/19 [==============================] - 1s 32ms/step - loss: 0.1325 - accuracy: 0.9518 - val_loss: 0.1114 - val_accuracy: 0.9590\n",
      "Epoch 87/100\n",
      "19/19 [==============================] - 1s 32ms/step - loss: 0.1198 - accuracy: 0.9556 - val_loss: 0.1223 - val_accuracy: 0.9550\n",
      "Epoch 88/100\n",
      "19/19 [==============================] - 1s 30ms/step - loss: 0.1326 - accuracy: 0.9513 - val_loss: 0.1244 - val_accuracy: 0.9535\n",
      "Epoch 89/100\n",
      "19/19 [==============================] - 1s 28ms/step - loss: 0.1412 - accuracy: 0.9465 - val_loss: 0.1235 - val_accuracy: 0.9547\n",
      "Epoch 90/100\n",
      "19/19 [==============================] - 1s 34ms/step - loss: 0.1568 - accuracy: 0.9437 - val_loss: 0.1549 - val_accuracy: 0.9442\n",
      "Epoch 91/100\n",
      "19/19 [==============================] - 1s 35ms/step - loss: 0.1669 - accuracy: 0.9403 - val_loss: 0.1351 - val_accuracy: 0.9495\n",
      "Epoch 92/100\n",
      "19/19 [==============================] - 1s 28ms/step - loss: 0.1644 - accuracy: 0.9417 - val_loss: 0.1156 - val_accuracy: 0.9576\n",
      "Epoch 93/100\n",
      "19/19 [==============================] - 1s 40ms/step - loss: 0.1355 - accuracy: 0.9508 - val_loss: 0.1191 - val_accuracy: 0.9556\n",
      "Epoch 94/100\n",
      "19/19 [==============================] - 1s 38ms/step - loss: 0.1066 - accuracy: 0.9599 - val_loss: 0.0987 - val_accuracy: 0.9620\n",
      "Epoch 95/100\n",
      "19/19 [==============================] - 1s 45ms/step - loss: 0.1070 - accuracy: 0.9584 - val_loss: 0.0897 - val_accuracy: 0.9656\n",
      "Epoch 96/100\n",
      "19/19 [==============================] - 1s 44ms/step - loss: 0.0917 - accuracy: 0.9648 - val_loss: 0.0830 - val_accuracy: 0.9674\n",
      "Epoch 97/100\n",
      "19/19 [==============================] - 1s 36ms/step - loss: 0.0958 - accuracy: 0.9633 - val_loss: 0.0842 - val_accuracy: 0.9673\n",
      "Epoch 98/100\n",
      "19/19 [==============================] - 1s 37ms/step - loss: 0.0912 - accuracy: 0.9657 - val_loss: 0.0844 - val_accuracy: 0.9666\n",
      "Epoch 99/100\n",
      "19/19 [==============================] - 1s 31ms/step - loss: 0.0914 - accuracy: 0.9642 - val_loss: 0.0800 - val_accuracy: 0.9678\n",
      "Epoch 100/100\n",
      "19/19 [==============================] - 1s 40ms/step - loss: 0.0879 - accuracy: 0.9656 - val_loss: 0.0807 - val_accuracy: 0.9680\n"
     ]
    },
    {
     "output_type": "display_data",
     "data": {
      "text/plain": "Reusing TensorBoard on port 6006 (pid 17832), started 2:57:30 ago. (Use '!kill 17832' to kill it.)"
     },
     "metadata": {}
    }
   ],
   "source": [
    "model_new.compile(loss = 'sparse_categorical_crossentropy',\n",
    "              optimizer=tf.keras.optimizers.Adam(lr=0.006),\n",
    "              metrics=['accuracy'])\n",
    "\n",
    "history = model_new.fit(train_ds, epochs=100, validation_data=val_ds, callbacks = [tensorboard_cb])\n",
    "\n",
    "%tensorboard --logdir logs"
   ]
  },
  {
   "cell_type": "code",
   "execution_count": null,
   "metadata": {},
   "outputs": [],
   "source": []
  }
 ]
}