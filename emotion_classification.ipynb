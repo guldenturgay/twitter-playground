{
 "metadata": {
  "language_info": {
   "codemirror_mode": {
    "name": "ipython",
    "version": 3
   },
   "file_extension": ".py",
   "mimetype": "text/x-python",
   "name": "python",
   "nbconvert_exporter": "python",
   "pygments_lexer": "ipython3",
   "version": "3.7.3"
  },
  "orig_nbformat": 2,
  "kernelspec": {
   "name": "python373jvsc74a57bd0f94c4a90f28a7fbd719ec002f9c893ca4c4858f29751705a64e5fc8dfb9b9070",
   "display_name": "Python 3.7.3 64-bit"
  },
  "metadata": {
   "interpreter": {
    "hash": "f94c4a90f28a7fbd719ec002f9c893ca4c4858f29751705a64e5fc8dfb9b9070"
   }
  }
 },
 "nbformat": 4,
 "nbformat_minor": 2,
 "cells": [
  {
   "cell_type": "code",
   "execution_count": 1,
   "metadata": {},
   "outputs": [],
   "source": [
    "# Import libraries and modules\n",
    "import pandas as pd\n",
    "import numpy as np\n",
    "import tensorflow as tf\n",
    "import tensorflow_hub as hub\n",
    "from sklearn.model_selection import train_test_split\n",
    "import keras\n",
    "import string\n",
    "import nltk\n",
    "from autocorrect import Speller\n",
    "import re\n",
    "import datetime, os\n"
   ]
  },
  {
   "cell_type": "code",
   "execution_count": 95,
   "metadata": {},
   "outputs": [
    {
     "output_type": "stream",
     "name": "stdout",
     "text": [
      "19107\n"
     ]
    },
    {
     "output_type": "execute_result",
     "data": {
      "text/plain": [
       "  emotion                                               text\n",
       "0   anger  he looks offended i tell perceived man man anger \n",
       "1   anger  we school room audiovisual classes we  watchin...\n",
       "2   anger          oh jim i told no pets it make mess house \n",
       "3   anger               getting terrible meals paying heaps \n",
       "4   anger  when drinking glass water i found cockroach wa..."
      ],
      "text/html": "<div>\n<style scoped>\n    .dataframe tbody tr th:only-of-type {\n        vertical-align: middle;\n    }\n\n    .dataframe tbody tr th {\n        vertical-align: top;\n    }\n\n    .dataframe thead th {\n        text-align: right;\n    }\n</style>\n<table border=\"1\" class=\"dataframe\">\n  <thead>\n    <tr style=\"text-align: right;\">\n      <th></th>\n      <th>emotion</th>\n      <th>text</th>\n    </tr>\n  </thead>\n  <tbody>\n    <tr>\n      <th>0</th>\n      <td>anger</td>\n      <td>he looks offended i tell perceived man man anger</td>\n    </tr>\n    <tr>\n      <th>1</th>\n      <td>anger</td>\n      <td>we school room audiovisual classes we  watchin...</td>\n    </tr>\n    <tr>\n      <th>2</th>\n      <td>anger</td>\n      <td>oh jim i told no pets it make mess house</td>\n    </tr>\n    <tr>\n      <th>3</th>\n      <td>anger</td>\n      <td>getting terrible meals paying heaps</td>\n    </tr>\n    <tr>\n      <th>4</th>\n      <td>anger</td>\n      <td>when drinking glass water i found cockroach wa...</td>\n    </tr>\n  </tbody>\n</table>\n</div>"
     },
     "metadata": {},
     "execution_count": 95
    }
   ],
   "source": [
    "data = pd.read_csv('datasets/dataset_complete_balanced.csv', encoding='utf8')\n",
    "print(len(data))\n",
    "data.head()"
   ]
  },
  {
   "cell_type": "code",
   "execution_count": 96,
   "metadata": {},
   "outputs": [
    {
     "output_type": "execute_result",
     "data": {
      "text/plain": [
       "                                                    text  emotion\n",
       "11632                                          you late         6\n",
       "9380                                           hey mary         4\n",
       "4518   the house fire i saved dog i afraid  fire verg...        2\n",
       "6388   making sexual pass cousin i close  personal re...        3\n",
       "1443   us banks also lost heavily furious bundesbank ...        0"
      ],
      "text/html": "<div>\n<style scoped>\n    .dataframe tbody tr th:only-of-type {\n        vertical-align: middle;\n    }\n\n    .dataframe tbody tr th {\n        vertical-align: top;\n    }\n\n    .dataframe thead th {\n        text-align: right;\n    }\n</style>\n<table border=\"1\" class=\"dataframe\">\n  <thead>\n    <tr style=\"text-align: right;\">\n      <th></th>\n      <th>text</th>\n      <th>emotion</th>\n    </tr>\n  </thead>\n  <tbody>\n    <tr>\n      <th>11632</th>\n      <td>you late</td>\n      <td>6</td>\n    </tr>\n    <tr>\n      <th>9380</th>\n      <td>hey mary</td>\n      <td>4</td>\n    </tr>\n    <tr>\n      <th>4518</th>\n      <td>the house fire i saved dog i afraid  fire verg...</td>\n      <td>2</td>\n    </tr>\n    <tr>\n      <th>6388</th>\n      <td>making sexual pass cousin i close  personal re...</td>\n      <td>3</td>\n    </tr>\n    <tr>\n      <th>1443</th>\n      <td>us banks also lost heavily furious bundesbank ...</td>\n      <td>0</td>\n    </tr>\n  </tbody>\n</table>\n</div>"
     },
     "metadata": {},
     "execution_count": 96
    }
   ],
   "source": [
    "from sklearn import preprocessing\n",
    "from sklearn.preprocessing import LabelEncoder\n",
    "\n",
    "data = data.sample(frac=1,random_state=42)\n",
    "data = data[['text','emotion']]\n",
    "labels = data.emotion\n",
    "data.emotion = LabelEncoder().fit_transform(data.emotion)\n",
    "data.head()"
   ]
  },
  {
   "cell_type": "code",
   "execution_count": 97,
   "metadata": {},
   "outputs": [
    {
     "output_type": "execute_result",
     "data": {
      "text/plain": [
       "{6: 'neutral',\n",
       " 4: 'happy',\n",
       " 2: 'fear',\n",
       " 3: 'guilt',\n",
       " 0: 'anger',\n",
       " 1: 'disgust',\n",
       " 7: 'sad',\n",
       " 8: 'shame',\n",
       " 5: 'joy',\n",
       " 9: 'suprise'}"
      ]
     },
     "metadata": {},
     "execution_count": 97
    }
   ],
   "source": [
    "keys = data['emotion'] \n",
    "values = labels \n",
    "\n",
    "emotion_label_dict = dict(zip(keys, values))\n",
    "emotion_label_dict"
   ]
  },
  {
   "cell_type": "code",
   "execution_count": 4,
   "metadata": {},
   "outputs": [
    {
     "output_type": "stream",
     "name": "stdout",
     "text": [
      "Using 11464 samples for training and 3822 for validation and 3821 for test\n"
     ]
    }
   ],
   "source": [
    "test_dataframe = data.sample(frac=0.2, random_state=1337)\n",
    "train_dataframe = data.drop(test_dataframe.index)\n",
    "\n",
    "val_dataframe = train_dataframe.sample(frac=0.25, random_state=1337)\n",
    "train_dataframe = train_dataframe.drop(val_dataframe.index)\n",
    "\n",
    "\n",
    "print(\"Using %d samples for training and %d for validation and %d for test\" % (len(train_dataframe), len(val_dataframe),len(test_dataframe)))"
   ]
  },
  {
   "cell_type": "code",
   "execution_count": 5,
   "metadata": {},
   "outputs": [],
   "source": [
    "def dataframe_to_dataset(dataframe):\n",
    "    data_copy = data.copy()\n",
    "    labels = data_copy.pop(\"\")\n",
    "    ds = tf.data.Dataset.from_tensor_slices((dict(data_copy), labels))\n",
    "    ds = ds.shuffle(buffer_size=len(data_copy))\n",
    "    return ds\n",
    "\n",
    "\n",
    "train_ds = dataframe_to_dataset(train_dataframe)\n",
    "val_ds = dataframe_to_dataset(val_dataframe)\n",
    "test_ds = dataframe_to_dataset(test_dataframe)"
   ]
  },
  {
   "cell_type": "code",
   "execution_count": 6,
   "metadata": {},
   "outputs": [
    {
     "output_type": "stream",
     "name": "stdout",
     "text": [
      "Input: {'text': <tf.Tensor: shape=(), dtype=string, numpy=b'since war began soviet military commentators including senior serving officers expressing dismay seeing iraq army whose tanks aircraft supplied pounded relentlessly effectively fear '>}\n",
      "Target: tf.Tensor(2, shape=(), dtype=int32)\n"
     ]
    }
   ],
   "source": [
    "for x, y in train_ds.take(1):\n",
    "    print(\"Input:\", x)\n",
    "    print(\"Target:\", y)"
   ]
  },
  {
   "cell_type": "code",
   "execution_count": 7,
   "metadata": {},
   "outputs": [],
   "source": [
    "train_ds = train_ds.shuffle(10000).batch(1024)\n",
    "val_ds = val_ds.shuffle(10000).batch(1024)\n",
    "test_ds = test_ds.shuffle(10000).batch(1024)"
   ]
  },
  {
   "cell_type": "code",
   "execution_count": 8,
   "metadata": {},
   "outputs": [
    {
     "output_type": "stream",
     "name": "stdout",
     "text": [
      "Model: \"sequential\"\n_________________________________________________________________\nLayer (type)                 Output Shape              Param #   \n=================================================================\nkeras_layer (KerasLayer)     (None, 128)               124642688 \n_________________________________________________________________\ndense (Dense)                (None, 256)               33024     \n_________________________________________________________________\ndense_1 (Dense)              (None, 128)               32896     \n_________________________________________________________________\ndense_2 (Dense)              (None, 128)               16512     \n_________________________________________________________________\ndense_3 (Dense)              (None, 64)                8256      \n_________________________________________________________________\ndense_4 (Dense)              (None, 64)                4160      \n_________________________________________________________________\ndense_5 (Dense)              (None, 32)                2080      \n_________________________________________________________________\ndense_6 (Dense)              (None, 32)                1056      \n_________________________________________________________________\ndense_7 (Dense)              (None, 16)                528       \n_________________________________________________________________\ndense_8 (Dense)              (None, 10)                170       \n=================================================================\nTotal params: 124,741,370\nTrainable params: 98,682\nNon-trainable params: 124,642,688\n_________________________________________________________________\n"
     ]
    }
   ],
   "source": [
    "\n",
    "# Create embedding layer\n",
    "#hub_layer = hub.KerasLayer(embedding, input_shape=[], dtype=tf.string)\n",
    "model_new = keras.Sequential([\n",
    "    hub.KerasLayer(\"https://tfhub.dev/google/tf2-preview/nnlm-en-dim128-with-normalization/1\", dtype=tf.string, input_shape=[], output_shape=[128]),\n",
    "    keras.layers.Dense(256, activation='relu'),\n",
    "    keras.layers.Dense(128, activation='relu'),\n",
    "    keras.layers.Dense(128, activation='relu'),\n",
    "    keras.layers.Dense(64, activation='relu'),\n",
    "    keras.layers.Dense(64, activation='relu'),\n",
    "    keras.layers.Dense(32, activation='relu'),\n",
    "    keras.layers.Dense(32, activation='relu'),\n",
    "    keras.layers.Dense(16, activation='relu'),\n",
    "    keras.layers.Dense(10, activation='softmax')\n",
    "])\n",
    "\n",
    "model_new.summary()"
   ]
  },
  {
   "cell_type": "code",
   "execution_count": 9,
   "metadata": {},
   "outputs": [],
   "source": [
    "%load_ext tensorboard\n",
    "logdir = os.path.join(\"logs\", datetime.datetime.now().strftime(\"%Y%m%d-%H%M%S\"))\n",
    "\n",
    "tensorboard_cb = tf.keras.callbacks.TensorBoard(logdir, histogram_freq=1)\n"
   ]
  },
  {
   "cell_type": "code",
   "execution_count": 10,
   "metadata": {},
   "outputs": [],
   "source": [
    "from keras import callbacks\n",
    "\n",
    "\n",
    "# Exponantial Learning Rate Scheduler function\n",
    "def scheduler(epoch, lr):\n",
    "    if epoch < 5:\n",
    "        return lr\n",
    "    else:\n",
    "        return lr*tf.math.exp(-0.1)\n",
    "\n",
    "# Define early stopping to prevent overfit\n",
    "earlystopping = callbacks.EarlyStopping(monitor='val_accuracy',\n",
    "                                        mode='max',\n",
    "                                        patience=10,\n",
    "                                        restore_best_weights=True,\n",
    "                                        verbose=1)\n",
    "\n",
    "# Define lr scheduler to prevent overfit\n",
    "lr_scheduler = callbacks.LearningRateScheduler(scheduler, verbose=1)"
   ]
  },
  {
   "cell_type": "code",
   "execution_count": 11,
   "metadata": {},
   "outputs": [
    {
     "output_type": "stream",
     "name": "stdout",
     "text": [
      "Epoch 1/100\n",
      "19/19 [==============================] - 2s 75ms/step - loss: 2.2640 - accuracy: 0.1473 - val_loss: 2.1472 - val_accuracy: 0.2600\n",
      "Epoch 2/100\n",
      "19/19 [==============================] - 1s 33ms/step - loss: 2.1006 - accuracy: 0.2551 - val_loss: 2.0323 - val_accuracy: 0.2816\n",
      "Epoch 3/100\n",
      "19/19 [==============================] - 1s 32ms/step - loss: 1.9988 - accuracy: 0.2795 - val_loss: 1.8965 - val_accuracy: 0.3170\n",
      "Epoch 4/100\n",
      "19/19 [==============================] - 1s 33ms/step - loss: 1.8646 - accuracy: 0.3217 - val_loss: 1.7458 - val_accuracy: 0.3272\n",
      "Epoch 5/100\n",
      "19/19 [==============================] - 1s 36ms/step - loss: 1.7128 - accuracy: 0.3672 - val_loss: 1.6416 - val_accuracy: 0.3549\n",
      "Epoch 6/100\n",
      "19/19 [==============================] - 1s 42ms/step - loss: 1.6161 - accuracy: 0.3817 - val_loss: 1.5537 - val_accuracy: 0.4030\n",
      "Epoch 7/100\n",
      "19/19 [==============================] - 1s 37ms/step - loss: 1.5362 - accuracy: 0.4092 - val_loss: 1.4367 - val_accuracy: 0.4502\n",
      "Epoch 8/100\n",
      "19/19 [==============================] - 2s 91ms/step - loss: 1.4418 - accuracy: 0.4535 - val_loss: 1.3781 - val_accuracy: 0.4778\n",
      "Epoch 9/100\n",
      "19/19 [==============================] - 1s 31ms/step - loss: 1.3518 - accuracy: 0.4929 - val_loss: 1.3021 - val_accuracy: 0.5040\n",
      "Epoch 10/100\n",
      "19/19 [==============================] - 1s 40ms/step - loss: 1.3056 - accuracy: 0.5035 - val_loss: 1.2518 - val_accuracy: 0.5231\n",
      "Epoch 11/100\n",
      "19/19 [==============================] - 1s 55ms/step - loss: 1.2411 - accuracy: 0.5320 - val_loss: 1.2261 - val_accuracy: 0.5435\n",
      "Epoch 12/100\n",
      "19/19 [==============================] - 1s 42ms/step - loss: 1.2107 - accuracy: 0.5476 - val_loss: 1.1338 - val_accuracy: 0.5734\n",
      "Epoch 13/100\n",
      "19/19 [==============================] - 1s 68ms/step - loss: 1.1473 - accuracy: 0.5664 - val_loss: 1.1025 - val_accuracy: 0.5880\n",
      "Epoch 14/100\n",
      "19/19 [==============================] - 1s 55ms/step - loss: 1.1018 - accuracy: 0.5901 - val_loss: 1.0637 - val_accuracy: 0.6038\n",
      "Epoch 15/100\n",
      "19/19 [==============================] - 1s 72ms/step - loss: 1.0572 - accuracy: 0.6064 - val_loss: 0.9948 - val_accuracy: 0.6263\n",
      "Epoch 16/100\n",
      "19/19 [==============================] - 1s 59ms/step - loss: 0.9988 - accuracy: 0.6286 - val_loss: 0.9263 - val_accuracy: 0.6599\n",
      "Epoch 17/100\n",
      "19/19 [==============================] - 1s 40ms/step - loss: 0.9434 - accuracy: 0.6513 - val_loss: 0.8970 - val_accuracy: 0.6710\n",
      "Epoch 18/100\n",
      "19/19 [==============================] - 1s 42ms/step - loss: 0.9244 - accuracy: 0.6577 - val_loss: 0.8790 - val_accuracy: 0.6899\n",
      "Epoch 19/100\n",
      "19/19 [==============================] - 1s 65ms/step - loss: 0.8902 - accuracy: 0.6793 - val_loss: 0.8248 - val_accuracy: 0.7019\n",
      "Epoch 20/100\n",
      "19/19 [==============================] - 1s 52ms/step - loss: 0.8328 - accuracy: 0.7017 - val_loss: 0.7785 - val_accuracy: 0.7187\n",
      "Epoch 21/100\n",
      "19/19 [==============================] - 1s 53ms/step - loss: 0.7982 - accuracy: 0.7089 - val_loss: 0.7538 - val_accuracy: 0.7279\n",
      "Epoch 22/100\n",
      "19/19 [==============================] - 2s 78ms/step - loss: 0.7633 - accuracy: 0.7240 - val_loss: 0.7156 - val_accuracy: 0.7419\n",
      "Epoch 23/100\n",
      "19/19 [==============================] - 1s 65ms/step - loss: 0.7344 - accuracy: 0.7365 - val_loss: 0.6636 - val_accuracy: 0.7609\n",
      "Epoch 24/100\n",
      "19/19 [==============================] - 1s 38ms/step - loss: 0.6869 - accuracy: 0.7500 - val_loss: 0.6724 - val_accuracy: 0.7639\n",
      "Epoch 25/100\n",
      "19/19 [==============================] - 1s 45ms/step - loss: 0.6738 - accuracy: 0.7571 - val_loss: 0.6383 - val_accuracy: 0.7752\n",
      "Epoch 26/100\n",
      "19/19 [==============================] - 1s 34ms/step - loss: 0.6498 - accuracy: 0.7710 - val_loss: 0.5712 - val_accuracy: 0.8027\n",
      "Epoch 27/100\n",
      "19/19 [==============================] - 1s 35ms/step - loss: 0.5959 - accuracy: 0.7931 - val_loss: 0.5413 - val_accuracy: 0.8136\n",
      "Epoch 28/100\n",
      "19/19 [==============================] - 1s 38ms/step - loss: 0.5599 - accuracy: 0.8056 - val_loss: 0.5212 - val_accuracy: 0.8247\n",
      "Epoch 29/100\n",
      "19/19 [==============================] - 1s 65ms/step - loss: 0.5198 - accuracy: 0.8247 - val_loss: 0.4842 - val_accuracy: 0.8340\n",
      "Epoch 30/100\n",
      "19/19 [==============================] - 2s 117ms/step - loss: 0.5070 - accuracy: 0.8248 - val_loss: 0.4648 - val_accuracy: 0.8421\n",
      "Epoch 31/100\n",
      "19/19 [==============================] - 1s 37ms/step - loss: 0.4810 - accuracy: 0.8378 - val_loss: 0.4461 - val_accuracy: 0.8483\n",
      "Epoch 32/100\n",
      "19/19 [==============================] - 1s 33ms/step - loss: 0.4985 - accuracy: 0.8302 - val_loss: 0.4568 - val_accuracy: 0.8479\n",
      "Epoch 33/100\n",
      "19/19 [==============================] - 1s 33ms/step - loss: 0.4752 - accuracy: 0.8397 - val_loss: 0.4362 - val_accuracy: 0.8510\n",
      "Epoch 34/100\n",
      "19/19 [==============================] - 1s 40ms/step - loss: 0.4719 - accuracy: 0.8392 - val_loss: 0.4641 - val_accuracy: 0.8395\n",
      "Epoch 35/100\n",
      "19/19 [==============================] - 1s 50ms/step - loss: 0.4501 - accuracy: 0.8448 - val_loss: 0.3719 - val_accuracy: 0.8752\n",
      "Epoch 36/100\n",
      "19/19 [==============================] - 1s 55ms/step - loss: 0.4196 - accuracy: 0.8583 - val_loss: 0.4049 - val_accuracy: 0.8580\n",
      "Epoch 37/100\n",
      "19/19 [==============================] - 1s 44ms/step - loss: 0.4271 - accuracy: 0.8538 - val_loss: 0.3708 - val_accuracy: 0.8767\n",
      "Epoch 38/100\n",
      "19/19 [==============================] - 1s 34ms/step - loss: 0.3981 - accuracy: 0.8650 - val_loss: 0.3611 - val_accuracy: 0.8752\n",
      "Epoch 39/100\n",
      "19/19 [==============================] - 1s 32ms/step - loss: 0.4010 - accuracy: 0.8601 - val_loss: 0.3673 - val_accuracy: 0.8740\n",
      "Epoch 40/100\n",
      "19/19 [==============================] - 1s 31ms/step - loss: 0.3734 - accuracy: 0.8733 - val_loss: 0.3333 - val_accuracy: 0.8901\n",
      "Epoch 41/100\n",
      "19/19 [==============================] - 1s 33ms/step - loss: 0.3540 - accuracy: 0.8822 - val_loss: 0.3279 - val_accuracy: 0.8894\n",
      "Epoch 42/100\n",
      "19/19 [==============================] - 1s 33ms/step - loss: 0.3479 - accuracy: 0.8791 - val_loss: 0.3112 - val_accuracy: 0.8953\n",
      "Epoch 43/100\n",
      "19/19 [==============================] - 1s 33ms/step - loss: 0.3413 - accuracy: 0.8826 - val_loss: 0.3033 - val_accuracy: 0.8965\n",
      "Epoch 44/100\n",
      "19/19 [==============================] - 1s 48ms/step - loss: 0.3041 - accuracy: 0.8971 - val_loss: 0.2621 - val_accuracy: 0.9155\n",
      "Epoch 45/100\n",
      "19/19 [==============================] - 1s 43ms/step - loss: 0.2824 - accuracy: 0.9036 - val_loss: 0.2838 - val_accuracy: 0.9045\n",
      "Epoch 46/100\n",
      "19/19 [==============================] - 1s 60ms/step - loss: 0.2829 - accuracy: 0.9059 - val_loss: 0.2603 - val_accuracy: 0.9144\n",
      "Epoch 47/100\n",
      "19/19 [==============================] - 1s 48ms/step - loss: 0.2949 - accuracy: 0.9012 - val_loss: 0.2622 - val_accuracy: 0.9135\n",
      "Epoch 48/100\n",
      "19/19 [==============================] - 2s 109ms/step - loss: 0.3004 - accuracy: 0.8994 - val_loss: 0.2815 - val_accuracy: 0.9040\n",
      "Epoch 49/100\n",
      "19/19 [==============================] - 1s 47ms/step - loss: 0.2789 - accuracy: 0.9062 - val_loss: 0.2511 - val_accuracy: 0.9154\n",
      "Epoch 50/100\n",
      "19/19 [==============================] - 1s 49ms/step - loss: 0.2615 - accuracy: 0.9125 - val_loss: 0.2199 - val_accuracy: 0.9264\n",
      "Epoch 51/100\n",
      "19/19 [==============================] - 1s 47ms/step - loss: 0.2479 - accuracy: 0.9152 - val_loss: 0.2226 - val_accuracy: 0.9247\n",
      "Epoch 52/100\n",
      "19/19 [==============================] - 1s 37ms/step - loss: 0.2505 - accuracy: 0.9163 - val_loss: 0.2236 - val_accuracy: 0.9245\n",
      "Epoch 53/100\n",
      "19/19 [==============================] - 1s 42ms/step - loss: 0.2430 - accuracy: 0.9179 - val_loss: 0.2292 - val_accuracy: 0.9237\n",
      "Epoch 54/100\n",
      "19/19 [==============================] - 1s 40ms/step - loss: 0.2417 - accuracy: 0.9162 - val_loss: 0.2188 - val_accuracy: 0.9265\n",
      "Epoch 55/100\n",
      "19/19 [==============================] - 1s 39ms/step - loss: 0.2359 - accuracy: 0.9201 - val_loss: 0.2102 - val_accuracy: 0.9297\n",
      "Epoch 56/100\n",
      "19/19 [==============================] - 1s 45ms/step - loss: 0.2412 - accuracy: 0.9176 - val_loss: 0.2348 - val_accuracy: 0.9191\n",
      "Epoch 57/100\n",
      "19/19 [==============================] - 1s 49ms/step - loss: 0.2363 - accuracy: 0.9200 - val_loss: 0.1928 - val_accuracy: 0.9346\n",
      "Epoch 58/100\n",
      "19/19 [==============================] - 1s 36ms/step - loss: 0.2270 - accuracy: 0.9227 - val_loss: 0.2123 - val_accuracy: 0.9269\n",
      "Epoch 59/100\n",
      "19/19 [==============================] - 1s 38ms/step - loss: 0.2112 - accuracy: 0.9263 - val_loss: 0.2002 - val_accuracy: 0.9315\n",
      "Epoch 60/100\n",
      "19/19 [==============================] - 1s 38ms/step - loss: 0.2179 - accuracy: 0.9239 - val_loss: 0.1844 - val_accuracy: 0.9371\n",
      "Epoch 61/100\n",
      "19/19 [==============================] - 1s 35ms/step - loss: 0.1986 - accuracy: 0.9328 - val_loss: 0.1843 - val_accuracy: 0.9365\n",
      "Epoch 62/100\n",
      "19/19 [==============================] - 1s 35ms/step - loss: 0.2034 - accuracy: 0.9295 - val_loss: 0.1861 - val_accuracy: 0.9366\n",
      "Epoch 63/100\n",
      "19/19 [==============================] - 1s 36ms/step - loss: 0.2055 - accuracy: 0.9313 - val_loss: 0.1728 - val_accuracy: 0.9407\n",
      "Epoch 64/100\n",
      "19/19 [==============================] - 1s 40ms/step - loss: 0.1969 - accuracy: 0.9336 - val_loss: 0.1849 - val_accuracy: 0.9354\n",
      "Epoch 65/100\n",
      "19/19 [==============================] - 1s 58ms/step - loss: 0.1936 - accuracy: 0.9325 - val_loss: 0.1715 - val_accuracy: 0.9409\n",
      "Epoch 66/100\n",
      "19/19 [==============================] - 1s 50ms/step - loss: 0.1849 - accuracy: 0.9387 - val_loss: 0.1734 - val_accuracy: 0.9388\n",
      "Epoch 67/100\n",
      "19/19 [==============================] - 1s 38ms/step - loss: 0.1857 - accuracy: 0.9355 - val_loss: 0.1712 - val_accuracy: 0.9415\n",
      "Epoch 68/100\n",
      "19/19 [==============================] - 1s 41ms/step - loss: 0.1785 - accuracy: 0.9382 - val_loss: 0.2056 - val_accuracy: 0.9303\n",
      "Epoch 69/100\n",
      "19/19 [==============================] - 1s 35ms/step - loss: 0.2106 - accuracy: 0.9280 - val_loss: 0.1863 - val_accuracy: 0.9333\n",
      "Epoch 70/100\n",
      "19/19 [==============================] - 1s 42ms/step - loss: 0.2092 - accuracy: 0.9237 - val_loss: 0.1781 - val_accuracy: 0.9390\n",
      "Epoch 71/100\n",
      "19/19 [==============================] - 1s 54ms/step - loss: 0.1835 - accuracy: 0.9356 - val_loss: 0.1619 - val_accuracy: 0.9434\n",
      "Epoch 72/100\n",
      "19/19 [==============================] - 1s 44ms/step - loss: 0.1736 - accuracy: 0.9385 - val_loss: 0.1531 - val_accuracy: 0.9468\n",
      "Epoch 73/100\n",
      "19/19 [==============================] - 1s 47ms/step - loss: 0.1743 - accuracy: 0.9388 - val_loss: 0.1454 - val_accuracy: 0.9484\n",
      "Epoch 74/100\n",
      "19/19 [==============================] - 1s 53ms/step - loss: 0.1617 - accuracy: 0.9419 - val_loss: 0.1446 - val_accuracy: 0.9494\n",
      "Epoch 75/100\n",
      "19/19 [==============================] - 1s 51ms/step - loss: 0.1584 - accuracy: 0.9443 - val_loss: 0.1445 - val_accuracy: 0.9486\n",
      "Epoch 76/100\n",
      "19/19 [==============================] - 1s 50ms/step - loss: 0.1704 - accuracy: 0.9381 - val_loss: 0.1706 - val_accuracy: 0.9402\n",
      "Epoch 77/100\n",
      "19/19 [==============================] - 1s 45ms/step - loss: 0.1798 - accuracy: 0.9369 - val_loss: 0.1829 - val_accuracy: 0.9391\n",
      "Epoch 78/100\n",
      "19/19 [==============================] - 1s 52ms/step - loss: 0.1992 - accuracy: 0.9335 - val_loss: 0.1671 - val_accuracy: 0.9412\n",
      "Epoch 79/100\n",
      "19/19 [==============================] - 1s 43ms/step - loss: 0.1630 - accuracy: 0.9450 - val_loss: 0.1439 - val_accuracy: 0.9504\n",
      "Epoch 80/100\n",
      "19/19 [==============================] - 1s 65ms/step - loss: 0.1667 - accuracy: 0.9418 - val_loss: 0.1561 - val_accuracy: 0.9445\n",
      "Epoch 81/100\n",
      "19/19 [==============================] - 1s 49ms/step - loss: 0.1593 - accuracy: 0.9444 - val_loss: 0.1388 - val_accuracy: 0.9512\n",
      "Epoch 82/100\n",
      "19/19 [==============================] - 1s 49ms/step - loss: 0.1557 - accuracy: 0.9450 - val_loss: 0.1200 - val_accuracy: 0.9566\n",
      "Epoch 83/100\n",
      "19/19 [==============================] - 1s 51ms/step - loss: 0.1357 - accuracy: 0.9530 - val_loss: 0.1179 - val_accuracy: 0.9572\n",
      "Epoch 84/100\n",
      "19/19 [==============================] - 1s 37ms/step - loss: 0.1397 - accuracy: 0.9486 - val_loss: 0.1355 - val_accuracy: 0.9520\n",
      "Epoch 85/100\n",
      "19/19 [==============================] - 1s 31ms/step - loss: 0.1381 - accuracy: 0.9528 - val_loss: 0.1326 - val_accuracy: 0.9518\n",
      "Epoch 86/100\n",
      "19/19 [==============================] - 1s 34ms/step - loss: 0.1370 - accuracy: 0.9502 - val_loss: 0.1302 - val_accuracy: 0.9535\n",
      "Epoch 87/100\n",
      "19/19 [==============================] - 1s 37ms/step - loss: 0.1431 - accuracy: 0.9482 - val_loss: 0.1278 - val_accuracy: 0.9527\n",
      "Epoch 88/100\n",
      "19/19 [==============================] - 1s 40ms/step - loss: 0.1417 - accuracy: 0.9488 - val_loss: 0.1415 - val_accuracy: 0.9500\n",
      "Epoch 89/100\n",
      "19/19 [==============================] - 1s 54ms/step - loss: 0.1478 - accuracy: 0.9467 - val_loss: 0.1427 - val_accuracy: 0.9490\n",
      "Epoch 90/100\n",
      "19/19 [==============================] - 1s 43ms/step - loss: 0.1520 - accuracy: 0.9460 - val_loss: 0.1285 - val_accuracy: 0.9527\n",
      "Epoch 91/100\n",
      "19/19 [==============================] - 1s 37ms/step - loss: 0.1432 - accuracy: 0.9486 - val_loss: 0.1318 - val_accuracy: 0.9528\n",
      "Epoch 92/100\n",
      "19/19 [==============================] - 1s 33ms/step - loss: 0.1438 - accuracy: 0.9481 - val_loss: 0.1221 - val_accuracy: 0.9550\n",
      "Epoch 93/100\n",
      "19/19 [==============================] - 1s 50ms/step - loss: 0.1367 - accuracy: 0.9491 - val_loss: 0.1294 - val_accuracy: 0.9542\n",
      "Epoch 94/100\n",
      "19/19 [==============================] - 1s 53ms/step - loss: 0.1313 - accuracy: 0.9528 - val_loss: 0.1244 - val_accuracy: 0.9546\n",
      "Epoch 95/100\n",
      "19/19 [==============================] - 1s 48ms/step - loss: 0.1298 - accuracy: 0.9520 - val_loss: 0.1231 - val_accuracy: 0.9550\n",
      "Epoch 96/100\n",
      "19/19 [==============================] - 1s 51ms/step - loss: 0.1315 - accuracy: 0.9536 - val_loss: 0.1117 - val_accuracy: 0.9592\n",
      "Epoch 97/100\n",
      "19/19 [==============================] - 1s 43ms/step - loss: 0.1250 - accuracy: 0.9538 - val_loss: 0.1139 - val_accuracy: 0.9583\n",
      "Epoch 98/100\n",
      "19/19 [==============================] - 1s 43ms/step - loss: 0.1393 - accuracy: 0.9503 - val_loss: 0.1297 - val_accuracy: 0.9531\n",
      "Epoch 99/100\n",
      "19/19 [==============================] - 1s 35ms/step - loss: 0.1425 - accuracy: 0.9473 - val_loss: 0.1287 - val_accuracy: 0.9535\n",
      "Epoch 100/100\n",
      "19/19 [==============================] - 1s 38ms/step - loss: 0.1542 - accuracy: 0.9455 - val_loss: 0.1684 - val_accuracy: 0.9399\n"
     ]
    },
    {
     "output_type": "display_data",
     "data": {
      "text/plain": "Reusing TensorBoard on port 6006 (pid 17832), started 21:16:39 ago. (Use '!kill 17832' to kill it.)"
     },
     "metadata": {}
    }
   ],
   "source": [
    "model_new.compile(loss=tf.keras.losses.SparseCategoricalCrossentropy(from_logits=True),\n",
    "              optimizer=tf.keras.optimizers.Adam(lr=0.006),\n",
    "              metrics=['accuracy'])\n",
    "\n",
    "history = model_new.fit(train_ds, epochs=100, validation_data=val_ds, callbacks = [tensorboard_cb])\n",
    "\n",
    "%tensorboard --logdir logs"
   ]
  },
  {
   "cell_type": "code",
   "execution_count": 12,
   "metadata": {},
   "outputs": [],
   "source": [
    "# Save the model\n",
    "#model_new.save('emotion_analysis')"
   ]
  },
  {
   "cell_type": "code",
   "execution_count": 13,
   "metadata": {},
   "outputs": [
    {
     "output_type": "stream",
     "name": "stdout",
     "text": [
      "19/19 [==============================] - 1s 23ms/step - loss: 0.1684 - accuracy: 0.9399\n"
     ]
    }
   ],
   "source": [
    "results = model_new.evaluate(test_ds)\n"
   ]
  },
  {
   "cell_type": "code",
   "execution_count": 14,
   "metadata": {},
   "outputs": [
    {
     "output_type": "execute_result",
     "data": {
      "text/plain": [
       "                                            text  emotion\n",
       "13039                            what makes say         7\n",
       "7856    sounds great much like something thanks         4\n",
       "15130        i like horror movies i like scared         7\n",
       "3269     i saw program t v saw skull  operation         1\n",
       "14892                             why take days         7"
      ],
      "text/html": "<div>\n<style scoped>\n    .dataframe tbody tr th:only-of-type {\n        vertical-align: middle;\n    }\n\n    .dataframe tbody tr th {\n        vertical-align: top;\n    }\n\n    .dataframe thead th {\n        text-align: right;\n    }\n</style>\n<table border=\"1\" class=\"dataframe\">\n  <thead>\n    <tr style=\"text-align: right;\">\n      <th></th>\n      <th>text</th>\n      <th>emotion</th>\n    </tr>\n  </thead>\n  <tbody>\n    <tr>\n      <th>13039</th>\n      <td>what makes say</td>\n      <td>7</td>\n    </tr>\n    <tr>\n      <th>7856</th>\n      <td>sounds great much like something thanks</td>\n      <td>4</td>\n    </tr>\n    <tr>\n      <th>15130</th>\n      <td>i like horror movies i like scared</td>\n      <td>7</td>\n    </tr>\n    <tr>\n      <th>3269</th>\n      <td>i saw program t v saw skull  operation</td>\n      <td>1</td>\n    </tr>\n    <tr>\n      <th>14892</th>\n      <td>why take days</td>\n      <td>7</td>\n    </tr>\n  </tbody>\n</table>\n</div>"
     },
     "metadata": {},
     "execution_count": 14
    }
   ],
   "source": [
    "test_dataframe.head()"
   ]
  },
  {
   "cell_type": "code",
   "execution_count": 101,
   "metadata": {},
   "outputs": [],
   "source": [
    "def get_index_of_max(arr):\n",
    "    idx = np.argmax(arr)\n",
    "    return idx\n",
    "\n",
    "def get_prediction(string):\n",
    "    probas = model_new.predict([string])\n",
    "    pred = get_index_of_max(probas)\n",
    "    return pred\n",
    "\n",
    "    "
   ]
  },
  {
   "cell_type": "code",
   "execution_count": 102,
   "metadata": {},
   "outputs": [
    {
     "output_type": "execute_result",
     "data": {
      "text/plain": [
       "4"
      ]
     },
     "metadata": {},
     "execution_count": 102
    }
   ],
   "source": [
    "get_prediction('I am so happy.')"
   ]
  },
  {
   "cell_type": "code",
   "execution_count": 103,
   "metadata": {},
   "outputs": [
    {
     "output_type": "stream",
     "name": "stdout",
     "text": [
      "              precision    recall  f1-score   support\n\n           0       0.96      0.91      0.93       494\n           1       0.93      0.94      0.93       326\n           2       0.98      0.96      0.97       305\n           3       0.91      0.91      0.91       211\n           4       0.90      0.97      0.93       547\n           5       0.99      0.97      0.98       212\n           6       0.88      0.89      0.89       466\n           7       0.98      0.91      0.94       561\n           8       0.94      0.96      0.95       263\n           9       0.91      0.97      0.94       436\n\n    accuracy                           0.93      3821\n   macro avg       0.94      0.94      0.94      3821\nweighted avg       0.94      0.93      0.93      3821\n\n"
     ]
    }
   ],
   "source": [
    "# Classification report for test data\n",
    "from sklearn.metrics import classification_report\n",
    "\n",
    "test_dataframe['preds'] = test_dataframe['text'].apply(lambda x: get_prediction(x))\n",
    "test_dataframe['label'] = test_dataframe['preds'].apply(lambda x: emotion_label_dict.get(x,None))\n",
    "\n",
    "print(classification_report(test_dataframe['emotion'], test_dataframe['preds']))\n"
   ]
  },
  {
   "cell_type": "code",
   "execution_count": 104,
   "metadata": {},
   "outputs": [
    {
     "output_type": "execute_result",
     "data": {
      "text/plain": [
       "                                            text  emotion  preds    label\n",
       "13039                            what makes say         7      6  neutral\n",
       "7856    sounds great much like something thanks         4      4    happy\n",
       "15130        i like horror movies i like scared         7      6  neutral\n",
       "3269     i saw program t v saw skull  operation         1      1  disgust\n",
       "14892                             why take days         7      6  neutral"
      ],
      "text/html": "<div>\n<style scoped>\n    .dataframe tbody tr th:only-of-type {\n        vertical-align: middle;\n    }\n\n    .dataframe tbody tr th {\n        vertical-align: top;\n    }\n\n    .dataframe thead th {\n        text-align: right;\n    }\n</style>\n<table border=\"1\" class=\"dataframe\">\n  <thead>\n    <tr style=\"text-align: right;\">\n      <th></th>\n      <th>text</th>\n      <th>emotion</th>\n      <th>preds</th>\n      <th>label</th>\n    </tr>\n  </thead>\n  <tbody>\n    <tr>\n      <th>13039</th>\n      <td>what makes say</td>\n      <td>7</td>\n      <td>6</td>\n      <td>neutral</td>\n    </tr>\n    <tr>\n      <th>7856</th>\n      <td>sounds great much like something thanks</td>\n      <td>4</td>\n      <td>4</td>\n      <td>happy</td>\n    </tr>\n    <tr>\n      <th>15130</th>\n      <td>i like horror movies i like scared</td>\n      <td>7</td>\n      <td>6</td>\n      <td>neutral</td>\n    </tr>\n    <tr>\n      <th>3269</th>\n      <td>i saw program t v saw skull  operation</td>\n      <td>1</td>\n      <td>1</td>\n      <td>disgust</td>\n    </tr>\n    <tr>\n      <th>14892</th>\n      <td>why take days</td>\n      <td>7</td>\n      <td>6</td>\n      <td>neutral</td>\n    </tr>\n  </tbody>\n</table>\n</div>"
     },
     "metadata": {},
     "execution_count": 104
    }
   ],
   "source": [
    "test_dataframe.head()"
   ]
  },
  {
   "cell_type": "code",
   "execution_count": null,
   "metadata": {},
   "outputs": [],
   "source": []
  }
 ]
}