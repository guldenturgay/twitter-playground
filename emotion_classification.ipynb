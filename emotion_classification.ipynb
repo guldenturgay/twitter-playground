{
 "metadata": {
  "language_info": {
   "codemirror_mode": {
    "name": "ipython",
    "version": 3
   },
   "file_extension": ".py",
   "mimetype": "text/x-python",
   "name": "python",
   "nbconvert_exporter": "python",
   "pygments_lexer": "ipython3",
   "version": "3.7.3"
  },
  "orig_nbformat": 2,
  "kernelspec": {
   "name": "python373jvsc74a57bd0f94c4a90f28a7fbd719ec002f9c893ca4c4858f29751705a64e5fc8dfb9b9070",
   "display_name": "Python 3.7.3 64-bit"
  },
  "metadata": {
   "interpreter": {
    "hash": "f94c4a90f28a7fbd719ec002f9c893ca4c4858f29751705a64e5fc8dfb9b9070"
   }
  }
 },
 "nbformat": 4,
 "nbformat_minor": 2,
 "cells": [
  {
   "cell_type": "code",
   "execution_count": 1,
   "metadata": {},
   "outputs": [],
   "source": [
    "# Import libraries and modules\n",
    "import pandas as pd\n",
    "import numpy as np\n",
    "import tensorflow as tf\n",
    "import tensorflow_hub as hub\n",
    "from sklearn.model_selection import train_test_split\n",
    "import keras\n",
    "import string\n",
    "import nltk\n",
    "from autocorrect import Speller\n",
    "import re\n",
    "import datetime, os\n"
   ]
  },
  {
   "cell_type": "code",
   "execution_count": 2,
   "metadata": {},
   "outputs": [
    {
     "output_type": "stream",
     "name": "stdout",
     "text": [
      "19107\n"
     ]
    },
    {
     "output_type": "execute_result",
     "data": {
      "text/plain": [
       "  emotion                                               text\n",
       "0   anger  he looks offended i tell perceived man man anger \n",
       "1   anger  we school room audiovisual classes we  watchin...\n",
       "2   anger          oh jim i told no pets it make mess house \n",
       "3   anger               getting terrible meals paying heaps \n",
       "4   anger  when drinking glass water i found cockroach wa..."
      ],
      "text/html": "<div>\n<style scoped>\n    .dataframe tbody tr th:only-of-type {\n        vertical-align: middle;\n    }\n\n    .dataframe tbody tr th {\n        vertical-align: top;\n    }\n\n    .dataframe thead th {\n        text-align: right;\n    }\n</style>\n<table border=\"1\" class=\"dataframe\">\n  <thead>\n    <tr style=\"text-align: right;\">\n      <th></th>\n      <th>emotion</th>\n      <th>text</th>\n    </tr>\n  </thead>\n  <tbody>\n    <tr>\n      <th>0</th>\n      <td>anger</td>\n      <td>he looks offended i tell perceived man man anger</td>\n    </tr>\n    <tr>\n      <th>1</th>\n      <td>anger</td>\n      <td>we school room audiovisual classes we  watchin...</td>\n    </tr>\n    <tr>\n      <th>2</th>\n      <td>anger</td>\n      <td>oh jim i told no pets it make mess house</td>\n    </tr>\n    <tr>\n      <th>3</th>\n      <td>anger</td>\n      <td>getting terrible meals paying heaps</td>\n    </tr>\n    <tr>\n      <th>4</th>\n      <td>anger</td>\n      <td>when drinking glass water i found cockroach wa...</td>\n    </tr>\n  </tbody>\n</table>\n</div>"
     },
     "metadata": {},
     "execution_count": 2
    }
   ],
   "source": [
    "data = pd.read_csv('datasets/dataset_complete_balanced.csv', encoding='utf8')\n",
    "print(len(data))\n",
    "data.head()"
   ]
  },
  {
   "cell_type": "code",
   "execution_count": 3,
   "metadata": {},
   "outputs": [
    {
     "output_type": "execute_result",
     "data": {
      "text/plain": [
       "                                                    text  emotion\n",
       "11632                                          you late         6\n",
       "9380                                           hey mary         4\n",
       "4518   the house fire i saved dog i afraid  fire verg...        2\n",
       "6388   making sexual pass cousin i close  personal re...        3\n",
       "1443   us banks also lost heavily furious bundesbank ...        0"
      ],
      "text/html": "<div>\n<style scoped>\n    .dataframe tbody tr th:only-of-type {\n        vertical-align: middle;\n    }\n\n    .dataframe tbody tr th {\n        vertical-align: top;\n    }\n\n    .dataframe thead th {\n        text-align: right;\n    }\n</style>\n<table border=\"1\" class=\"dataframe\">\n  <thead>\n    <tr style=\"text-align: right;\">\n      <th></th>\n      <th>text</th>\n      <th>emotion</th>\n    </tr>\n  </thead>\n  <tbody>\n    <tr>\n      <th>11632</th>\n      <td>you late</td>\n      <td>6</td>\n    </tr>\n    <tr>\n      <th>9380</th>\n      <td>hey mary</td>\n      <td>4</td>\n    </tr>\n    <tr>\n      <th>4518</th>\n      <td>the house fire i saved dog i afraid  fire verg...</td>\n      <td>2</td>\n    </tr>\n    <tr>\n      <th>6388</th>\n      <td>making sexual pass cousin i close  personal re...</td>\n      <td>3</td>\n    </tr>\n    <tr>\n      <th>1443</th>\n      <td>us banks also lost heavily furious bundesbank ...</td>\n      <td>0</td>\n    </tr>\n  </tbody>\n</table>\n</div>"
     },
     "metadata": {},
     "execution_count": 3
    }
   ],
   "source": [
    "from sklearn import preprocessing\n",
    "from sklearn.preprocessing import LabelEncoder\n",
    "\n",
    "data = data.sample(frac=1,random_state=42)\n",
    "data = data[['text','emotion']]\n",
    "data.emotion = LabelEncoder().fit_transform(data.emotion)\n",
    "data.head()"
   ]
  },
  {
   "cell_type": "code",
   "execution_count": 4,
   "metadata": {},
   "outputs": [
    {
     "output_type": "stream",
     "name": "stdout",
     "text": [
      "Using 11464 samples for training and 3822 for validation and 3821 for test\n"
     ]
    }
   ],
   "source": [
    "test_dataframe = data.sample(frac=0.2, random_state=1337)\n",
    "train_dataframe = data.drop(test_dataframe.index)\n",
    "\n",
    "val_dataframe = train_dataframe.sample(frac=0.25, random_state=1337)\n",
    "train_dataframe = train_dataframe.drop(val_dataframe.index)\n",
    "\n",
    "\n",
    "print(\"Using %d samples for training and %d for validation and %d for test\" % (len(train_dataframe), len(val_dataframe),len(test_dataframe)))"
   ]
  },
  {
   "cell_type": "code",
   "execution_count": 5,
   "metadata": {},
   "outputs": [],
   "source": [
    "def dataframe_to_dataset(dataframe):\n",
    "    data_copy = data.copy()\n",
    "    labels = data_copy.pop(\"emotion\")\n",
    "    ds = tf.data.Dataset.from_tensor_slices((dict(data_copy), labels))\n",
    "    ds = ds.shuffle(buffer_size=len(data_copy))\n",
    "    return ds\n",
    "\n",
    "\n",
    "train_ds = dataframe_to_dataset(train_dataframe)\n",
    "val_ds = dataframe_to_dataset(val_dataframe)\n",
    "test_ds = dataframe_to_dataset(test_dataframe)"
   ]
  },
  {
   "cell_type": "code",
   "execution_count": 6,
   "metadata": {},
   "outputs": [
    {
     "output_type": "stream",
     "name": "stdout",
     "text": [
      "Input: {'text': <tf.Tensor: shape=(), dtype=string, numpy=b'you look bit dull today what '>}\nTarget: tf.Tensor(7, shape=(), dtype=int32)\n"
     ]
    }
   ],
   "source": [
    "for x, y in train_ds.take(1):\n",
    "    print(\"Input:\", x)\n",
    "    print(\"Target:\", y)"
   ]
  },
  {
   "cell_type": "code",
   "execution_count": 7,
   "metadata": {},
   "outputs": [],
   "source": [
    "train_ds = train_ds.batch(32)\n",
    "val_ds = val_ds.batch(32)\n",
    "test_ds = test_ds.batch(32)"
   ]
  },
  {
   "cell_type": "code",
   "execution_count": 8,
   "metadata": {},
   "outputs": [
    {
     "output_type": "stream",
     "name": "stdout",
     "text": [
      "Model: \"sequential\"\n_________________________________________________________________\nLayer (type)                 Output Shape              Param #   \n=================================================================\nkeras_layer (KerasLayer)     (None, 128)               124642688 \n_________________________________________________________________\ndense (Dense)                (None, 128)               16512     \n_________________________________________________________________\ndense_1 (Dense)              (None, 64)                8256      \n_________________________________________________________________\ndense_2 (Dense)              (None, 32)                2080      \n_________________________________________________________________\ndense_3 (Dense)              (None, 10)                330       \n=================================================================\nTotal params: 124,669,866\nTrainable params: 27,178\nNon-trainable params: 124,642,688\n_________________________________________________________________\n"
     ]
    }
   ],
   "source": [
    "# Download pre-trained word embeddings\n",
    "embedding = \"https://tfhub.dev/google/nnlm-en-dim50/2\"\n",
    "\n",
    "# Create embedding layer\n",
    "#hub_layer = hub.KerasLayer(embedding, input_shape=[], dtype=tf.string)\n",
    "model_new = keras.Sequential([\n",
    "    hub.KerasLayer(\"https://tfhub.dev/google/tf2-preview/nnlm-en-dim128/1\", dtype=tf.string, input_shape=[], output_shape=[128]),\n",
    "    keras.layers.Dense(128, activation='relu'),\n",
    "    keras.layers.Dense(64, activation='relu'),\n",
    "    keras.layers.Dense(32, activation='relu'),\n",
    "    keras.layers.Dense(10, activation='softmax')\n",
    "])\n",
    "\n",
    "model_new.summary()"
   ]
  },
  {
   "cell_type": "code",
   "execution_count": 9,
   "metadata": {},
   "outputs": [],
   "source": [
    "%load_ext tensorboard\n"
   ]
  },
  {
   "cell_type": "code",
   "execution_count": 10,
   "metadata": {},
   "outputs": [
    {
     "output_type": "stream",
     "name": "stdout",
     "text": [
      "Epoch 1/10\n",
      "598/598 [==============================] - 4s 4ms/step - loss: 1.8287 - accuracy: 0.3173 - val_loss: 1.5755 - val_accuracy: 0.4061\n"
     ]
    }
   ],
   "source": [
    "\n",
    "optimizer = tf.keras.optimizers.Adam(0.01)\n",
    "model_new.compile(loss='sparse_categorical_crossentropy', optimizer=optimizer, metrics=['accuracy'])\n",
    "\n",
    "logdir = os.path.join(\"logs\", datetime.datetime.now().strftime(\"%Y%m%d-%H%M%S\"))\n",
    "\n",
    "tensorboard_cb = tf.keras.callbacks.TensorBoard(logdir, histogram_freq=1)\n",
    "\n",
    "history = model_new.fit(train_ds, epochs=10, validation_data=val_ds, callbacks = [tensorboard_cb])\n",
    "\n",
    "%tensorboard --logdir logs"
   ]
  },
  {
   "cell_type": "code",
   "execution_count": null,
   "metadata": {},
   "outputs": [],
   "source": []
  }
 ]
}