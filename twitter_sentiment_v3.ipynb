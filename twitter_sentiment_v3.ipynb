{
 "metadata": {
  "language_info": {
   "codemirror_mode": {
    "name": "ipython",
    "version": 3
   },
   "file_extension": ".py",
   "mimetype": "text/x-python",
   "name": "python",
   "nbconvert_exporter": "python",
   "pygments_lexer": "ipython3",
   "version": 3
  },
  "orig_nbformat": 2
 },
 "nbformat": 4,
 "nbformat_minor": 2,
 "cells": [
  {
   "cell_type": "code",
   "execution_count": null,
   "metadata": {},
   "outputs": [],
   "source": [
    "import tweepy as tw\n",
    "from dotenv import load_dotenv\n",
    "import pandas as pd\n",
    "import random\n",
    "    import os"
   ]
  },
  {
   "cell_type": "code",
   "execution_count": null,
   "metadata": {},
   "outputs": [],
   "source": [
    "# For more information about Twitter API credentials please read README.md file\n",
    "# Get credentials from .env file\n",
    "\n",
    "load_dotenv()\n",
    "API_KEY = os.getenv('API_KEY')\n",
    "API_SECRET_KEY = os.getenv('API_SECRET_KEY')\n",
    "ACCESS_TOKEN = os.getenv('ACCESS_TOKEN')\n",
    "ACCESS_TOKEN_SECRET = os.getenv('ACCESS_TOKEN_SECRET')\n",
    "\n",
    "\n",
    "# authenticate\n",
    "auth = tw.OAuthHandler(API_KEY, API_SECRET_KEY)\n",
    "auth.set_access_token(ACCESS_TOKEN, ACCESS_TOKEN_SECRET)\n",
    "api = tw.API(auth, wait_on_rate_limit=True, wait_on_rate_limit_notify=True)"
   ]
  },
  {
   "cell_type": "code",
   "execution_count": null,
   "metadata": {},
   "outputs": [],
   "source": [
    "timeline = api.home_timeline()\n",
    "\n",
    "\n",
    "tweets = []\n",
    "for tweet in timeline:\n",
    "    text = api.get_status(id=tweet.id, tweet_mode = 'extended').full_text\n",
    "    tweets.append(text)\n",
    "    t_df = pd.DataFrame(tweets)"
   ]
  },
  {
   "source": [
    "# Preprocess"
   ],
   "cell_type": "markdown",
   "metadata": {}
  },
  {
   "source": [
    "## Split train/test/validation data\n"
   ],
   "cell_type": "markdown",
   "metadata": {}
  },
  {
   "cell_type": "code",
   "execution_count": null,
   "metadata": {},
   "outputs": [],
   "source": [
    "tweets_df = pd.read_csv('tweet_df.csv')\n",
    "\n",
    "data = tweets_df['text'].copy()\n",
    "data_size = len(tweets_df['text'])\n",
    "print('data_size:',data_size)\n",
    "\n",
    "train_size = int(round(data_size*0.6, 0))\n",
    "test_size = int(round(data_size*0.3, 0))\n",
    "validation_size = int(round(data_size*0.1, 0))\n",
    "\n",
    "print('train_size:', train_size)\n",
    "print('test_size:', test_size)\n",
    "print('validation_size:', validation_size)"
   ]
  },
  {
   "cell_type": "code",
   "execution_count": null,
   "metadata": {},
   "outputs": [],
   "source": [
    "random.shuffle(data)\n",
    "\n",
    "train_data = list(data[:train_size])\n",
    "test_data = list(data[train_size:-validation_size])\n",
    "validation_data = list(data[-validation_size:])"
   ]
  }
 ]
}