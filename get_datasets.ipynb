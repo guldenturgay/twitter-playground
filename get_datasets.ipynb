{
 "metadata": {
  "language_info": {
   "codemirror_mode": {
    "name": "ipython",
    "version": 3
   },
   "file_extension": ".py",
   "mimetype": "text/x-python",
   "name": "python",
   "nbconvert_exporter": "python",
   "pygments_lexer": "ipython3",
   "version": "3.7.3"
  },
  "orig_nbformat": 2,
  "kernelspec": {
   "name": "python373jvsc74a57bd0f94c4a90f28a7fbd719ec002f9c893ca4c4858f29751705a64e5fc8dfb9b9070",
   "display_name": "Python 3.7.3 64-bit"
  },
  "metadata": {
   "interpreter": {
    "hash": "f94c4a90f28a7fbd719ec002f9c893ca4c4858f29751705a64e5fc8dfb9b9070"
   }
  }
 },
 "nbformat": 4,
 "nbformat_minor": 2,
 "cells": [
  {
   "cell_type": "code",
   "execution_count": 2,
   "metadata": {},
   "outputs": [],
   "source": [
    "import pandas as pd"
   ]
  },
  {
   "cell_type": "code",
   "execution_count": 4,
   "metadata": {},
   "outputs": [
    {
     "output_type": "execute_result",
     "data": {
      "text/plain": [
       "  emotion                                               text\n",
       "0       2                              The kitchen stinks . \n",
       "1       0                      I'll throw out the garbage . \n",
       "2       4  So Dick , how about getting some coffee for to...\n",
       "3       2   Coffee ? I don ’ t honestly like that kind of...\n",
       "4       0   Come on , you can at least try a little , bes..."
      ],
      "text/html": "<div>\n<style scoped>\n    .dataframe tbody tr th:only-of-type {\n        vertical-align: middle;\n    }\n\n    .dataframe tbody tr th {\n        vertical-align: top;\n    }\n\n    .dataframe thead th {\n        text-align: right;\n    }\n</style>\n<table border=\"1\" class=\"dataframe\">\n  <thead>\n    <tr style=\"text-align: right;\">\n      <th></th>\n      <th>emotion</th>\n      <th>text</th>\n    </tr>\n  </thead>\n  <tbody>\n    <tr>\n      <th>0</th>\n      <td>2</td>\n      <td>The kitchen stinks .</td>\n    </tr>\n    <tr>\n      <th>1</th>\n      <td>0</td>\n      <td>I'll throw out the garbage .</td>\n    </tr>\n    <tr>\n      <th>2</th>\n      <td>4</td>\n      <td>So Dick , how about getting some coffee for to...</td>\n    </tr>\n    <tr>\n      <th>3</th>\n      <td>2</td>\n      <td>Coffee ? I don ’ t honestly like that kind of...</td>\n    </tr>\n    <tr>\n      <th>4</th>\n      <td>0</td>\n      <td>Come on , you can at least try a little , bes...</td>\n    </tr>\n  </tbody>\n</table>\n</div>"
     },
     "metadata": {},
     "execution_count": 4
    }
   ],
   "source": [
    "with open('datasets/data_raw/dailydialog/dialogues_text.txt', encoding= 'utf-8') as f:\n",
    "    dialogue = f.readlines()\n",
    "\n",
    "with open('datasets/data_raw/dailydialog/dialogues_emotion.txt', encoding= 'utf-8') as f:\n",
    "    emotion = f.readlines()\n",
    "\n",
    "d=[]\n",
    "sentences = []\n",
    "for line in dialogue:\n",
    "    line = line.replace('\\n', '')\n",
    "    d.append(line.split('__eou__'))\n",
    "\n",
    "for lis in d:\n",
    "    for sentence in lis:\n",
    "        sentences.append(sentence)\n",
    "\n",
    "sentences = list(filter(None,sentences))\n",
    "\n",
    "emotion = ' '.join(emotion).split()\n",
    "\n",
    "df = pd.DataFrame(zip(emotion, sentences), columns=['emotion','text'])\n",
    "df.to_csv('datasets/dailydialog.csv')\n",
    "df.head()\n"
   ]
  },
  {
   "cell_type": "code",
   "execution_count": 25,
   "metadata": {},
   "outputs": [
    {
     "output_type": "stream",
     "name": "stdout",
     "text": [
      "2414\n"
     ]
    }
   ],
   "source": [
    "with open('datasets/data_raw/emotion_stimulus/Emotion Cause.txt', encoding= 'utf-8') as f:\n",
    "    emotion_stimulus = f.readlines()\n",
    "\n",
    "with open('datasets/data_raw/emotion_stimulus/No Cause.txt', encoding= 'utf-8') as f:\n",
    "    emotion_stimulus_no_cause = f.readlines()\n",
    "\n",
    "emotion_stimulus_all = emotion_stimulus+emotion_stimulus_no_cause\n",
    "print(len(emotion_stimulus_all))"
   ]
  },
  {
   "cell_type": "code",
   "execution_count": 26,
   "metadata": {},
   "outputs": [
    {
     "output_type": "execute_result",
     "data": {
      "text/plain": [
       "[\"<happy>I suppose I am happy <cause>being so ` tiny'<\\\\cause> ; it means I am able to surprise people with what is generally seen as my confident and outgoing personality . <\\\\happy>\\n\",\n",
       " '<happy>Lennox has always truly wanted to fight for the world title and was happy <cause>taking the tough route<\\\\cause> . <\\\\happy>\\n',\n",
       " '<happy>He was a professional musician now , still sensitive and happy <cause>doing something he loved<\\\\cause> . <\\\\happy>\\n',\n",
       " '<happy>Holmes is happy <cause>having the freedom of the house when we are out<\\\\cause> . <\\\\happy>\\n',\n",
       " '<happy>I had problems with tutors trying to encourage me to diversity my work and experiment with other styles , but I was quite happy <cause>with the direction my work was heading<\\\\cause> so I stubbornly stuck to it . <\\\\happy>\\n']"
      ]
     },
     "metadata": {},
     "execution_count": 26
    }
   ],
   "source": [
    "emotion_stimulus_all[:5]"
   ]
  },
  {
   "cell_type": "code",
   "execution_count": 60,
   "metadata": {},
   "outputs": [
    {
     "output_type": "execute_result",
     "data": {
      "text/plain": [
       "                                                text\n",
       "0  <happy>I suppose I am happy <cause>being so ` ...\n",
       "1  <happy>Lennox has always truly wanted to fight...\n",
       "2  <happy>He was a professional musician now , st...\n",
       "3  <happy>Holmes is happy <cause>having the freed...\n",
       "4  <happy>I had problems with tutors trying to en..."
      ],
      "text/html": "<div>\n<style scoped>\n    .dataframe tbody tr th:only-of-type {\n        vertical-align: middle;\n    }\n\n    .dataframe tbody tr th {\n        vertical-align: top;\n    }\n\n    .dataframe thead th {\n        text-align: right;\n    }\n</style>\n<table border=\"1\" class=\"dataframe\">\n  <thead>\n    <tr style=\"text-align: right;\">\n      <th></th>\n      <th>text</th>\n    </tr>\n  </thead>\n  <tbody>\n    <tr>\n      <th>0</th>\n      <td>&lt;happy&gt;I suppose I am happy &lt;cause&gt;being so ` ...</td>\n    </tr>\n    <tr>\n      <th>1</th>\n      <td>&lt;happy&gt;Lennox has always truly wanted to fight...</td>\n    </tr>\n    <tr>\n      <th>2</th>\n      <td>&lt;happy&gt;He was a professional musician now , st...</td>\n    </tr>\n    <tr>\n      <th>3</th>\n      <td>&lt;happy&gt;Holmes is happy &lt;cause&gt;having the freed...</td>\n    </tr>\n    <tr>\n      <th>4</th>\n      <td>&lt;happy&gt;I had problems with tutors trying to en...</td>\n    </tr>\n  </tbody>\n</table>\n</div>"
     },
     "metadata": {},
     "execution_count": 60
    }
   ],
   "source": [
    "df_emotion_stimulus = pd.DataFrame(emotion_stimulus_all,columns=['text'])\n",
    "df_emotion_stimulus.head()\n"
   ]
  },
  {
   "cell_type": "code",
   "execution_count": 61,
   "metadata": {},
   "outputs": [],
   "source": [
    "df_emotion_stimulus['emotion'] = df_emotion_stimulus['text'].apply(lambda x: str(x.split('>')[0]))\n",
    "\n",
    "df_emotion_stimulus =  df_emotion_stimulus.applymap(lambda x: str(x.replace('<cause>','')))"
   ]
  },
  {
   "cell_type": "code",
   "execution_count": 62,
   "metadata": {},
   "outputs": [
    {
     "output_type": "execute_result",
     "data": {
      "text/plain": [
       "                                                text emotion\n",
       "0  <happy>I suppose I am happy being so ` tiny'<\\...  <happy\n",
       "1  <happy>Lennox has always truly wanted to fight...  <happy\n",
       "2  <happy>He was a professional musician now , st...  <happy\n",
       "3  <happy>Holmes is happy having the freedom of t...  <happy\n",
       "4  <happy>I had problems with tutors trying to en...  <happy"
      ],
      "text/html": "<div>\n<style scoped>\n    .dataframe tbody tr th:only-of-type {\n        vertical-align: middle;\n    }\n\n    .dataframe tbody tr th {\n        vertical-align: top;\n    }\n\n    .dataframe thead th {\n        text-align: right;\n    }\n</style>\n<table border=\"1\" class=\"dataframe\">\n  <thead>\n    <tr style=\"text-align: right;\">\n      <th></th>\n      <th>text</th>\n      <th>emotion</th>\n    </tr>\n  </thead>\n  <tbody>\n    <tr>\n      <th>0</th>\n      <td>&lt;happy&gt;I suppose I am happy being so ` tiny'&lt;\\...</td>\n      <td>&lt;happy</td>\n    </tr>\n    <tr>\n      <th>1</th>\n      <td>&lt;happy&gt;Lennox has always truly wanted to fight...</td>\n      <td>&lt;happy</td>\n    </tr>\n    <tr>\n      <th>2</th>\n      <td>&lt;happy&gt;He was a professional musician now , st...</td>\n      <td>&lt;happy</td>\n    </tr>\n    <tr>\n      <th>3</th>\n      <td>&lt;happy&gt;Holmes is happy having the freedom of t...</td>\n      <td>&lt;happy</td>\n    </tr>\n    <tr>\n      <th>4</th>\n      <td>&lt;happy&gt;I had problems with tutors trying to en...</td>\n      <td>&lt;happy</td>\n    </tr>\n  </tbody>\n</table>\n</div>"
     },
     "metadata": {},
     "execution_count": 62
    }
   ],
   "source": [
    "df_emotion_stimulus.head()"
   ]
  },
  {
   "cell_type": "code",
   "execution_count": null,
   "metadata": {},
   "outputs": [],
   "source": []
  }
 ]
}