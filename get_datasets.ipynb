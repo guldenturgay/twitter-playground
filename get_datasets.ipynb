{
 "metadata": {
  "language_info": {
   "codemirror_mode": {
    "name": "ipython",
    "version": 3
   },
   "file_extension": ".py",
   "mimetype": "text/x-python",
   "name": "python",
   "nbconvert_exporter": "python",
   "pygments_lexer": "ipython3",
   "version": "3.7.3"
  },
  "orig_nbformat": 2,
  "kernelspec": {
   "name": "python373jvsc74a57bd0f94c4a90f28a7fbd719ec002f9c893ca4c4858f29751705a64e5fc8dfb9b9070",
   "display_name": "Python 3.7.3 64-bit"
  },
  "metadata": {
   "interpreter": {
    "hash": "f94c4a90f28a7fbd719ec002f9c893ca4c4858f29751705a64e5fc8dfb9b9070"
   }
  }
 },
 "nbformat": 4,
 "nbformat_minor": 2,
 "cells": [
  {
   "cell_type": "code",
   "execution_count": 1,
   "metadata": {},
   "outputs": [],
   "source": [
    "import pandas as pd"
   ]
  },
  {
   "source": [
    "## Get daily dialog data"
   ],
   "cell_type": "markdown",
   "metadata": {}
  },
  {
   "cell_type": "code",
   "execution_count": 2,
   "metadata": {},
   "outputs": [
    {
     "output_type": "execute_result",
     "data": {
      "text/plain": [
       "  emotion                                               text\n",
       "0       2                              The kitchen stinks . \n",
       "1       0                      I'll throw out the garbage . \n",
       "2       4  So Dick , how about getting some coffee for to...\n",
       "3       2   Coffee ? I don ’ t honestly like that kind of...\n",
       "4       0   Come on , you can at least try a little , bes..."
      ],
      "text/html": "<div>\n<style scoped>\n    .dataframe tbody tr th:only-of-type {\n        vertical-align: middle;\n    }\n\n    .dataframe tbody tr th {\n        vertical-align: top;\n    }\n\n    .dataframe thead th {\n        text-align: right;\n    }\n</style>\n<table border=\"1\" class=\"dataframe\">\n  <thead>\n    <tr style=\"text-align: right;\">\n      <th></th>\n      <th>emotion</th>\n      <th>text</th>\n    </tr>\n  </thead>\n  <tbody>\n    <tr>\n      <th>0</th>\n      <td>2</td>\n      <td>The kitchen stinks .</td>\n    </tr>\n    <tr>\n      <th>1</th>\n      <td>0</td>\n      <td>I'll throw out the garbage .</td>\n    </tr>\n    <tr>\n      <th>2</th>\n      <td>4</td>\n      <td>So Dick , how about getting some coffee for to...</td>\n    </tr>\n    <tr>\n      <th>3</th>\n      <td>2</td>\n      <td>Coffee ? I don ’ t honestly like that kind of...</td>\n    </tr>\n    <tr>\n      <th>4</th>\n      <td>0</td>\n      <td>Come on , you can at least try a little , bes...</td>\n    </tr>\n  </tbody>\n</table>\n</div>"
     },
     "metadata": {},
     "execution_count": 2
    }
   ],
   "source": [
    "# Get daily dialog data\n",
    "\n",
    "with open('datasets/data_raw/dailydialog/dialogues_text.txt', encoding= 'utf-8') as f:\n",
    "    dialogue = f.readlines()\n",
    "\n",
    "with open('datasets/data_raw/dailydialog/dialogues_emotion.txt', encoding= 'utf-8') as f:\n",
    "    emotion = f.readlines()\n",
    "\n",
    "d=[]\n",
    "sentences = []\n",
    "for line in dialogue:\n",
    "    line = line.replace('\\n', '')\n",
    "    d.append(line.split('__eou__'))\n",
    "\n",
    "for lis in d:\n",
    "    for sentence in lis:\n",
    "        sentences.append(sentence)\n",
    "\n",
    "sentences = list(filter(None,sentences))\n",
    "\n",
    "emotion = ' '.join(emotion).split()\n",
    "\n",
    "df = pd.DataFrame(zip(emotion, sentences), columns=['emotion','text'])\n",
    "df.to_csv('datasets/dailydialog.csv')\n",
    "df.head()\n"
   ]
  },
  {
   "source": [
    "## Get emotion stimulus data"
   ],
   "cell_type": "markdown",
   "metadata": {}
  },
  {
   "cell_type": "code",
   "execution_count": 3,
   "metadata": {},
   "outputs": [
    {
     "output_type": "stream",
     "name": "stdout",
     "text": [
      "2414\n"
     ]
    }
   ],
   "source": [
    "# Get emotion stimulus data\n",
    "\n",
    "with open('datasets/data_raw/emotion_stimulus/Emotion Cause.txt', encoding= 'utf-8') as f:\n",
    "    emotion_stimulus = f.readlines()\n",
    "\n",
    "with open('datasets/data_raw/emotion_stimulus/No Cause.txt', encoding= 'utf-8') as f:\n",
    "    emotion_stimulus_no_cause = f.readlines()\n",
    "\n",
    "emotion_stimulus_all = emotion_stimulus+emotion_stimulus_no_cause\n",
    "print(len(emotion_stimulus_all))"
   ]
  },
  {
   "cell_type": "code",
   "execution_count": 4,
   "metadata": {},
   "outputs": [],
   "source": [
    "df_emotion_stimulus = pd.DataFrame(emotion_stimulus_all,columns=['text'])\n",
    "\n",
    "df_emotion_stimulus['emotion'] = df_emotion_stimulus['text'].apply(lambda x: str(x.split('>')[0]))"
   ]
  },
  {
   "cell_type": "code",
   "execution_count": 5,
   "metadata": {},
   "outputs": [
    {
     "output_type": "execute_result",
     "data": {
      "text/plain": [
       "                                                text emotion\n",
       "0  <happy>I suppose I am happy <cause>being so ` ...  <happy\n",
       "1  <happy>Lennox has always truly wanted to fight...  <happy\n",
       "2  <happy>He was a professional musician now , st...  <happy\n",
       "3  <happy>Holmes is happy <cause>having the freed...  <happy\n",
       "4  <happy>I had problems with tutors trying to en...  <happy"
      ],
      "text/html": "<div>\n<style scoped>\n    .dataframe tbody tr th:only-of-type {\n        vertical-align: middle;\n    }\n\n    .dataframe tbody tr th {\n        vertical-align: top;\n    }\n\n    .dataframe thead th {\n        text-align: right;\n    }\n</style>\n<table border=\"1\" class=\"dataframe\">\n  <thead>\n    <tr style=\"text-align: right;\">\n      <th></th>\n      <th>text</th>\n      <th>emotion</th>\n    </tr>\n  </thead>\n  <tbody>\n    <tr>\n      <th>0</th>\n      <td>&lt;happy&gt;I suppose I am happy &lt;cause&gt;being so ` ...</td>\n      <td>&lt;happy</td>\n    </tr>\n    <tr>\n      <th>1</th>\n      <td>&lt;happy&gt;Lennox has always truly wanted to fight...</td>\n      <td>&lt;happy</td>\n    </tr>\n    <tr>\n      <th>2</th>\n      <td>&lt;happy&gt;He was a professional musician now , st...</td>\n      <td>&lt;happy</td>\n    </tr>\n    <tr>\n      <th>3</th>\n      <td>&lt;happy&gt;Holmes is happy &lt;cause&gt;having the freed...</td>\n      <td>&lt;happy</td>\n    </tr>\n    <tr>\n      <th>4</th>\n      <td>&lt;happy&gt;I had problems with tutors trying to en...</td>\n      <td>&lt;happy</td>\n    </tr>\n  </tbody>\n</table>\n</div>"
     },
     "metadata": {},
     "execution_count": 5
    }
   ],
   "source": [
    "df_emotion_stimulus.head()"
   ]
  },
  {
   "cell_type": "code",
   "execution_count": 6,
   "metadata": {},
   "outputs": [
    {
     "output_type": "execute_result",
     "data": {
      "text/plain": [
       "  emotion                                               text\n",
       "0   happy  I suppose I am happy being so ` tiny' ; it mea...\n",
       "1   happy  Lennox has always truly wanted to fight for th...\n",
       "2   happy  He was a professional musician now , still sen...\n",
       "3   happy  Holmes is happy having the freedom of the hous...\n",
       "4   happy  I had problems with tutors trying to encourage..."
      ],
      "text/html": "<div>\n<style scoped>\n    .dataframe tbody tr th:only-of-type {\n        vertical-align: middle;\n    }\n\n    .dataframe tbody tr th {\n        vertical-align: top;\n    }\n\n    .dataframe thead th {\n        text-align: right;\n    }\n</style>\n<table border=\"1\" class=\"dataframe\">\n  <thead>\n    <tr style=\"text-align: right;\">\n      <th></th>\n      <th>emotion</th>\n      <th>text</th>\n    </tr>\n  </thead>\n  <tbody>\n    <tr>\n      <th>0</th>\n      <td>happy</td>\n      <td>I suppose I am happy being so ` tiny' ; it mea...</td>\n    </tr>\n    <tr>\n      <th>1</th>\n      <td>happy</td>\n      <td>Lennox has always truly wanted to fight for th...</td>\n    </tr>\n    <tr>\n      <th>2</th>\n      <td>happy</td>\n      <td>He was a professional musician now , still sen...</td>\n    </tr>\n    <tr>\n      <th>3</th>\n      <td>happy</td>\n      <td>Holmes is happy having the freedom of the hous...</td>\n    </tr>\n    <tr>\n      <th>4</th>\n      <td>happy</td>\n      <td>I had problems with tutors trying to encourage...</td>\n    </tr>\n  </tbody>\n</table>\n</div>"
     },
     "metadata": {},
     "execution_count": 6
    }
   ],
   "source": [
    "def clean_text(text):\n",
    "    import re\n",
    "    rep = {'<cause>': '',\n",
    "           r'<\\\\cause>': '',\n",
    "           '<happy>': '',\n",
    "           '<sad>': '',\n",
    "           '<anger>': '',\n",
    "           '<fear>': '',\n",
    "           '<suprise>': '',\n",
    "           '<shame>': '',\n",
    "           '<disgust>': ''}\n",
    "\n",
    "    for item in rep.keys():\n",
    "        text = re.sub(item, rep[item], text)\n",
    "        \n",
    "    return text\n",
    "\n",
    "\n",
    "df_emotion_stimulus['text'] =  df_emotion_stimulus['text'].apply(lambda x: clean_text(x))\n",
    "\n",
    "df_emotion_stimulus['emotion'] = df_emotion_stimulus['emotion'].apply(lambda x: x.replace('<',''))\n",
    "df_emotion_stimulus.to_csv('datasets/emotion_stimulus.csv')\n",
    "df_emotion_stimulus= df_emotion_stimulus[['emotion','text']]\n",
    "\n",
    "df_emotion_stimulus.head()"
   ]
  },
  {
   "source": [
    "## Get Isear data"
   ],
   "cell_type": "markdown",
   "metadata": {}
  },
  {
   "cell_type": "code",
   "execution_count": 7,
   "metadata": {
    "tags": []
   },
   "outputs": [
    {
     "output_type": "execute_result",
     "data": {
      "text/plain": [
       "   emotion                                               text\n",
       "0      joy  During the period of falling in love, each tim...\n",
       "1     fear         When I was involved in a traffic accident.\n",
       "2    anger  When I was driving home after  several days of...\n",
       "3  sadness  When I lost the person who meant the most to me. \n",
       "4  disgust  The time I knocked a deer down - the sight of ..."
      ],
      "text/html": "<div>\n<style scoped>\n    .dataframe tbody tr th:only-of-type {\n        vertical-align: middle;\n    }\n\n    .dataframe tbody tr th {\n        vertical-align: top;\n    }\n\n    .dataframe thead th {\n        text-align: right;\n    }\n</style>\n<table border=\"1\" class=\"dataframe\">\n  <thead>\n    <tr style=\"text-align: right;\">\n      <th></th>\n      <th>emotion</th>\n      <th>text</th>\n    </tr>\n  </thead>\n  <tbody>\n    <tr>\n      <th>0</th>\n      <td>joy</td>\n      <td>During the period of falling in love, each tim...</td>\n    </tr>\n    <tr>\n      <th>1</th>\n      <td>fear</td>\n      <td>When I was involved in a traffic accident.</td>\n    </tr>\n    <tr>\n      <th>2</th>\n      <td>anger</td>\n      <td>When I was driving home after  several days of...</td>\n    </tr>\n    <tr>\n      <th>3</th>\n      <td>sadness</td>\n      <td>When I lost the person who meant the most to me.</td>\n    </tr>\n    <tr>\n      <th>4</th>\n      <td>disgust</td>\n      <td>The time I knocked a deer down - the sight of ...</td>\n    </tr>\n  </tbody>\n</table>\n</div>"
     },
     "metadata": {},
     "execution_count": 7
    }
   ],
   "source": [
    "df_isear = pd.read_csv('datasets/data_raw/isear.csv', sep='|',header=None, names=['ID','CITY','COUN','SUBJ','SEX','AGE','RELI','PRAC','FOCC','MOCC','FIEL','EMOT','WHEN','LONG','INTS','ERGO','TROPHO','TEMPER','EXPRES','MOVE','EXP1','EXP2','EXP10','PARAL','CON','EXPC','PLEA','PLAN','FAIR','CAUS','COPING','MORL','SELF','RELA','VERBAL','NEUTRO','Field1','Field3','Field2','MYKEY','SIT','STATE'])\n",
    "\n",
    "df_isear.columns = ['CITY','COUN','SUBJ','SEX','AGE','RELI','PRAC','FOCC','MOCC','FIEL','EMOT','WHEN','LONG','INTS','ERGO','TROPHO','TEMPER','EXPRES','MOVE','EXP1','EXP2','EXP10','PARAL','CON','EXPC','PLEA','PLAN','FAIR','CAUS','COPING','MORL','SELF','RELA','VERBAL','NEUTRO','Field1','Field3','Field2','MYKEY','SIT','STATE','']\n",
    "\n",
    "df_isear = df_isear[['Field1','SIT']]\n",
    "df_isear = df_isear[df_isear.Field1!='Field1']\n",
    "df_isear.reset_index(drop=True, inplace=True)\n",
    "df_isear.columns=['emotion','text']\n",
    "df_isear.to_csv('datasets/isear.csv')\n",
    "df_isear.head()"
   ]
  },
  {
   "cell_type": "code",
   "execution_count": 9,
   "metadata": {},
   "outputs": [],
   "source": [
    "frames = [df_isear, df_emotion_stimulus,df]\n",
    "df = pd.concat(frames)"
   ]
  },
  {
   "cell_type": "code",
   "execution_count": 11,
   "metadata": {},
   "outputs": [
    {
     "output_type": "execute_result",
     "data": {
      "text/plain": [
       "0           85572\n",
       "4           12885\n",
       "6            1823\n",
       "anger        1579\n",
       "fear         1518\n",
       "shame        1242\n",
       "disgust      1191\n",
       "5            1150\n",
       "sadness      1096\n",
       "joy          1094\n",
       "guilt        1093\n",
       "1            1022\n",
       "sad           575\n",
       "happy         479\n",
       "2             353\n",
       "surprise      213\n",
       "3             174\n",
       "Name: emotion, dtype: int64"
      ]
     },
     "metadata": {},
     "execution_count": 11
    }
   ],
   "source": [
    "df['emotion'].value_counts()"
   ]
  },
  {
   "cell_type": "code",
   "execution_count": 15,
   "metadata": {},
   "outputs": [],
   "source": [
    "\n",
    "def clean_text(text):\n",
    "    import re\n",
    "    replace_emotions = {'0': 'neutral',\n",
    "                    '1': 'anger',\n",
    "                    '2': 'disgust',\n",
    "                    '3': 'fear',\n",
    "                    '4': 'happy',\n",
    "                    '5': 'sad',\n",
    "                    '6': 'suprise',\n",
    "                    'sadness': 'sad'}\n",
    "\n",
    "    for item in replace_emotions.keys():\n",
    "        text = re.sub(item, replace_emotions[item], text)\n",
    "        \n",
    "    return text\n",
    "\n",
    "df['emotion'] =  df['emotion'].apply(lambda x: clean_text(x))\n",
    "df.to_csv('datasets/dataset_complete.csv')"
   ]
  },
  {
   "cell_type": "code",
   "execution_count": 14,
   "metadata": {},
   "outputs": [
    {
     "output_type": "execute_result",
     "data": {
      "text/plain": [
       "neutral     85572\n",
       "happy       13364\n",
       "sad          2821\n",
       "anger        2601\n",
       "suprise      1823\n",
       "fear         1692\n",
       "disgust      1544\n",
       "shame        1242\n",
       "joy          1094\n",
       "guilt        1093\n",
       "surprise      213\n",
       "Name: emotion, dtype: int64"
      ]
     },
     "metadata": {},
     "execution_count": 14
    }
   ],
   "source": [
    "df['emotion'].value_counts()"
   ]
  },
  {
   "cell_type": "code",
   "execution_count": null,
   "metadata": {},
   "outputs": [],
   "source": []
  }
 ]
}