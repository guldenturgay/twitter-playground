{
 "cells": [
  {
   "cell_type": "markdown",
   "metadata": {},
   "source": [
    "# Get the Data"
   ]
  },
  {
   "cell_type": "code",
   "execution_count": 100,
   "metadata": {},
   "outputs": [],
   "source": [
    "#!pip install tweepy\n",
    "#!pip install tensorflow_hub\n",
    "#!pip install tensorflow_text"
   ]
  },
  {
   "cell_type": "code",
   "execution_count": 101,
   "metadata": {},
   "outputs": [],
   "source": [
    "import tweepy as tw\n",
    "from dotenv import load_dotenv\n",
    "import os\n",
    "import re\n",
    "import string\n",
    "import nltk\n",
    "from nltk.corpus import stopwords\n",
    "import pandas as pd\n",
    "import random\n",
    "import tensorflow as tf\n",
    "import tensorflow_hub as hub\n",
    "import tensorflow_text as text"
   ]
  },
  {
   "cell_type": "code",
   "execution_count": 3,
   "metadata": {},
   "outputs": [],
   "source": [
    "\"\"\"# For more information about Twitter API credentials please read README.md file\n",
    "# Get credentials from .env file\n",
    "\n",
    "load_dotenv()\n",
    "API_KEY = os.getenv('API_KEY')\n",
    "API_SECRET_KEY = os.getenv('API_SECRET_KEY')\n",
    "BEARER_TOKEN = os.getenv('BEARER_TOKEN')\n",
    "\n",
    "# authenticate\n",
    "auth = tw.OAuthHandler(API_KEY, API_SECRET_KEY)\n",
    "api = tw.API(auth, wait_on_rate_limit=True)\"\"\""
   ]
  },
  {
   "cell_type": "code",
   "execution_count": 20,
   "metadata": {},
   "outputs": [
    {
     "name": "stdout",
     "output_type": "stream",
     "text": [
      "Total Tweets fetched: 1571\n"
     ]
    }
   ],
   "source": [
    "\"\"\"search_query = '#seattle -filter:retweets'\n",
    "\n",
    "tweets = tw.Cursor(api.search, q=search_query, lan='en').items()\n",
    "\n",
    "tweets_list = []\n",
    "for tweet in tweets:\n",
    "    tweets_list.append(tweet)\n",
    "    \n",
    "    \n",
    "print(\"Total Tweets fetched:\", len(tweets_list))\"\"\""
   ]
  },
  {
   "cell_type": "code",
   "execution_count": 21,
   "metadata": {
    "scrolled": true
   },
   "outputs": [
    {
     "data": {
      "text/html": [
       "<div>\n",
       "<style scoped>\n",
       "    .dataframe tbody tr th:only-of-type {\n",
       "        vertical-align: middle;\n",
       "    }\n",
       "\n",
       "    .dataframe tbody tr th {\n",
       "        vertical-align: top;\n",
       "    }\n",
       "\n",
       "    .dataframe thead th {\n",
       "        text-align: right;\n",
       "    }\n",
       "</style>\n",
       "<table border=\"1\" class=\"dataframe\">\n",
       "  <thead>\n",
       "    <tr style=\"text-align: right;\">\n",
       "      <th></th>\n",
       "      <th>location</th>\n",
       "      <th>text</th>\n",
       "      <th>date</th>\n",
       "      <th>hashtags</th>\n",
       "    </tr>\n",
       "  </thead>\n",
       "  <tbody>\n",
       "    <tr>\n",
       "      <th>0</th>\n",
       "      <td>Seattle, WA</td>\n",
       "      <td>Blocked in #Seattle on 4th Ave NB between Jeff...</td>\n",
       "      <td>2021-01-08 22:40:44</td>\n",
       "      <td>[Seattle, traffic]</td>\n",
       "    </tr>\n",
       "    <tr>\n",
       "      <th>1</th>\n",
       "      <td>Bellevue, WA</td>\n",
       "      <td>Wild Honey Caramel Crape Cake from TemSib Thai...</td>\n",
       "      <td>2021-01-08 22:39:34</td>\n",
       "      <td>[dessert, bellevue, Seattle]</td>\n",
       "    </tr>\n",
       "    <tr>\n",
       "      <th>2</th>\n",
       "      <td>USA-WA-Seattle Metro</td>\n",
       "      <td>Don't submit then quit. Apply for jobs like \"P...</td>\n",
       "      <td>2021-01-08 22:36:41</td>\n",
       "      <td>None</td>\n",
       "    </tr>\n",
       "    <tr>\n",
       "      <th>3</th>\n",
       "      <td></td>\n",
       "      <td>Happy birthday Elvis Presley. #music #girls #g...</td>\n",
       "      <td>2021-01-08 22:34:13</td>\n",
       "      <td>[music, girls, guitar, LakeOswego, Gresham, Or...</td>\n",
       "    </tr>\n",
       "    <tr>\n",
       "      <th>4</th>\n",
       "      <td>Seattle, WA</td>\n",
       "      <td>Sen. Murray urges Sens. Hawley, Cruz to resign...</td>\n",
       "      <td>2021-01-08 22:33:32</td>\n",
       "      <td>[seattle]</td>\n",
       "    </tr>\n",
       "  </tbody>\n",
       "</table>\n",
       "</div>"
      ],
      "text/plain": [
       "               location                                               text  \\\n",
       "0           Seattle, WA  Blocked in #Seattle on 4th Ave NB between Jeff...   \n",
       "1          Bellevue, WA  Wild Honey Caramel Crape Cake from TemSib Thai...   \n",
       "2  USA-WA-Seattle Metro  Don't submit then quit. Apply for jobs like \"P...   \n",
       "3                        Happy birthday Elvis Presley. #music #girls #g...   \n",
       "4           Seattle, WA  Sen. Murray urges Sens. Hawley, Cruz to resign...   \n",
       "\n",
       "                 date                                           hashtags  \n",
       "0 2021-01-08 22:40:44                                 [Seattle, traffic]  \n",
       "1 2021-01-08 22:39:34                       [dessert, bellevue, Seattle]  \n",
       "2 2021-01-08 22:36:41                                               None  \n",
       "3 2021-01-08 22:34:13  [music, girls, guitar, LakeOswego, Gresham, Or...  \n",
       "4 2021-01-08 22:33:32                                          [seattle]  "
      ]
     },
     "execution_count": 21,
     "metadata": {},
     "output_type": "execute_result"
    }
   ],
   "source": [
    "\"\"\"tweets_df = pd.DataFrame()\n",
    "\n",
    "for t in tweets_list:\n",
    "    hashtags=[]\n",
    "    try:\n",
    "        for hashtag in t.entities['hashtags']:\n",
    "            hashtags.append(hashtag['text'])\n",
    "        text = api.get_status(id=t.id, tweet_mode = 'extended').full_text\n",
    "    except:\n",
    "        pass\n",
    "    tweets_df = tweets_df.append(pd.DataFrame({'location': t.user.location,\n",
    "                                               'text': text,\n",
    "                                               'date': t.created_at,\n",
    "                                               'hashtags': [hashtags if hashtags else None]}))\n",
    "    \n",
    "    tweets_df = tweets_df.reset_index(drop=True)\n",
    "    \n",
    "tweets_df.head()\"\"\""
   ]
  },
  {
   "cell_type": "code",
   "execution_count": 22,
   "metadata": {},
   "outputs": [],
   "source": [
    "#tweets_df.to_csv('tweets.csv')"
   ]
  },
  {
   "cell_type": "markdown",
   "metadata": {},
   "source": [
    "# Preprocess"
   ]
  },
  {
   "cell_type": "markdown",
   "metadata": {},
   "source": [
    "## Split train/test/validation data"
   ]
  },
  {
   "cell_type": "code",
   "execution_count": 102,
   "metadata": {},
   "outputs": [],
   "source": [
    "tweets_df = pd.read_csv('tweets.csv')"
   ]
  },
  {
   "cell_type": "code",
   "execution_count": 103,
   "metadata": {},
   "outputs": [
    {
     "name": "stdout",
     "output_type": "stream",
     "text": [
      "data_size: 1571\n",
      "train_size: 943\n",
      "test_size: 471\n",
      "validation_size: 157\n"
     ]
    }
   ],
   "source": [
    "data = tweets_df['text'].copy()\n",
    "data_size = len(tweets_df['text'])\n",
    "print('data_size:',data_size)\n",
    "\n",
    "train_size = int(round(data_size*0.6, 0))\n",
    "test_size = int(round(data_size*0.3, 0))\n",
    "validation_size = int(round(data_size*0.1, 0))\n",
    "\n",
    "print('train_size:', train_size)\n",
    "print('test_size:', test_size)\n",
    "print('validation_size:', validation_size)"
   ]
  },
  {
   "cell_type": "code",
   "execution_count": 104,
   "metadata": {},
   "outputs": [],
   "source": [
    "random.shuffle(data)\n",
    "\n",
    "train_data = list(data[:train_size])\n",
    "test_data = list(data[train_size:-validation_size])\n",
    "validation_data = list(data[-validation_size:])"
   ]
  },
  {
   "cell_type": "markdown",
   "metadata": {},
   "source": [
    "## Model"
   ]
  },
  {
   "cell_type": "code",
   "execution_count": 157,
   "metadata": {},
   "outputs": [
    {
     "data": {
      "application/vnd.jupyter.widget-view+json": {
       "model_id": "4e1c178c922a45eea23465b7c9f4d0e1",
       "version_major": 2,
       "version_minor": 0
      },
      "text/plain": [
       "HBox(children=(FloatProgress(value=0.0, description='Downloading', max=433.0, style=ProgressStyle(description_…"
      ]
     },
     "metadata": {},
     "output_type": "display_data"
    },
    {
     "name": "stdout",
     "output_type": "stream",
     "text": [
      "\n"
     ]
    },
    {
     "data": {
      "application/vnd.jupyter.widget-view+json": {
       "model_id": "728b3f9467774b259a25cfa73e9b1806",
       "version_major": 2,
       "version_minor": 0
      },
      "text/plain": [
       "HBox(children=(FloatProgress(value=0.0, description='Downloading', max=536063208.0, style=ProgressStyle(descri…"
      ]
     },
     "metadata": {},
     "output_type": "display_data"
    },
    {
     "name": "stdout",
     "output_type": "stream",
     "text": [
      "\n"
     ]
    },
    {
     "name": "stderr",
     "output_type": "stream",
     "text": [
      "Some layers from the model checkpoint at bert-base-uncased were not used when initializing TFBertModel: ['nsp___cls', 'mlm___cls']\n",
      "- This IS expected if you are initializing TFBertModel from the checkpoint of a model trained on another task or with another architecture (e.g. initializing a BertForSequenceClassification model from a BertForPreTraining model).\n",
      "- This IS NOT expected if you are initializing TFBertModel from the checkpoint of a model that you expect to be exactly identical (initializing a BertForSequenceClassification model from a BertForSequenceClassification model).\n",
      "All the layers of TFBertModel were initialized from the model checkpoint at bert-base-uncased.\n",
      "If your task is similar to the task the model of the checkpoint was trained on, you can already use TFBertModel for predictions without further training.\n"
     ]
    }
   ],
   "source": [
    "from transformers import BertTokenizer, TFBertModel\n",
    "tokenizer = BertTokenizer.from_pretrained('bert-base-uncased')\n",
    "model = TFBertModel.from_pretrained(\"bert-base-uncased\")"
   ]
  },
  {
   "cell_type": "code",
   "execution_count": 161,
   "metadata": {},
   "outputs": [
    {
     "name": "stdout",
     "output_type": "stream",
     "text": [
      "dict_keys(['input_ids', 'token_type_ids', 'attention_mask'])\n",
      "Shape      : (943, 128)\n",
      "Word Ids   : [ 101 2026 2293 2005 4586  100  100 1001 4633 1001 4586 1001]\n",
      "Input Mask : [1 1 1 1 1 1 1 1 1 1 1 1]\n"
     ]
    }
   ],
   "source": [
    "encoded_input = tokenizer(train_data, padding=True, truncation=True, max_length = 128, return_tensors='tf')\n",
    "encoded_validation = tokenizer(validation_data, padding=True, truncation=True, max_length = 128, return_tensors='tf')\n",
    "\n",
    "print(encoded_input.keys())\n",
    "print(f'Shape      : {encoded_input[\"input_ids\"].shape}')\n",
    "print(f'Word Ids   : {encoded_input[\"input_ids\"][0, :12]}')\n",
    "print(f'Input Mask : {encoded_input[\"attention_mask\"][0, :12]}')\n"
   ]
  },
  {
   "cell_type": "code",
   "execution_count": 162,
   "metadata": {},
   "outputs": [],
   "source": [
    "loss = tf.keras.losses.BinaryCrossentropy(from_logits=True)\n",
    "metrics = tf.metrics.BinaryAccuracy()\n",
    "optimizer = tf.keras.optimizers.Adam(learning_rate=0.001)"
   ]
  },
  {
   "cell_type": "code",
   "execution_count": 163,
   "metadata": {},
   "outputs": [],
   "source": [
    "model.compile(optimizer=optimizer,\n",
    "              loss=loss,\n",
    "              metrics=metrics)"
   ]
  },
  {
   "cell_type": "code",
   "execution_count": null,
   "metadata": {},
   "outputs": [],
   "source": []
  }
 ],
 "metadata": {
  "kernelspec": {
   "display_name": "Python 3",
   "language": "python",
   "name": "python3"
  },
  "language_info": {
   "codemirror_mode": {
    "name": "ipython",
    "version": 3
   },
   "file_extension": ".py",
   "mimetype": "text/x-python",
   "name": "python",
   "nbconvert_exporter": "python",
   "pygments_lexer": "ipython3",
   "version": "3.7.3"
  }
 },
 "nbformat": 4,
 "nbformat_minor": 4
}
