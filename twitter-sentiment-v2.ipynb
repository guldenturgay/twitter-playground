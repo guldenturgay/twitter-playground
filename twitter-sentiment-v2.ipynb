{
 "cells": [
  {
   "cell_type": "code",
   "execution_count": 1,
   "metadata": {},
   "outputs": [
    {
     "name": "stdout",
     "output_type": "stream",
     "text": [
      "Collecting tweepy\n",
      "  Downloading tweepy-3.10.0-py2.py3-none-any.whl (30 kB)\n",
      "Requirement already satisfied: six>=1.10.0 in c:\\users\\gulden\\appdata\\roaming\\python\\python37\\site-packages (from tweepy) (1.12.0)\n",
      "Requirement already satisfied: requests[socks]>=2.11.1 in c:\\users\\gulden\\anaconda3\\lib\\site-packages (from tweepy) (2.23.0)\n",
      "Requirement already satisfied: requests-oauthlib>=0.7.0 in c:\\users\\gulden\\anaconda3\\lib\\site-packages (from tweepy) (1.3.0)\n",
      "Requirement already satisfied: certifi>=2017.4.17 in c:\\users\\gulden\\anaconda3\\lib\\site-packages (from requests[socks]>=2.11.1->tweepy) (2020.4.5.1)\n",
      "Requirement already satisfied: idna<3,>=2.5 in c:\\users\\gulden\\anaconda3\\lib\\site-packages (from requests[socks]>=2.11.1->tweepy) (2.9)\n",
      "Requirement already satisfied: urllib3!=1.25.0,!=1.25.1,<1.26,>=1.21.1 in c:\\users\\gulden\\anaconda3\\lib\\site-packages (from requests[socks]>=2.11.1->tweepy) (1.25.8)\n",
      "Requirement already satisfied: chardet<4,>=3.0.2 in c:\\users\\gulden\\anaconda3\\lib\\site-packages (from requests[socks]>=2.11.1->tweepy) (3.0.4)\n",
      "Requirement already satisfied: PySocks!=1.5.7,>=1.5.6; extra == \"socks\" in c:\\users\\gulden\\anaconda3\\lib\\site-packages (from requests[socks]>=2.11.1->tweepy) (1.7.1)\n",
      "Requirement already satisfied: oauthlib>=3.0.0 in c:\\users\\gulden\\anaconda3\\lib\\site-packages (from requests-oauthlib>=0.7.0->tweepy) (3.1.0)\n",
      "Installing collected packages: tweepy\n",
      "Successfully installed tweepy-3.10.0\n"
     ]
    }
   ],
   "source": [
    "#!pip install tweepy"
   ]
  },
  {
   "cell_type": "code",
   "execution_count": 1,
   "metadata": {},
   "outputs": [],
   "source": [
    "import tweepy as tw"
   ]
  },
  {
   "cell_type": "code",
   "execution_count": 2,
   "metadata": {},
   "outputs": [],
   "source": [
    "# For more information about Twitter API credentials please read README.md file\n",
    "# Get credentials from .env file\n",
    "from dotenv import load_dotenv\n",
    "import os\n",
    "\n",
    "load_dotenv()\n",
    "API_KEY = os.getenv('API_KEY')\n",
    "API_SECRET_KEY = os.getenv('API_SECRET_KEY')\n",
    "BEARER_TOKEN = os.getenv('BEARER_TOKEN')\n",
    "\n",
    "# authenticate\n",
    "auth = tw.OAuthHandler(API_KEY, API_SECRET_KEY)\n",
    "api = tw.API(auth, wait_on_rate_limit=True)"
   ]
  },
  {
   "cell_type": "code",
   "execution_count": 3,
   "metadata": {},
   "outputs": [
    {
     "name": "stdout",
     "output_type": "stream",
     "text": [
      "Total Tweets fetched: 100\n"
     ]
    }
   ],
   "source": [
    "search_query = '#impeach -filter:retweets'\n",
    "\n",
    "tweets = tw.Cursor(api.search, q=search_query, lan='en').items(100)\n",
    "\n",
    "tweets_list = []\n",
    "for tweet in tweets:\n",
    "    tweets_list.append(tweet)\n",
    "    \n",
    "    \n",
    "print(\"Total Tweets fetched:\", len(tweets_list))"
   ]
  },
  {
   "cell_type": "code",
   "execution_count": 4,
   "metadata": {},
   "outputs": [
    {
     "data": {
      "text/html": [
       "<div>\n",
       "<style scoped>\n",
       "    .dataframe tbody tr th:only-of-type {\n",
       "        vertical-align: middle;\n",
       "    }\n",
       "\n",
       "    .dataframe tbody tr th {\n",
       "        vertical-align: top;\n",
       "    }\n",
       "\n",
       "    .dataframe thead th {\n",
       "        text-align: right;\n",
       "    }\n",
       "</style>\n",
       "<table border=\"1\" class=\"dataframe\">\n",
       "  <thead>\n",
       "    <tr style=\"text-align: right;\">\n",
       "      <th></th>\n",
       "      <th>user_name</th>\n",
       "      <th>location</th>\n",
       "      <th>user_verified</th>\n",
       "      <th>text</th>\n",
       "      <th>hashtags</th>\n",
       "    </tr>\n",
       "  </thead>\n",
       "  <tbody>\n",
       "    <tr>\n",
       "      <th>0</th>\n",
       "      <td>dean plessy</td>\n",
       "      <td></td>\n",
       "      <td>False</td>\n",
       "      <td>@SpeakerPelosi @RepAdamSchiff  According to CB...</td>\n",
       "      <td>[Impeach]</td>\n",
       "    </tr>\n",
       "    <tr>\n",
       "      <th>1</th>\n",
       "      <td>Alejandro White</td>\n",
       "      <td></td>\n",
       "      <td>False</td>\n",
       "      <td>@MeidasTouch #TrumpTreason #impeach him NOW</td>\n",
       "      <td>[TrumpTreason, impeach]</td>\n",
       "    </tr>\n",
       "    <tr>\n",
       "      <th>2</th>\n",
       "      <td>Tony Samuel - Dad/Author/Entrepreneur/Equity C...</td>\n",
       "      <td>$TalentedBooks (Cash App)</td>\n",
       "      <td>False</td>\n",
       "      <td>Capitol police stood by and did nothing! Unacc...</td>\n",
       "      <td>[TreasonAgainstAmerica, RemoveTrumpNow]</td>\n",
       "    </tr>\n",
       "    <tr>\n",
       "      <th>3</th>\n",
       "      <td>Sarah Rodewald</td>\n",
       "      <td>Boston</td>\n",
       "      <td>False</td>\n",
       "      <td>I. Completely. Agree. #25thAmendment #impeachm...</td>\n",
       "      <td>[25thAmendment, impeachment, impeach, RemoveTr...</td>\n",
       "    </tr>\n",
       "    <tr>\n",
       "      <th>4</th>\n",
       "      <td>Janet England</td>\n",
       "      <td>Allston - Brighton, Boston</td>\n",
       "      <td>False</td>\n",
       "      <td>@IlhanMN Thank you for acting to quickly #impeach</td>\n",
       "      <td>[impeach]</td>\n",
       "    </tr>\n",
       "  </tbody>\n",
       "</table>\n",
       "</div>"
      ],
      "text/plain": [
       "                                           user_name  \\\n",
       "0                                        dean plessy   \n",
       "1                                    Alejandro White   \n",
       "2  Tony Samuel - Dad/Author/Entrepreneur/Equity C...   \n",
       "3                                     Sarah Rodewald   \n",
       "4                                      Janet England   \n",
       "\n",
       "                     location  user_verified  \\\n",
       "0                                      False   \n",
       "1                                      False   \n",
       "2   $TalentedBooks (Cash App)          False   \n",
       "3                      Boston          False   \n",
       "4  Allston - Brighton, Boston          False   \n",
       "\n",
       "                                                text  \\\n",
       "0  @SpeakerPelosi @RepAdamSchiff  According to CB...   \n",
       "1        @MeidasTouch #TrumpTreason #impeach him NOW   \n",
       "2  Capitol police stood by and did nothing! Unacc...   \n",
       "3  I. Completely. Agree. #25thAmendment #impeachm...   \n",
       "4  @IlhanMN Thank you for acting to quickly #impeach   \n",
       "\n",
       "                                            hashtags  \n",
       "0                                          [Impeach]  \n",
       "1                            [TrumpTreason, impeach]  \n",
       "2            [TreasonAgainstAmerica, RemoveTrumpNow]  \n",
       "3  [25thAmendment, impeachment, impeach, RemoveTr...  \n",
       "4                                          [impeach]  "
      ]
     },
     "execution_count": 4,
     "metadata": {},
     "output_type": "execute_result"
    }
   ],
   "source": [
    "import pandas as pd\n",
    "\n",
    "tweets_df = pd.DataFrame()\n",
    "\n",
    "for t in tweets_list:\n",
    "    hashtags=[]\n",
    "    try:\n",
    "        for hashtag in t.entities['hashtags']:\n",
    "            hashtags.append(hashtag['text'])\n",
    "        text = api.get_status(id=t.id, tweet_mode = 'extended').full_text\n",
    "    except:\n",
    "        pass\n",
    "    tweets_df = tweets_df.append(pd.DataFrame({'user_name': t.user.name,\n",
    "                                               'location': t.user.location,\n",
    "                                               'user_verified':t.user.verified,\n",
    "                                               'text': text,\n",
    "                                               'hashtags': [hashtags if hashtags else None]}))\n",
    "    tweets_df = tweets_df.reset_index(drop=True)\n",
    "    \n",
    "tweets_df.head()"
   ]
  },
  {
   "cell_type": "code",
   "execution_count": null,
   "metadata": {},
   "outputs": [],
   "source": []
  }
 ],
 "metadata": {
  "kernelspec": {
   "display_name": "Python 3",
   "language": "python",
   "name": "python3"
  },
  "language_info": {
   "codemirror_mode": {
    "name": "ipython",
    "version": 3
   },
   "file_extension": ".py",
   "mimetype": "text/x-python",
   "name": "python",
   "nbconvert_exporter": "python",
   "pygments_lexer": "ipython3",
   "version": "3.7.3"
  }
 },
 "nbformat": 4,
 "nbformat_minor": 4
}
