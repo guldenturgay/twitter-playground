{
 "metadata": {
  "language_info": {
   "codemirror_mode": {
    "name": "ipython",
    "version": 3
   },
   "file_extension": ".py",
   "mimetype": "text/x-python",
   "name": "python",
   "nbconvert_exporter": "python",
   "pygments_lexer": "ipython3",
   "version": "3.7.3-final"
  },
  "orig_nbformat": 2,
  "kernelspec": {
   "name": "python3",
   "display_name": "Python 3.7.3 64-bit",
   "metadata": {
    "interpreter": {
     "hash": "f94c4a90f28a7fbd719ec002f9c893ca4c4858f29751705a64e5fc8dfb9b9070"
    }
   }
  }
 },
 "nbformat": 4,
 "nbformat_minor": 2,
 "cells": [
  {
   "source": [
    "# Data Scraping"
   ],
   "cell_type": "markdown",
   "metadata": {}
  },
  {
   "cell_type": "code",
   "execution_count": 1,
   "metadata": {},
   "outputs": [],
   "source": [
    "import tweepy as tw\n",
    "from dotenv import load_dotenv\n",
    "import pandas as pd\n",
    "import random\n",
    "import os\n",
    "import nltk\n",
    "from nltk.corpus import stopwords\n",
    "import re\n",
    "import string\n",
    "from autocorrect import Speller "
   ]
  },
  {
   "cell_type": "code",
   "execution_count": 2,
   "metadata": {},
   "outputs": [],
   "source": [
    "# For more information about Twitter API credentials please read README.md file\n",
    "# Get credentials from .env file\n",
    "\n",
    "load_dotenv()\n",
    "API_KEY = os.getenv('API_KEY')\n",
    "API_SECRET_KEY = os.getenv('API_SECRET_KEY')\n",
    "ACCESS_TOKEN = os.getenv('ACCESS_TOKEN')\n",
    "ACCESS_TOKEN_SECRET = os.getenv('ACCESS_TOKEN_SECRET')\n",
    "\n",
    "\n",
    "# authenticate\n",
    "auth = tw.OAuthHandler(API_KEY, API_SECRET_KEY)\n",
    "auth.set_access_token(ACCESS_TOKEN, ACCESS_TOKEN_SECRET)\n",
    "api = tw.API(auth, wait_on_rate_limit=True, wait_on_rate_limit_notify=True)"
   ]
  },
  {
   "cell_type": "code",
   "execution_count": 3,
   "metadata": {},
   "outputs": [
    {
     "output_type": "execute_result",
     "data": {
      "text/plain": [
       "                                          tweet_text\n",
       "0  RT @TheCodePixi: Casual reminder that mental h...\n",
       "1  That’s a wrap 🙌🏽\\n\\nA big thank you to our spe...\n",
       "2  RT @cpamzhang: I want to say to my fellow Asia...\n",
       "3  Seattle stands together to #StopAsianHate &amp...\n",
       "4  RT @JulieAFortin: 1/ In @ScienceMagazine, ther..."
      ],
      "text/html": "<div>\n<style scoped>\n    .dataframe tbody tr th:only-of-type {\n        vertical-align: middle;\n    }\n\n    .dataframe tbody tr th {\n        vertical-align: top;\n    }\n\n    .dataframe thead th {\n        text-align: right;\n    }\n</style>\n<table border=\"1\" class=\"dataframe\">\n  <thead>\n    <tr style=\"text-align: right;\">\n      <th></th>\n      <th>tweet_text</th>\n    </tr>\n  </thead>\n  <tbody>\n    <tr>\n      <th>0</th>\n      <td>RT @TheCodePixi: Casual reminder that mental h...</td>\n    </tr>\n    <tr>\n      <th>1</th>\n      <td>That’s a wrap 🙌🏽\\n\\nA big thank you to our spe...</td>\n    </tr>\n    <tr>\n      <th>2</th>\n      <td>RT @cpamzhang: I want to say to my fellow Asia...</td>\n    </tr>\n    <tr>\n      <th>3</th>\n      <td>Seattle stands together to #StopAsianHate &amp;amp...</td>\n    </tr>\n    <tr>\n      <th>4</th>\n      <td>RT @JulieAFortin: 1/ In @ScienceMagazine, ther...</td>\n    </tr>\n  </tbody>\n</table>\n</div>"
     },
     "metadata": {},
     "execution_count": 3
    }
   ],
   "source": [
    "timeline = api.home_timeline(count=1000)\n",
    "\n",
    "\n",
    "tweets = []\n",
    "for tweet in timeline:\n",
    "    text = api.get_status(id=tweet.id, tweet_mode = 'extended', lan='en').full_text\n",
    "    tweets.append(text)\n",
    "    home_timeline_tweets = pd.DataFrame(tweets, columns=['tweet_text'])\n",
    "\n",
    "home_timeline_tweets.head()"
   ]
  },
  {
   "cell_type": "code",
   "execution_count": 4,
   "metadata": {},
   "outputs": [
    {
     "output_type": "execute_result",
     "data": {
      "text/plain": [
       "\"New milestone: 1,702 donors to the Data Science Curriculum Pledge Drive. 👏\\n\\nWe'll use these funds to bring on experienced math and CS teachers to design these Jupyter Notebook projects.\\n\\nAll donations will be 100% matched by @darrellsilver.\\n\\nLearn more: https://t.co/kClO5NUFJQ https://t.co/u5N4YYcWvR\""
      ]
     },
     "metadata": {},
     "execution_count": 4
    }
   ],
   "source": [
    "home_timeline_tweets['tweet_text'][14]"
   ]
  },
  {
   "source": [
    "# Data Cleaning"
   ],
   "cell_type": "markdown",
   "metadata": {}
  },
  {
   "cell_type": "code",
   "execution_count": 5,
   "metadata": {},
   "outputs": [
    {
     "output_type": "execute_result",
     "data": {
      "text/plain": [
       "                                          tweet_text\n",
       "0  casual reminder that mental health days are va...\n",
       "1  that is a wrap a big thank you to our speakers...\n",
       "2  i want to say to my fellow asian americans who...\n",
       "3  seattle stands together to stop asian hate end...\n",
       "4  1 in there has been a marked bias against wome..."
      ],
      "text/html": "<div>\n<style scoped>\n    .dataframe tbody tr th:only-of-type {\n        vertical-align: middle;\n    }\n\n    .dataframe tbody tr th {\n        vertical-align: top;\n    }\n\n    .dataframe thead th {\n        text-align: right;\n    }\n</style>\n<table border=\"1\" class=\"dataframe\">\n  <thead>\n    <tr style=\"text-align: right;\">\n      <th></th>\n      <th>tweet_text</th>\n    </tr>\n  </thead>\n  <tbody>\n    <tr>\n      <th>0</th>\n      <td>casual reminder that mental health days are va...</td>\n    </tr>\n    <tr>\n      <th>1</th>\n      <td>that is a wrap a big thank you to our speakers...</td>\n    </tr>\n    <tr>\n      <th>2</th>\n      <td>i want to say to my fellow asian americans who...</td>\n    </tr>\n    <tr>\n      <th>3</th>\n      <td>seattle stands together to stop asian hate end...</td>\n    </tr>\n    <tr>\n      <th>4</th>\n      <td>1 in there has been a marked bias against wome...</td>\n    </tr>\n  </tbody>\n</table>\n</div>"
     },
     "metadata": {},
     "execution_count": 5
    }
   ],
   "source": [
    "# Stopwords in English language\n",
    "stopword = nltk.corpus.stopwords.words('english')\n",
    "\n",
    "# Function to clean and tokenize the data\n",
    "def clean_text(text):\n",
    "\n",
    "    #Clear out HTML characters \n",
    "    import html\n",
    "    text=html.unescape(text)\n",
    "\n",
    "    # Replace or remove the characters \n",
    "    replacement_dict={\"https?:\\/\\/.\\S+\":\"\", # Remove hyperlinks\n",
    "                      \"^RT[\\s]+\":\"\", # Remove old style retweet text \"RT\"\n",
    "                      \"\\\\n\":\"\", # Remove newline caharacter\n",
    "                      \"@\\w+.\":\"\", # Remove mentions starting with @\n",
    "                      \"#\":\"\", # Remove the hash # sign\n",
    "                      \"’\":\"'\", # Replace ’ with '\n",
    "                      \"'s\":\" is\", # Replace the contractions\n",
    "                      \"n't\":\" not\",\n",
    "                      \"'m\":\" am\",\n",
    "                      \"'ll\":\" will\",\n",
    "                      \"'d\":\" would\",\n",
    "                      \"'ve\":\n",
    "                      \" have\",\n",
    "                      \"'re\":\" are\",\n",
    "                      \"\\W+\":\" \", # Remove non-word caharacters\n",
    "                      \"^\\s+\":\"\" # Remove whitespace at the beginning\n",
    "                      } \n",
    "\n",
    "    for item in replacement_dict.keys():\n",
    "        text=re.sub(item,replacement_dict[item], text)\n",
    "        \n",
    "    # Separate the words \n",
    "    text = \" \".join([char for char in re.split(\"([A-Z][a-z]+[^A-Z]*)\",text) if char])\n",
    "\n",
    "    # Replace double spaces with one\n",
    "    text = re.sub(\"\\s+\",\" \",text)     \n",
    "\n",
    "    # Convert to lower case\n",
    "    text = text.lower()\n",
    "   \n",
    "    # Spell check \n",
    "    spell = Speller(lang='en') \n",
    "    text=spell(text)  \n",
    "    \n",
    "    # Return text\n",
    "    return text\n",
    "\n",
    "\n",
    "# Apply the function to text column\n",
    "home_timeline_tweets['tweet_text'] = home_timeline_tweets['tweet_text'].apply(lambda x: clean_text(x))\n",
    "\n",
    "# Display the dataframe\n",
    "home_timeline_tweets.head()"
   ]
  },
  {
   "cell_type": "code",
   "execution_count": 6,
   "metadata": {},
   "outputs": [
    {
     "output_type": "execute_result",
     "data": {
      "text/plain": [
       "'new milestone 1 702 donors to the data science curriculum pledge drive we will use these funds to bring on experienced math and cs teachers to design these jupiter notebook projects all donations will be 100 matched by learn more '"
      ]
     },
     "metadata": {},
     "execution_count": 6
    }
   ],
   "source": [
    "home_timeline_tweets['tweet_text'][14]"
   ]
  },
  {
   "cell_type": "code",
   "execution_count": 7,
   "metadata": {},
   "outputs": [
    {
     "output_type": "execute_result",
     "data": {
      "text/plain": [
       "                                          tweet_text\n",
       "0  casual reminder that mental health days are va...\n",
       "1  that is a wrap a big thank you to our speakers...\n",
       "2  i want to say to my fellow asian americans who...\n",
       "3  seattle stands together to stop asian hate end...\n",
       "4  1 in there has been a marked bias against wome...\n",
       "5  one of the best things that happened last year...\n",
       "6  alert misinformation is circulating about our ...\n",
       "7                                    yup this is me \n",
       "8  a harm against any one of us is a harm against...\n",
       "9  me posts hot sauce making poetry interior desi..."
      ],
      "text/html": "<div>\n<style scoped>\n    .dataframe tbody tr th:only-of-type {\n        vertical-align: middle;\n    }\n\n    .dataframe tbody tr th {\n        vertical-align: top;\n    }\n\n    .dataframe thead th {\n        text-align: right;\n    }\n</style>\n<table border=\"1\" class=\"dataframe\">\n  <thead>\n    <tr style=\"text-align: right;\">\n      <th></th>\n      <th>tweet_text</th>\n    </tr>\n  </thead>\n  <tbody>\n    <tr>\n      <th>0</th>\n      <td>casual reminder that mental health days are va...</td>\n    </tr>\n    <tr>\n      <th>1</th>\n      <td>that is a wrap a big thank you to our speakers...</td>\n    </tr>\n    <tr>\n      <th>2</th>\n      <td>i want to say to my fellow asian americans who...</td>\n    </tr>\n    <tr>\n      <th>3</th>\n      <td>seattle stands together to stop asian hate end...</td>\n    </tr>\n    <tr>\n      <th>4</th>\n      <td>1 in there has been a marked bias against wome...</td>\n    </tr>\n    <tr>\n      <th>5</th>\n      <td>one of the best things that happened last year...</td>\n    </tr>\n    <tr>\n      <th>6</th>\n      <td>alert misinformation is circulating about our ...</td>\n    </tr>\n    <tr>\n      <th>7</th>\n      <td>yup this is me</td>\n    </tr>\n    <tr>\n      <th>8</th>\n      <td>a harm against any one of us is a harm against...</td>\n    </tr>\n    <tr>\n      <th>9</th>\n      <td>me posts hot sauce making poetry interior desi...</td>\n    </tr>\n  </tbody>\n</table>\n</div>"
     },
     "metadata": {},
     "execution_count": 7
    }
   ],
   "source": [
    "home_timeline_tweets.head(10)"
   ]
  },
  {
   "cell_type": "code",
   "execution_count": 8,
   "metadata": {},
   "outputs": [],
   "source": [
    "home_timeline_tweets.to_csv('home_timeline_tweets.csv', index=False)"
   ]
  },
  {
   "cell_type": "code",
   "execution_count": null,
   "metadata": {},
   "outputs": [],
   "source": []
  }
 ]
}