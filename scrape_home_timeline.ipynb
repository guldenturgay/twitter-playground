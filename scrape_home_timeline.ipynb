{
 "metadata": {
  "language_info": {
   "codemirror_mode": {
    "name": "ipython",
    "version": 3
   },
   "file_extension": ".py",
   "mimetype": "text/x-python",
   "name": "python",
   "nbconvert_exporter": "python",
   "pygments_lexer": "ipython3",
   "version": "3.7.3-final"
  },
  "orig_nbformat": 2,
  "kernelspec": {
   "name": "python3",
   "display_name": "Python 3.7.3 64-bit",
   "metadata": {
    "interpreter": {
     "hash": "f94c4a90f28a7fbd719ec002f9c893ca4c4858f29751705a64e5fc8dfb9b9070"
    }
   }
  }
 },
 "nbformat": 4,
 "nbformat_minor": 2,
 "cells": [
  {
   "source": [
    "# Data Scraping"
   ],
   "cell_type": "markdown",
   "metadata": {}
  },
  {
   "cell_type": "code",
   "execution_count": 2,
   "metadata": {},
   "outputs": [],
   "source": [
    "import tweepy as tw\n",
    "from dotenv import load_dotenv\n",
    "import pandas as pd\n",
    "import random\n",
    "import os\n",
    "import nltk\n",
    "from nltk.corpus import stopwords\n",
    "import re\n",
    "import string\n",
    "from autocorrect import Speller "
   ]
  },
  {
   "cell_type": "code",
   "execution_count": 4,
   "metadata": {},
   "outputs": [],
   "source": [
    "# For more information about Twitter API credentials please read README.md file\n",
    "# Get credentials from .env file\n",
    "\n",
    "load_dotenv()\n",
    "API_KEY = os.getenv('API_KEY')\n",
    "API_SECRET_KEY = os.getenv('API_SECRET_KEY')\n",
    "ACCESS_TOKEN = os.getenv('ACCESS_TOKEN')\n",
    "ACCESS_TOKEN_SECRET = os.getenv('ACCESS_TOKEN_SECRET')\n",
    "\n",
    "\n",
    "# authenticate\n",
    "auth = tw.OAuthHandler(API_KEY, API_SECRET_KEY)\n",
    "auth.set_access_token(ACCESS_TOKEN, ACCESS_TOKEN_SECRET)\n",
    "api = tw.API(auth, wait_on_rate_limit=True, wait_on_rate_limit_notify=True)"
   ]
  },
  {
   "cell_type": "code",
   "execution_count": 6,
   "metadata": {},
   "outputs": [
    {
     "output_type": "execute_result",
     "data": {
      "text/plain": [
       "                                           tweet_text\n",
       "0   RT @NASAJPL: Tune into the Mars Report 🔴 A reg...\n",
       "1   NCAA accused of \"disrespectful\" treatment towa...\n",
       "2   \"This is a human issue.\" @danieldaekim on comi...\n",
       "3   RT @googlearts: Tune in tomorrow on #WorldStor...\n",
       "4   During my first week, I signed a memorandum to...\n",
       "5   RT @ericnamofficial: This week has been diffic...\n",
       "6   11 years after the Affordable Care Act was pas...\n",
       "7   .@ericnamofficial: \"If you're surprised by the...\n",
       "8   ICYMI: We hosted #Include2021 and brought toge...\n",
       "9         100 million shots in arms…Hugs are coming.💕\n",
       "10  This afternoon, Vice President Harris and I ar...\n",
       "11  Is working from home starting to be a real pai...\n",
       "12  The Atlanta shootings fit into a long legacy o...\n",
       "13  We’re building technology that helps people do...\n",
       "14  What’s going on ~250 miles above Earth? \\n\\n🤩 ...\n",
       "15  U.S. Rep. Joaquin Castro speaks about the impo...\n",
       "16  U.S. Rep. Joaquin Castro on what Democratic po...\n",
       "17  I’m answering your questions now on @reddit: h...\n",
       "18  \"We need to continue to amplify and elevate th...\n",
       "19  \"It is dangerous to speak up in India today.\" ..."
      ],
      "text/html": "<div>\n<style scoped>\n    .dataframe tbody tr th:only-of-type {\n        vertical-align: middle;\n    }\n\n    .dataframe tbody tr th {\n        vertical-align: top;\n    }\n\n    .dataframe thead th {\n        text-align: right;\n    }\n</style>\n<table border=\"1\" class=\"dataframe\">\n  <thead>\n    <tr style=\"text-align: right;\">\n      <th></th>\n      <th>tweet_text</th>\n    </tr>\n  </thead>\n  <tbody>\n    <tr>\n      <th>0</th>\n      <td>RT @NASAJPL: Tune into the Mars Report 🔴 A reg...</td>\n    </tr>\n    <tr>\n      <th>1</th>\n      <td>NCAA accused of \"disrespectful\" treatment towa...</td>\n    </tr>\n    <tr>\n      <th>2</th>\n      <td>\"This is a human issue.\" @danieldaekim on comi...</td>\n    </tr>\n    <tr>\n      <th>3</th>\n      <td>RT @googlearts: Tune in tomorrow on #WorldStor...</td>\n    </tr>\n    <tr>\n      <th>4</th>\n      <td>During my first week, I signed a memorandum to...</td>\n    </tr>\n    <tr>\n      <th>5</th>\n      <td>RT @ericnamofficial: This week has been diffic...</td>\n    </tr>\n    <tr>\n      <th>6</th>\n      <td>11 years after the Affordable Care Act was pas...</td>\n    </tr>\n    <tr>\n      <th>7</th>\n      <td>.@ericnamofficial: \"If you're surprised by the...</td>\n    </tr>\n    <tr>\n      <th>8</th>\n      <td>ICYMI: We hosted #Include2021 and brought toge...</td>\n    </tr>\n    <tr>\n      <th>9</th>\n      <td>100 million shots in arms…Hugs are coming.💕</td>\n    </tr>\n    <tr>\n      <th>10</th>\n      <td>This afternoon, Vice President Harris and I ar...</td>\n    </tr>\n    <tr>\n      <th>11</th>\n      <td>Is working from home starting to be a real pai...</td>\n    </tr>\n    <tr>\n      <th>12</th>\n      <td>The Atlanta shootings fit into a long legacy o...</td>\n    </tr>\n    <tr>\n      <th>13</th>\n      <td>We’re building technology that helps people do...</td>\n    </tr>\n    <tr>\n      <th>14</th>\n      <td>What’s going on ~250 miles above Earth? \\n\\n🤩 ...</td>\n    </tr>\n    <tr>\n      <th>15</th>\n      <td>U.S. Rep. Joaquin Castro speaks about the impo...</td>\n    </tr>\n    <tr>\n      <th>16</th>\n      <td>U.S. Rep. Joaquin Castro on what Democratic po...</td>\n    </tr>\n    <tr>\n      <th>17</th>\n      <td>I’m answering your questions now on @reddit: h...</td>\n    </tr>\n    <tr>\n      <th>18</th>\n      <td>\"We need to continue to amplify and elevate th...</td>\n    </tr>\n    <tr>\n      <th>19</th>\n      <td>\"It is dangerous to speak up in India today.\" ...</td>\n    </tr>\n  </tbody>\n</table>\n</div>"
     },
     "metadata": {},
     "execution_count": 6
    }
   ],
   "source": [
    "timeline = api.home_timeline()\n",
    "\n",
    "\n",
    "tweets = []\n",
    "for tweet in timeline:\n",
    "    text = api.get_status(id=tweet.id, tweet_mode = 'extended').full_text\n",
    "    tweets.append(text)\n",
    "    home_timeline_tweets = pd.DataFrame(tweets, columns=['tweet_text'])\n",
    "\n",
    "home_timeline_tweets"
   ]
  },
  {
   "cell_type": "code",
   "execution_count": 8,
   "metadata": {},
   "outputs": [
    {
     "output_type": "execute_result",
     "data": {
      "text/plain": [
       "'What’s going on ~250 miles above Earth? \\n\\n🤩 @AstroVicGlover &amp; @Astro_illini go for a spacewalk\\n🌱 @Astro_Soichi completes the Asian Herbs in Space Investigation \\n\\nAnd @NASAEarth’s Tournament Earth begins! Get the details in #SpaceToGround: https://t.co/JX48si5UAJ https://t.co/LXgOXLW9yX'"
      ]
     },
     "metadata": {},
     "execution_count": 8
    }
   ],
   "source": [
    "home_timeline_tweets['tweet_text'][14]"
   ]
  },
  {
   "source": [
    "# Data Cleaning"
   ],
   "cell_type": "markdown",
   "metadata": {}
  },
  {
   "cell_type": "code",
   "execution_count": 10,
   "metadata": {},
   "outputs": [
    {
     "output_type": "execute_result",
     "data": {
      "text/plain": [
       "                                           tweet_text\n",
       "0   tune into the mars report a regular update on ...\n",
       "1   ncaa accused of disrespectful treatment toward...\n",
       "2   this is a human issue on coming together to co...\n",
       "3   tune in tomorrow on world story telling day fo...\n",
       "4   during my first week i signed a memorandum to ...\n",
       "5   this week has been difficult for many of us i ...\n",
       "6   11 years after the affordable care act was pas...\n",
       "7   if you are surprised by the anti asian violenc...\n",
       "8   ichi we hosted include2021 and brought togethe...\n",
       "9          100 million shots in arms hugs are coming \n",
       "10  this afternoon vice president harris and i are...\n",
       "11  is working from home starting to be a real pai...\n",
       "12  the atlanta shootings fit into a long legacy o...\n",
       "13  we are building technology that helps people d...\n",
       "14  what is going on 250 miles above earth go for ...\n",
       "15  u s rep joaquin castro speaks about the import...\n",
       "16  u s rep joaquin castro on what democratic poli...\n",
       "17              i am answering your questions now on \n",
       "18  we need to continue to amplify and elevate the...\n",
       "19  it is dangerous to speak up in india today wha..."
      ],
      "text/html": "<div>\n<style scoped>\n    .dataframe tbody tr th:only-of-type {\n        vertical-align: middle;\n    }\n\n    .dataframe tbody tr th {\n        vertical-align: top;\n    }\n\n    .dataframe thead th {\n        text-align: right;\n    }\n</style>\n<table border=\"1\" class=\"dataframe\">\n  <thead>\n    <tr style=\"text-align: right;\">\n      <th></th>\n      <th>tweet_text</th>\n    </tr>\n  </thead>\n  <tbody>\n    <tr>\n      <th>0</th>\n      <td>tune into the mars report a regular update on ...</td>\n    </tr>\n    <tr>\n      <th>1</th>\n      <td>ncaa accused of disrespectful treatment toward...</td>\n    </tr>\n    <tr>\n      <th>2</th>\n      <td>this is a human issue on coming together to co...</td>\n    </tr>\n    <tr>\n      <th>3</th>\n      <td>tune in tomorrow on world story telling day fo...</td>\n    </tr>\n    <tr>\n      <th>4</th>\n      <td>during my first week i signed a memorandum to ...</td>\n    </tr>\n    <tr>\n      <th>5</th>\n      <td>this week has been difficult for many of us i ...</td>\n    </tr>\n    <tr>\n      <th>6</th>\n      <td>11 years after the affordable care act was pas...</td>\n    </tr>\n    <tr>\n      <th>7</th>\n      <td>if you are surprised by the anti asian violenc...</td>\n    </tr>\n    <tr>\n      <th>8</th>\n      <td>ichi we hosted include2021 and brought togethe...</td>\n    </tr>\n    <tr>\n      <th>9</th>\n      <td>100 million shots in arms hugs are coming</td>\n    </tr>\n    <tr>\n      <th>10</th>\n      <td>this afternoon vice president harris and i are...</td>\n    </tr>\n    <tr>\n      <th>11</th>\n      <td>is working from home starting to be a real pai...</td>\n    </tr>\n    <tr>\n      <th>12</th>\n      <td>the atlanta shootings fit into a long legacy o...</td>\n    </tr>\n    <tr>\n      <th>13</th>\n      <td>we are building technology that helps people d...</td>\n    </tr>\n    <tr>\n      <th>14</th>\n      <td>what is going on 250 miles above earth go for ...</td>\n    </tr>\n    <tr>\n      <th>15</th>\n      <td>u s rep joaquin castro speaks about the import...</td>\n    </tr>\n    <tr>\n      <th>16</th>\n      <td>u s rep joaquin castro on what democratic poli...</td>\n    </tr>\n    <tr>\n      <th>17</th>\n      <td>i am answering your questions now on</td>\n    </tr>\n    <tr>\n      <th>18</th>\n      <td>we need to continue to amplify and elevate the...</td>\n    </tr>\n    <tr>\n      <th>19</th>\n      <td>it is dangerous to speak up in india today wha...</td>\n    </tr>\n  </tbody>\n</table>\n</div>"
     },
     "metadata": {},
     "execution_count": 10
    }
   ],
   "source": [
    "# Stopwords in English language\n",
    "stopword = nltk.corpus.stopwords.words('english')\n",
    "\n",
    "# Function to clean and tokenize the data\n",
    "def clean_text(text):\n",
    "\n",
    "    #Clear out HTML characters \n",
    "    import html\n",
    "    text=html.unescape(text)\n",
    "\n",
    "    # Replace or remove the characters \n",
    "    replacement_dict={\"https?:\\/\\/.\\S+\":\"\", # Remove hyperlinks\n",
    "                      \"^RT[\\s]+\":\"\", # Remove old style retweet text \"RT\"\n",
    "                      \"\\\\n\":\"\", # Remove newline caharacter\n",
    "                      \"@\\w+.\":\"\", # Remove mentions starting with @\n",
    "                      \"#\":\"\", # Remove the hash # sign\n",
    "                      \"’\":\"'\", # Replace ’ with '\n",
    "                      \"'s\":\" is\", # Replace the contractions\n",
    "                      \"n't\":\" not\",\n",
    "                      \"'m\":\" am\",\n",
    "                      \"'ll\":\" will\",\n",
    "                      \"'d\":\" would\",\n",
    "                      \"'ve\":\n",
    "                      \" have\",\n",
    "                      \"'re\":\" are\",\n",
    "                      \"\\W+\":\" \", # Remove non-word caharacters\n",
    "                      \"^\\s+\":\"\" # Remove whitespace at the beginning\n",
    "                      } \n",
    "\n",
    "    for item in replacement_dict.keys():\n",
    "        text=re.sub(item,replacement_dict[item], text)\n",
    "        \n",
    "    # Separate the words \n",
    "    text = \" \".join([char for char in re.split(\"([A-Z][a-z]+[^A-Z]*)\",text) if char])\n",
    "\n",
    "    # Replace double spaces with one\n",
    "    text = re.sub(\"\\s+\",\" \",text)     \n",
    "\n",
    "    # Convert to lower case\n",
    "    text = text.lower()\n",
    "   \n",
    "    # Spell check \n",
    "    spell = Speller(lang='en') \n",
    "    text=spell(text)  \n",
    "    \n",
    "    # Return text\n",
    "    return text\n",
    "\n",
    "\n",
    "# Apply the function to text column\n",
    "home_timeline_tweets['tweet_text'] = home_timeline_tweets['tweet_text'].apply(lambda x: clean_text(x))\n",
    "\n",
    "# Display the dataframe\n",
    "home_timeline_tweets"
   ]
  },
  {
   "cell_type": "code",
   "execution_count": 17,
   "metadata": {},
   "outputs": [
    {
     "output_type": "execute_result",
     "data": {
      "text/plain": [
       "'what is going on 250 miles above earth go for a spacewalk completes the asian herbs in space investigation and s tournament earth begins get the details in space to ground '"
      ]
     },
     "metadata": {},
     "execution_count": 17
    }
   ],
   "source": [
    "home_timeline_tweets['tweet_text'][14]"
   ]
  },
  {
   "cell_type": "code",
   "execution_count": null,
   "metadata": {},
   "outputs": [],
   "source": []
  }
 ]
}