{
 "metadata": {
  "language_info": {
   "codemirror_mode": {
    "name": "ipython",
    "version": 3
   },
   "file_extension": ".py",
   "mimetype": "text/x-python",
   "name": "python",
   "nbconvert_exporter": "python",
   "pygments_lexer": "ipython3",
   "version": "3.7.3-final"
  },
  "orig_nbformat": 2,
  "kernelspec": {
   "name": "python3",
   "display_name": "Python 3.7.3 64-bit",
   "metadata": {
    "interpreter": {
     "hash": "f94c4a90f28a7fbd719ec002f9c893ca4c4858f29751705a64e5fc8dfb9b9070"
    }
   }
  }
 },
 "nbformat": 4,
 "nbformat_minor": 2,
 "cells": [
  {
   "cell_type": "code",
   "execution_count": 1,
   "metadata": {},
   "outputs": [],
   "source": [
    "import tensorflow as tf\n",
    "import pandas as pd\n",
    "import numpy as np\n",
    "from tensorflow import keras"
   ]
  },
  {
   "cell_type": "code",
   "execution_count": 2,
   "metadata": {},
   "outputs": [],
   "source": [
    "model = keras.models.load_model('sentiment_analysis')"
   ]
  },
  {
   "cell_type": "code",
   "execution_count": 3,
   "metadata": {},
   "outputs": [
    {
     "output_type": "execute_result",
     "data": {
      "text/plain": [
       "                                          tweet_text\n",
       "0  americans should never have to fear discrimina...\n",
       "1  eleven years ago the affordable care act becam...\n",
       "2  one year ago we had to close the west seattle ...\n",
       "3  i am building a referral list of vetted read n...\n",
       "4  programmed 3 hours of experimental movies for ..."
      ],
      "text/html": "<div>\n<style scoped>\n    .dataframe tbody tr th:only-of-type {\n        vertical-align: middle;\n    }\n\n    .dataframe tbody tr th {\n        vertical-align: top;\n    }\n\n    .dataframe thead th {\n        text-align: right;\n    }\n</style>\n<table border=\"1\" class=\"dataframe\">\n  <thead>\n    <tr style=\"text-align: right;\">\n      <th></th>\n      <th>tweet_text</th>\n    </tr>\n  </thead>\n  <tbody>\n    <tr>\n      <th>0</th>\n      <td>americans should never have to fear discrimina...</td>\n    </tr>\n    <tr>\n      <th>1</th>\n      <td>eleven years ago the affordable care act becam...</td>\n    </tr>\n    <tr>\n      <th>2</th>\n      <td>one year ago we had to close the west seattle ...</td>\n    </tr>\n    <tr>\n      <th>3</th>\n      <td>i am building a referral list of vetted read n...</td>\n    </tr>\n    <tr>\n      <th>4</th>\n      <td>programmed 3 hours of experimental movies for ...</td>\n    </tr>\n  </tbody>\n</table>\n</div>"
     },
     "metadata": {},
     "execution_count": 3
    }
   ],
   "source": [
    "home_timeline_tweets = pd.read_csv('home_timeline_tweets.csv')\n",
    "home_timeline_tweets.head()"
   ]
  },
  {
   "cell_type": "code",
   "execution_count": 4,
   "metadata": {},
   "outputs": [
    {
     "output_type": "execute_result",
     "data": {
      "text/plain": [
       "                                          tweet_text  sentiment_score\n",
       "0  americans should never have to fear discrimina...     5.848151e-06\n",
       "1  eleven years ago the affordable care act becam...     9.995351e-01\n",
       "2  one year ago we had to close the west seattle ...     9.999979e-01\n",
       "3  i am building a referral list of vetted read n...     1.459718e-04\n",
       "4  programmed 3 hours of experimental movies for ...     1.697659e-03\n",
       "5  our ingenuity mars helicopter has to meet a se...     9.999998e-01\n",
       "6  compliments resonate with me because i am 22 a...     9.951620e-01\n",
       "7  remember when i got that one dm request callin...     9.999240e-01\n",
       "8  but i am doing this i am all in something good...     2.879987e-06\n",
       "9  i spoke to the beauty brand consultant she was...     2.436549e-08"
      ],
      "text/html": "<div>\n<style scoped>\n    .dataframe tbody tr th:only-of-type {\n        vertical-align: middle;\n    }\n\n    .dataframe tbody tr th {\n        vertical-align: top;\n    }\n\n    .dataframe thead th {\n        text-align: right;\n    }\n</style>\n<table border=\"1\" class=\"dataframe\">\n  <thead>\n    <tr style=\"text-align: right;\">\n      <th></th>\n      <th>tweet_text</th>\n      <th>sentiment_score</th>\n    </tr>\n  </thead>\n  <tbody>\n    <tr>\n      <th>0</th>\n      <td>americans should never have to fear discrimina...</td>\n      <td>5.848151e-06</td>\n    </tr>\n    <tr>\n      <th>1</th>\n      <td>eleven years ago the affordable care act becam...</td>\n      <td>9.995351e-01</td>\n    </tr>\n    <tr>\n      <th>2</th>\n      <td>one year ago we had to close the west seattle ...</td>\n      <td>9.999979e-01</td>\n    </tr>\n    <tr>\n      <th>3</th>\n      <td>i am building a referral list of vetted read n...</td>\n      <td>1.459718e-04</td>\n    </tr>\n    <tr>\n      <th>4</th>\n      <td>programmed 3 hours of experimental movies for ...</td>\n      <td>1.697659e-03</td>\n    </tr>\n    <tr>\n      <th>5</th>\n      <td>our ingenuity mars helicopter has to meet a se...</td>\n      <td>9.999998e-01</td>\n    </tr>\n    <tr>\n      <th>6</th>\n      <td>compliments resonate with me because i am 22 a...</td>\n      <td>9.951620e-01</td>\n    </tr>\n    <tr>\n      <th>7</th>\n      <td>remember when i got that one dm request callin...</td>\n      <td>9.999240e-01</td>\n    </tr>\n    <tr>\n      <th>8</th>\n      <td>but i am doing this i am all in something good...</td>\n      <td>2.879987e-06</td>\n    </tr>\n    <tr>\n      <th>9</th>\n      <td>i spoke to the beauty brand consultant she was...</td>\n      <td>2.436549e-08</td>\n    </tr>\n  </tbody>\n</table>\n</div>"
     },
     "metadata": {},
     "execution_count": 4
    }
   ],
   "source": [
    "home_timeline_tweets['sentiment_score'] = home_timeline_tweets['tweet_text'].apply(lambda x: model.predict(np.array([str(x)])))\n",
    "home_timeline_tweets['sentiment_score'] = home_timeline_tweets['sentiment_score'].apply(lambda x: x[0][0])\n",
    "\n",
    "home_timeline_tweets.head(10)"
   ]
  },
  {
   "cell_type": "code",
   "execution_count": null,
   "metadata": {},
   "outputs": [],
   "source": []
  }
 ]
}